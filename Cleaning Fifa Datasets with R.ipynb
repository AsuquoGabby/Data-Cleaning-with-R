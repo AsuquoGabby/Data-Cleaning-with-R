{
 "cells": [
  {
   "cell_type": "markdown",
   "id": "e1a88232-3193-463c-88e3-4ac7bbc461a4",
   "metadata": {},
   "source": [
    "# Cleaning Fifa Datasets in R"
   ]
  },
  {
   "cell_type": "markdown",
   "id": "7bf83096-373c-4f54-89e2-69662a421c5d",
   "metadata": {},
   "source": [
    "The main purpose of data cleaning is to correct errors, standardize data formats, and address missing values, ensuring that the dataset is reliable and valid. It involves detecting and managing outliers, transforming data types for compatibility with analytical tools, and validating data against defined rules. "
   ]
  },
  {
   "cell_type": "markdown",
   "id": "1bd2c80b-74c4-4ae3-991a-2dd22f2b4ca9",
   "metadata": {},
   "source": [
    "## About Datasets"
   ]
  },
  {
   "cell_type": "markdown",
   "id": "dd7ad324-76cd-472e-b8cd-ede70cb5fcb7",
   "metadata": {},
   "source": [
    "The FIFA datasets contain players data ranging from Name, Nationality, Age, Club, Contract and others details about the players.it was downloaded from Kaggle websites. The datasets Contain 18798 rows and 77 columns.  "
   ]
  },
  {
   "cell_type": "markdown",
   "id": "dfe6fd8c-d8da-49dd-a1cb-079c5a1b997f",
   "metadata": {},
   "source": [
    "### Data Columns"
   ]
  },
  {
   "cell_type": "markdown",
   "id": "33f7964d-af29-44bc-80b6-b8bdb3a487e6",
   "metadata": {},
   "source": [
    "ID | Name |LongName\n",
    "photoUrl |playerUrl |Nationality\n",
    "Age |Overall Rating |Player potential\n",
    "Club |Start Data |End Date\n",
    "Positions |Height |Weight\n",
    "Preferred Foot |BOV |Best Position\n",
    "Joined |Loan Date End |Value \n",
    "Wage  |Release Clause |Attacking\n",
    "Crossing |Finishing |Heading Accuracy\n",
    "Short Passing |Volleys |Skill\n",
    "Dribbling |Curve |FK Accuracy\n",
    "Long Passing |Ball Control |Movement\n",
    "Acceleration |Sprint Speed |Agility\n",
    "Reactions |Balance |Power\n",
    "Shot Power |Jumping |Stamina\n",
    "Strength |Long Shots |Mentality\n",
    "Aggression |Interceptions |Positioning\n",
    "Vision |Penalties |Composure\n",
    "Defending |Marking |Standing Tackle\n",
    "Sliding Tackle |Goalkeeping |GK Diving\n",
    "GK Handling |GK Kicking |GK Positioning\n",
    "GK Reflexes |Total Stats |Base Stats\n",
    "W/F |SM |A/W\n",
    "D/W |IR |PA\n",
    "SHO |PAS |DRI\n",
    "DEF |PHY |Hits\n",
    "\n"
   ]
  },
  {
   "cell_type": "markdown",
   "id": "b78e5dc4-1a15-47e5-8881-10cf4e4d2162",
   "metadata": {},
   "source": [
    "### Import the necessary libraries to clean the datasets "
   ]
  },
  {
   "cell_type": "code",
   "execution_count": null,
   "id": "45f17cd3-5e0a-4396-93fa-57eaf0390eb5",
   "metadata": {},
   "outputs": [],
   "source": [
    "library(tidyverse)"
   ]
  },
  {
   "cell_type": "markdown",
   "id": "1533636a-e879-4fda-8601-83f55494f9df",
   "metadata": {},
   "source": [
    "## Load the datasets into R "
   ]
  },
  {
   "cell_type": "code",
   "execution_count": 2,
   "id": "dcf57faa-600a-4b81-b93d-c6e0d1da854b",
   "metadata": {},
   "outputs": [],
   "source": [
    "# sets directory\n",
    "setwd(\"C:/Users/HP/Documents/Everything R\")"
   ]
  },
  {
   "cell_type": "code",
   "execution_count": 3,
   "id": "9808536c-9cd0-4c00-ac85-1195a39ab621",
   "metadata": {},
   "outputs": [],
   "source": [
    "#load data \n",
    "fifa_datasets <- read.csv(\"fifa21 raw data v2.csv\")"
   ]
  },
  {
   "cell_type": "markdown",
   "id": "a13f6492-b2f0-428b-a1bf-75861cab983d",
   "metadata": {},
   "source": [
    "A duplicate of the datasets was made to serve as backup "
   ]
  },
  {
   "cell_type": "code",
   "execution_count": 4,
   "id": "a1ae9570-a883-4042-b798-5ec6cafef1a5",
   "metadata": {},
   "outputs": [],
   "source": [
    "fifa_datasets2 <- fifa_datasets"
   ]
  },
  {
   "cell_type": "markdown",
   "id": "2be74b5c-8b07-445a-9c8d-f909f01b044f",
   "metadata": {},
   "source": [
    "### Brief Overview of Datasets "
   ]
  },
  {
   "cell_type": "markdown",
   "id": "b5611a8c-5448-4640-9b03-c8d0cb447d3c",
   "metadata": {},
   "source": [
    "View the first few rows of the datasets to have a better understanding of the data "
   ]
  },
  {
   "cell_type": "code",
   "execution_count": 5,
   "id": "850f7e80-a159-481b-9a40-51d07508762a",
   "metadata": {},
   "outputs": [
    {
     "data": {
      "text/html": [
       "<table class=\"dataframe\">\n",
       "<caption>A data.frame: 6 × 77</caption>\n",
       "<thead>\n",
       "\t<tr><th></th><th scope=col>ID</th><th scope=col>Name</th><th scope=col>LongName</th><th scope=col>photoUrl</th><th scope=col>playerUrl</th><th scope=col>Nationality</th><th scope=col>Age</th><th scope=col>X.OVA</th><th scope=col>POT</th><th scope=col>Club</th><th scope=col>⋯</th><th scope=col>A.W</th><th scope=col>D.W</th><th scope=col>IR</th><th scope=col>PAC</th><th scope=col>SHO</th><th scope=col>PAS</th><th scope=col>DRI</th><th scope=col>DEF</th><th scope=col>PHY</th><th scope=col>Hits</th></tr>\n",
       "\t<tr><th></th><th scope=col>&lt;int&gt;</th><th scope=col>&lt;chr&gt;</th><th scope=col>&lt;chr&gt;</th><th scope=col>&lt;chr&gt;</th><th scope=col>&lt;chr&gt;</th><th scope=col>&lt;chr&gt;</th><th scope=col>&lt;int&gt;</th><th scope=col>&lt;int&gt;</th><th scope=col>&lt;int&gt;</th><th scope=col>&lt;chr&gt;</th><th scope=col>⋯</th><th scope=col>&lt;chr&gt;</th><th scope=col>&lt;chr&gt;</th><th scope=col>&lt;chr&gt;</th><th scope=col>&lt;int&gt;</th><th scope=col>&lt;int&gt;</th><th scope=col>&lt;int&gt;</th><th scope=col>&lt;int&gt;</th><th scope=col>&lt;int&gt;</th><th scope=col>&lt;int&gt;</th><th scope=col>&lt;chr&gt;</th></tr>\n",
       "</thead>\n",
       "<tbody>\n",
       "\t<tr><th scope=row>1</th><td>158023</td><td>L. Messi         </td><td>Lionel Messi                </td><td>https://cdn.sofifa.com/players/158/023/21_60.png</td><td>http://sofifa.com/player/158023/lionel-messi/210006/              </td><td>Argentina</td><td>33</td><td>93</td><td>93</td><td>\n",
       "\n",
       "\n",
       "\n",
       "FC Barcelona       </td><td>⋯</td><td>Medium</td><td>Low   </td><td>5 ★</td><td>85</td><td>92</td><td>91</td><td>95</td><td>38</td><td>65</td><td>771</td></tr>\n",
       "\t<tr><th scope=row>2</th><td> 20801</td><td>Cristiano Ronaldo</td><td>C. Ronaldo dos Santos Aveiro</td><td>https://cdn.sofifa.com/players/020/801/21_60.png</td><td>http://sofifa.com/player/20801/c-ronaldo-dos-santos-aveiro/210006/</td><td>Portugal </td><td>35</td><td>92</td><td>92</td><td>\n",
       "\n",
       "\n",
       "\n",
       "Juventus           </td><td>⋯</td><td>High  </td><td>Low   </td><td>5 ★</td><td>89</td><td>93</td><td>81</td><td>89</td><td>35</td><td>77</td><td>562</td></tr>\n",
       "\t<tr><th scope=row>3</th><td>200389</td><td>J. Oblak         </td><td>Jan Oblak                   </td><td>https://cdn.sofifa.com/players/200/389/21_60.png</td><td>http://sofifa.com/player/200389/jan-oblak/210006/                 </td><td>Slovenia </td><td>27</td><td>91</td><td>93</td><td>\n",
       "\n",
       "\n",
       "\n",
       "Atlético Madrid    </td><td>⋯</td><td>Medium</td><td>Medium</td><td>3 ★</td><td>87</td><td>92</td><td>78</td><td>90</td><td>52</td><td>90</td><td>150</td></tr>\n",
       "\t<tr><th scope=row>4</th><td>192985</td><td>K. De Bruyne     </td><td>Kevin De Bruyne             </td><td>https://cdn.sofifa.com/players/192/985/21_60.png</td><td>http://sofifa.com/player/192985/kevin-de-bruyne/210006/           </td><td>Belgium  </td><td>29</td><td>91</td><td>91</td><td>\n",
       "\n",
       "\n",
       "\n",
       "Manchester City    </td><td>⋯</td><td>High  </td><td>High  </td><td>4 ★</td><td>76</td><td>86</td><td>93</td><td>88</td><td>64</td><td>78</td><td>207</td></tr>\n",
       "\t<tr><th scope=row>5</th><td>190871</td><td>Neymar Jr        </td><td>Neymar da Silva Santos Jr.  </td><td>https://cdn.sofifa.com/players/190/871/21_60.png</td><td>http://sofifa.com/player/190871/neymar-da-silva-santos-jr/210006/ </td><td>Brazil   </td><td>28</td><td>91</td><td>91</td><td>\n",
       "\n",
       "\n",
       "\n",
       "Paris Saint-Germain</td><td>⋯</td><td>High  </td><td>Medium</td><td>5 ★</td><td>91</td><td>85</td><td>86</td><td>94</td><td>36</td><td>59</td><td>595</td></tr>\n",
       "\t<tr><th scope=row>6</th><td>188545</td><td>R. Lewandowski   </td><td>Robert Lewandowski          </td><td>https://cdn.sofifa.com/players/188/545/21_60.png</td><td>http://sofifa.com/player/188545/robert-lewandowski/210006/        </td><td>Poland   </td><td>31</td><td>91</td><td>91</td><td>\n",
       "\n",
       "\n",
       "\n",
       "FC Bayern München  </td><td>⋯</td><td>High  </td><td>Medium</td><td>4 ★</td><td>78</td><td>91</td><td>78</td><td>85</td><td>43</td><td>82</td><td>248</td></tr>\n",
       "</tbody>\n",
       "</table>\n"
      ],
      "text/latex": [
       "A data.frame: 6 × 77\n",
       "\\begin{tabular}{r|lllllllllllllllllllll}\n",
       "  & ID & Name & LongName & photoUrl & playerUrl & Nationality & Age & X.OVA & POT & Club & ⋯ & A.W & D.W & IR & PAC & SHO & PAS & DRI & DEF & PHY & Hits\\\\\n",
       "  & <int> & <chr> & <chr> & <chr> & <chr> & <chr> & <int> & <int> & <int> & <chr> & ⋯ & <chr> & <chr> & <chr> & <int> & <int> & <int> & <int> & <int> & <int> & <chr>\\\\\n",
       "\\hline\n",
       "\t1 & 158023 & L. Messi          & Lionel Messi                 & https://cdn.sofifa.com/players/158/023/21\\_60.png & http://sofifa.com/player/158023/lionel-messi/210006/               & Argentina & 33 & 93 & 93 & \n",
       "\n",
       "\n",
       "\n",
       "FC Barcelona        & ⋯ & Medium & Low    & 5 ★ & 85 & 92 & 91 & 95 & 38 & 65 & 771\\\\\n",
       "\t2 &  20801 & Cristiano Ronaldo & C. Ronaldo dos Santos Aveiro & https://cdn.sofifa.com/players/020/801/21\\_60.png & http://sofifa.com/player/20801/c-ronaldo-dos-santos-aveiro/210006/ & Portugal  & 35 & 92 & 92 & \n",
       "\n",
       "\n",
       "\n",
       "Juventus            & ⋯ & High   & Low    & 5 ★ & 89 & 93 & 81 & 89 & 35 & 77 & 562\\\\\n",
       "\t3 & 200389 & J. Oblak          & Jan Oblak                    & https://cdn.sofifa.com/players/200/389/21\\_60.png & http://sofifa.com/player/200389/jan-oblak/210006/                  & Slovenia  & 27 & 91 & 93 & \n",
       "\n",
       "\n",
       "\n",
       "Atlético Madrid     & ⋯ & Medium & Medium & 3 ★ & 87 & 92 & 78 & 90 & 52 & 90 & 150\\\\\n",
       "\t4 & 192985 & K. De Bruyne      & Kevin De Bruyne              & https://cdn.sofifa.com/players/192/985/21\\_60.png & http://sofifa.com/player/192985/kevin-de-bruyne/210006/            & Belgium   & 29 & 91 & 91 & \n",
       "\n",
       "\n",
       "\n",
       "Manchester City     & ⋯ & High   & High   & 4 ★ & 76 & 86 & 93 & 88 & 64 & 78 & 207\\\\\n",
       "\t5 & 190871 & Neymar Jr         & Neymar da Silva Santos Jr.   & https://cdn.sofifa.com/players/190/871/21\\_60.png & http://sofifa.com/player/190871/neymar-da-silva-santos-jr/210006/  & Brazil    & 28 & 91 & 91 & \n",
       "\n",
       "\n",
       "\n",
       "Paris Saint-Germain & ⋯ & High   & Medium & 5 ★ & 91 & 85 & 86 & 94 & 36 & 59 & 595\\\\\n",
       "\t6 & 188545 & R. Lewandowski    & Robert Lewandowski           & https://cdn.sofifa.com/players/188/545/21\\_60.png & http://sofifa.com/player/188545/robert-lewandowski/210006/         & Poland    & 31 & 91 & 91 & \n",
       "\n",
       "\n",
       "\n",
       "FC Bayern München   & ⋯ & High   & Medium & 4 ★ & 78 & 91 & 78 & 85 & 43 & 82 & 248\\\\\n",
       "\\end{tabular}\n"
      ],
      "text/markdown": [
       "\n",
       "A data.frame: 6 × 77\n",
       "\n",
       "| <!--/--> | ID &lt;int&gt; | Name &lt;chr&gt; | LongName &lt;chr&gt; | photoUrl &lt;chr&gt; | playerUrl &lt;chr&gt; | Nationality &lt;chr&gt; | Age &lt;int&gt; | X.OVA &lt;int&gt; | POT &lt;int&gt; | Club &lt;chr&gt; | ⋯ ⋯ | A.W &lt;chr&gt; | D.W &lt;chr&gt; | IR &lt;chr&gt; | PAC &lt;int&gt; | SHO &lt;int&gt; | PAS &lt;int&gt; | DRI &lt;int&gt; | DEF &lt;int&gt; | PHY &lt;int&gt; | Hits &lt;chr&gt; |\n",
       "|---|---|---|---|---|---|---|---|---|---|---|---|---|---|---|---|---|---|---|---|---|---|\n",
       "| 1 | 158023 | L. Messi          | Lionel Messi                 | https://cdn.sofifa.com/players/158/023/21_60.png | http://sofifa.com/player/158023/lionel-messi/210006/               | Argentina | 33 | 93 | 93 | \n",
       "\n",
       "\n",
       "\n",
       "FC Barcelona        | ⋯ | Medium | Low    | 5 ★ | 85 | 92 | 91 | 95 | 38 | 65 | 771 |\n",
       "| 2 |  20801 | Cristiano Ronaldo | C. Ronaldo dos Santos Aveiro | https://cdn.sofifa.com/players/020/801/21_60.png | http://sofifa.com/player/20801/c-ronaldo-dos-santos-aveiro/210006/ | Portugal  | 35 | 92 | 92 | \n",
       "\n",
       "\n",
       "\n",
       "Juventus            | ⋯ | High   | Low    | 5 ★ | 89 | 93 | 81 | 89 | 35 | 77 | 562 |\n",
       "| 3 | 200389 | J. Oblak          | Jan Oblak                    | https://cdn.sofifa.com/players/200/389/21_60.png | http://sofifa.com/player/200389/jan-oblak/210006/                  | Slovenia  | 27 | 91 | 93 | \n",
       "\n",
       "\n",
       "\n",
       "Atlético Madrid     | ⋯ | Medium | Medium | 3 ★ | 87 | 92 | 78 | 90 | 52 | 90 | 150 |\n",
       "| 4 | 192985 | K. De Bruyne      | Kevin De Bruyne              | https://cdn.sofifa.com/players/192/985/21_60.png | http://sofifa.com/player/192985/kevin-de-bruyne/210006/            | Belgium   | 29 | 91 | 91 | \n",
       "\n",
       "\n",
       "\n",
       "Manchester City     | ⋯ | High   | High   | 4 ★ | 76 | 86 | 93 | 88 | 64 | 78 | 207 |\n",
       "| 5 | 190871 | Neymar Jr         | Neymar da Silva Santos Jr.   | https://cdn.sofifa.com/players/190/871/21_60.png | http://sofifa.com/player/190871/neymar-da-silva-santos-jr/210006/  | Brazil    | 28 | 91 | 91 | \n",
       "\n",
       "\n",
       "\n",
       "Paris Saint-Germain | ⋯ | High   | Medium | 5 ★ | 91 | 85 | 86 | 94 | 36 | 59 | 595 |\n",
       "| 6 | 188545 | R. Lewandowski    | Robert Lewandowski           | https://cdn.sofifa.com/players/188/545/21_60.png | http://sofifa.com/player/188545/robert-lewandowski/210006/         | Poland    | 31 | 91 | 91 | \n",
       "\n",
       "\n",
       "\n",
       "FC Bayern München   | ⋯ | High   | Medium | 4 ★ | 78 | 91 | 78 | 85 | 43 | 82 | 248 |\n",
       "\n"
      ],
      "text/plain": [
       "  ID     Name              LongName                    \n",
       "1 158023 L. Messi          Lionel Messi                \n",
       "2  20801 Cristiano Ronaldo C. Ronaldo dos Santos Aveiro\n",
       "3 200389 J. Oblak          Jan Oblak                   \n",
       "4 192985 K. De Bruyne      Kevin De Bruyne             \n",
       "5 190871 Neymar Jr         Neymar da Silva Santos Jr.  \n",
       "6 188545 R. Lewandowski    Robert Lewandowski          \n",
       "  photoUrl                                        \n",
       "1 https://cdn.sofifa.com/players/158/023/21_60.png\n",
       "2 https://cdn.sofifa.com/players/020/801/21_60.png\n",
       "3 https://cdn.sofifa.com/players/200/389/21_60.png\n",
       "4 https://cdn.sofifa.com/players/192/985/21_60.png\n",
       "5 https://cdn.sofifa.com/players/190/871/21_60.png\n",
       "6 https://cdn.sofifa.com/players/188/545/21_60.png\n",
       "  playerUrl                                                         \n",
       "1 http://sofifa.com/player/158023/lionel-messi/210006/              \n",
       "2 http://sofifa.com/player/20801/c-ronaldo-dos-santos-aveiro/210006/\n",
       "3 http://sofifa.com/player/200389/jan-oblak/210006/                 \n",
       "4 http://sofifa.com/player/192985/kevin-de-bruyne/210006/           \n",
       "5 http://sofifa.com/player/190871/neymar-da-silva-santos-jr/210006/ \n",
       "6 http://sofifa.com/player/188545/robert-lewandowski/210006/        \n",
       "  Nationality Age X.OVA POT Club                        ⋯ A.W    D.W    IR  PAC\n",
       "1 Argentina   33  93    93  \\n\\n\\n\\nFC Barcelona        ⋯ Medium Low    5 ★ 85 \n",
       "2 Portugal    35  92    92  \\n\\n\\n\\nJuventus            ⋯ High   Low    5 ★ 89 \n",
       "3 Slovenia    27  91    93  \\n\\n\\n\\nAtlético Madrid     ⋯ Medium Medium 3 ★ 87 \n",
       "4 Belgium     29  91    91  \\n\\n\\n\\nManchester City     ⋯ High   High   4 ★ 76 \n",
       "5 Brazil      28  91    91  \\n\\n\\n\\nParis Saint-Germain ⋯ High   Medium 5 ★ 91 \n",
       "6 Poland      31  91    91  \\n\\n\\n\\nFC Bayern München   ⋯ High   Medium 4 ★ 78 \n",
       "  SHO PAS DRI DEF PHY Hits\n",
       "1 92  91  95  38  65  771 \n",
       "2 93  81  89  35  77  562 \n",
       "3 92  78  90  52  90  150 \n",
       "4 86  93  88  64  78  207 \n",
       "5 85  86  94  36  59  595 \n",
       "6 91  78  85  43  82  248 "
      ]
     },
     "metadata": {},
     "output_type": "display_data"
    }
   ],
   "source": [
    "head(fifa_datasets)"
   ]
  },
  {
   "cell_type": "markdown",
   "id": "459b2340-7089-4d8e-8778-a071137251c1",
   "metadata": {},
   "source": [
    "### View the structure of each column in the datasets"
   ]
  },
  {
   "cell_type": "code",
   "execution_count": 6,
   "id": "2669eef8-40f8-456c-b880-375dcb6c9c14",
   "metadata": {},
   "outputs": [
    {
     "name": "stdout",
     "output_type": "stream",
     "text": [
      "'data.frame':\t18979 obs. of  77 variables:\n",
      " $ ID              : int  158023 20801 200389 192985 190871 188545 209331 212831 231747 192448 ...\n",
      " $ Name            : chr  \"L. Messi\" \"Cristiano Ronaldo\" \"J. Oblak\" \"K. De Bruyne\" ...\n",
      " $ LongName        : chr  \"Lionel Messi\" \"C. Ronaldo dos Santos Aveiro\" \"Jan Oblak\" \"Kevin De Bruyne\" ...\n",
      " $ photoUrl        : chr  \"https://cdn.sofifa.com/players/158/023/21_60.png\" \"https://cdn.sofifa.com/players/020/801/21_60.png\" \"https://cdn.sofifa.com/players/200/389/21_60.png\" \"https://cdn.sofifa.com/players/192/985/21_60.png\" ...\n",
      " $ playerUrl       : chr  \"http://sofifa.com/player/158023/lionel-messi/210006/\" \"http://sofifa.com/player/20801/c-ronaldo-dos-santos-aveiro/210006/\" \"http://sofifa.com/player/200389/jan-oblak/210006/\" \"http://sofifa.com/player/192985/kevin-de-bruyne/210006/\" ...\n",
      " $ Nationality     : chr  \"Argentina\" \"Portugal\" \"Slovenia\" \"Belgium\" ...\n",
      " $ Age             : int  33 35 27 29 28 31 28 27 21 28 ...\n",
      " $ X.OVA           : int  93 92 91 91 91 91 90 90 90 90 ...\n",
      " $ POT             : int  93 92 93 91 91 91 90 91 95 93 ...\n",
      " $ Club            : chr  \"\\n\\n\\n\\nFC Barcelona\" \"\\n\\n\\n\\nJuventus\" \"\\n\\n\\n\\nAtlético Madrid\" \"\\n\\n\\n\\nManchester City\" ...\n",
      " $ Contract        : chr  \"2004 ~ 2021\" \"2018 ~ 2022\" \"2014 ~ 2023\" \"2015 ~ 2023\" ...\n",
      " $ Positions       : chr  \"RW, ST, CF\" \"ST, LW\" \"GK\" \"CAM, CM\" ...\n",
      " $ Height          : chr  \"170cm\" \"187cm\" \"188cm\" \"181cm\" ...\n",
      " $ Weight          : chr  \"72kg\" \"83kg\" \"87kg\" \"70kg\" ...\n",
      " $ Preferred.Foot  : chr  \"Left\" \"Right\" \"Right\" \"Right\" ...\n",
      " $ BOV             : int  93 92 91 91 91 91 90 90 91 90 ...\n",
      " $ Best.Position   : chr  \"RW\" \"ST\" \"GK\" \"CAM\" ...\n",
      " $ Joined          : chr  \"Jul 1, 2004\" \"Jul 10, 2018\" \"Jul 16, 2014\" \"Aug 30, 2015\" ...\n",
      " $ Loan.Date.End   : chr  \"\" \"\" \"\" \"\" ...\n",
      " $ Value           : chr  \"€103.5M\" \"€63M\" \"€120M\" \"€129M\" ...\n",
      " $ Wage            : chr  \"€560K\" \"€220K\" \"€125K\" \"€370K\" ...\n",
      " $ Release.Clause  : chr  \"€138.4M\" \"€75.9M\" \"€159.4M\" \"€161M\" ...\n",
      " $ Attacking       : int  429 437 95 407 408 423 392 114 408 118 ...\n",
      " $ Crossing        : int  85 84 13 94 85 71 79 17 78 18 ...\n",
      " $ Finishing       : int  95 95 11 82 87 94 91 13 91 14 ...\n",
      " $ Heading.Accuracy: int  70 90 15 55 62 85 59 19 73 11 ...\n",
      " $ Short.Passing   : int  91 82 43 94 87 84 84 45 83 61 ...\n",
      " $ Volleys         : int  88 86 13 82 87 89 79 20 83 14 ...\n",
      " $ Skill           : int  470 414 109 441 448 407 406 138 394 144 ...\n",
      " $ Dribbling       : int  96 88 12 88 95 85 90 27 92 21 ...\n",
      " $ Curve           : int  93 81 13 85 88 79 83 19 79 18 ...\n",
      " $ FK.Accuracy     : int  94 76 14 83 89 85 69 18 63 12 ...\n",
      " $ Long.Passing    : int  91 77 40 93 81 70 75 44 70 63 ...\n",
      " $ Ball.Control    : int  96 92 30 92 95 88 89 30 90 30 ...\n",
      " $ Movement        : int  451 431 307 398 453 407 460 268 458 254 ...\n",
      " $ Acceleration    : int  91 87 43 77 94 77 94 56 96 38 ...\n",
      " $ Sprint.Speed    : int  80 91 60 76 89 78 92 47 96 50 ...\n",
      " $ Agility         : int  91 87 67 78 96 77 91 40 92 37 ...\n",
      " $ Reactions       : int  94 95 88 91 91 93 92 88 92 86 ...\n",
      " $ Balance         : int  95 71 49 76 83 82 91 37 82 43 ...\n",
      " $ Power           : int  389 444 268 408 357 420 393 240 404 268 ...\n",
      " $ Shot.Power      : int  86 94 59 91 80 89 80 64 86 66 ...\n",
      " $ Jumping         : int  68 95 78 63 62 84 69 52 77 79 ...\n",
      " $ Stamina         : int  72 84 41 89 81 76 85 32 86 35 ...\n",
      " $ Strength        : int  69 78 78 74 50 86 75 78 76 78 ...\n",
      " $ Long.Shots      : int  94 93 12 91 84 85 84 14 79 10 ...\n",
      " $ Mentality       : int  347 353 140 408 356 391 376 140 341 171 ...\n",
      " $ Aggression      : int  44 63 34 76 51 81 63 27 62 43 ...\n",
      " $ Interceptions   : int  40 29 19 66 36 49 55 11 38 22 ...\n",
      " $ Positioning     : int  93 95 11 88 87 94 91 13 91 11 ...\n",
      " $ Vision          : int  95 82 65 94 90 79 84 66 80 70 ...\n",
      " $ Penalties       : int  75 84 11 84 92 88 83 23 70 25 ...\n",
      " $ Composure       : int  96 95 68 91 93 88 90 65 84 70 ...\n",
      " $ Defending       : int  91 84 57 186 94 96 122 50 100 48 ...\n",
      " $ Marking         : int  32 28 27 68 35 35 38 15 34 25 ...\n",
      " $ Standing.Tackle : int  35 32 12 65 30 42 43 19 34 13 ...\n",
      " $ Sliding.Tackle  : int  24 24 18 53 29 19 41 16 32 10 ...\n",
      " $ Goalkeeping     : int  54 58 437 56 59 51 62 439 42 439 ...\n",
      " $ GK.Diving       : int  6 7 87 15 9 15 14 86 13 88 ...\n",
      " $ GK.Handling     : int  11 11 92 13 9 6 14 88 5 85 ...\n",
      " $ GK.Kicking      : int  15 15 78 5 15 12 9 85 7 88 ...\n",
      " $ GK.Positioning  : int  14 14 90 10 15 8 11 91 11 88 ...\n",
      " $ GK.Reflexes     : int  8 11 90 13 11 10 14 89 6 90 ...\n",
      " $ Total.Stats     : int  2231 2221 1413 2304 2175 2195 2211 1389 2147 1442 ...\n",
      " $ Base.Stats      : int  466 464 489 485 451 457 470 490 466 484 ...\n",
      " $ W.F             : chr  \"4 ★\" \"4 ★\" \"3 ★\" \"5 ★\" ...\n",
      " $ SM              : chr  \"4★\" \"5★\" \"1★\" \"4★\" ...\n",
      " $ A.W             : chr  \"Medium\" \"High\" \"Medium\" \"High\" ...\n",
      " $ D.W             : chr  \"Low\" \"Low\" \"Medium\" \"High\" ...\n",
      " $ IR              : chr  \"5 ★\" \"5 ★\" \"3 ★\" \"4 ★\" ...\n",
      " $ PAC             : int  85 89 87 76 91 78 93 86 96 88 ...\n",
      " $ SHO             : int  92 93 92 86 85 91 86 88 86 85 ...\n",
      " $ PAS             : int  91 81 78 93 86 78 81 85 78 88 ...\n",
      " $ DRI             : int  95 89 90 88 94 85 90 89 91 90 ...\n",
      " $ DEF             : int  38 35 52 64 36 43 45 51 39 45 ...\n",
      " $ PHY             : int  65 77 90 78 59 82 75 91 76 88 ...\n",
      " $ Hits            : chr  \"771\" \"562\" \"150\" \"207\" ...\n"
     ]
    }
   ],
   "source": [
    "str(fifa_datasets)"
   ]
  },
  {
   "cell_type": "markdown",
   "id": "6ff7effb-6652-4566-bfae-e6cf2760c8bf",
   "metadata": {},
   "source": [
    "#### Examine some Column in the datasets"
   ]
  },
  {
   "cell_type": "markdown",
   "id": "fa0d96e8-47a1-4c1b-ae34-44f0a1145f9d",
   "metadata": {},
   "source": [
    "We start by examining the **LongName column**"
   ]
  },
  {
   "cell_type": "code",
   "execution_count": 7,
   "id": "96d73ac1-6343-4d55-82d0-f374a29c890c",
   "metadata": {},
   "outputs": [
    {
     "data": {
      "text/html": [
       "<table class=\"dataframe\">\n",
       "<caption>A data.frame: 6 × 1</caption>\n",
       "<thead>\n",
       "\t<tr><th></th><th scope=col>LongName</th></tr>\n",
       "\t<tr><th></th><th scope=col>&lt;chr&gt;</th></tr>\n",
       "</thead>\n",
       "<tbody>\n",
       "\t<tr><th scope=row>1</th><td>Lionel Messi                </td></tr>\n",
       "\t<tr><th scope=row>2</th><td>C. Ronaldo dos Santos Aveiro</td></tr>\n",
       "\t<tr><th scope=row>3</th><td>Jan Oblak                   </td></tr>\n",
       "\t<tr><th scope=row>4</th><td>Kevin De Bruyne             </td></tr>\n",
       "\t<tr><th scope=row>5</th><td>Neymar da Silva Santos Jr.  </td></tr>\n",
       "\t<tr><th scope=row>6</th><td>Robert Lewandowski          </td></tr>\n",
       "</tbody>\n",
       "</table>\n"
      ],
      "text/latex": [
       "A data.frame: 6 × 1\n",
       "\\begin{tabular}{r|l}\n",
       "  & LongName\\\\\n",
       "  & <chr>\\\\\n",
       "\\hline\n",
       "\t1 & Lionel Messi                \\\\\n",
       "\t2 & C. Ronaldo dos Santos Aveiro\\\\\n",
       "\t3 & Jan Oblak                   \\\\\n",
       "\t4 & Kevin De Bruyne             \\\\\n",
       "\t5 & Neymar da Silva Santos Jr.  \\\\\n",
       "\t6 & Robert Lewandowski          \\\\\n",
       "\\end{tabular}\n"
      ],
      "text/markdown": [
       "\n",
       "A data.frame: 6 × 1\n",
       "\n",
       "| <!--/--> | LongName &lt;chr&gt; |\n",
       "|---|---|\n",
       "| 1 | Lionel Messi                 |\n",
       "| 2 | C. Ronaldo dos Santos Aveiro |\n",
       "| 3 | Jan Oblak                    |\n",
       "| 4 | Kevin De Bruyne              |\n",
       "| 5 | Neymar da Silva Santos Jr.   |\n",
       "| 6 | Robert Lewandowski           |\n",
       "\n"
      ],
      "text/plain": [
       "  LongName                    \n",
       "1 Lionel Messi                \n",
       "2 C. Ronaldo dos Santos Aveiro\n",
       "3 Jan Oblak                   \n",
       "4 Kevin De Bruyne             \n",
       "5 Neymar da Silva Santos Jr.  \n",
       "6 Robert Lewandowski          "
      ]
     },
     "metadata": {},
     "output_type": "display_data"
    }
   ],
   "source": [
    "fifa_datasets %>% select(LongName) %>% head()"
   ]
  },
  {
   "cell_type": "markdown",
   "id": "56e20f48-e2ce-4128-9dbb-7f2d3d92334d",
   "metadata": {},
   "source": [
    "The LongName column contain some unwanted characters as seen above so we extract the player name from the PlayerUrl"
   ]
  },
  {
   "cell_type": "markdown",
   "id": "d4861394-edef-4287-b850-61ead366c3ea",
   "metadata": {},
   "source": [
    "Next we examine the **Club Column**"
   ]
  },
  {
   "cell_type": "code",
   "execution_count": 8,
   "id": "f40fed4b-076d-48c3-aa12-f0ca8898df97",
   "metadata": {},
   "outputs": [
    {
     "data": {
      "text/html": [
       "<table class=\"dataframe\">\n",
       "<caption>A data.frame: 6 × 1</caption>\n",
       "<thead>\n",
       "\t<tr><th></th><th scope=col>Club</th></tr>\n",
       "\t<tr><th></th><th scope=col>&lt;chr&gt;</th></tr>\n",
       "</thead>\n",
       "<tbody>\n",
       "\t<tr><th scope=row>1</th><td>\n",
       "\n",
       "\n",
       "\n",
       "FC Barcelona       </td></tr>\n",
       "\t<tr><th scope=row>2</th><td>\n",
       "\n",
       "\n",
       "\n",
       "Juventus           </td></tr>\n",
       "\t<tr><th scope=row>3</th><td>\n",
       "\n",
       "\n",
       "\n",
       "Atlético Madrid    </td></tr>\n",
       "\t<tr><th scope=row>4</th><td>\n",
       "\n",
       "\n",
       "\n",
       "Manchester City    </td></tr>\n",
       "\t<tr><th scope=row>5</th><td>\n",
       "\n",
       "\n",
       "\n",
       "Paris Saint-Germain</td></tr>\n",
       "\t<tr><th scope=row>6</th><td>\n",
       "\n",
       "\n",
       "\n",
       "FC Bayern München  </td></tr>\n",
       "</tbody>\n",
       "</table>\n"
      ],
      "text/latex": [
       "A data.frame: 6 × 1\n",
       "\\begin{tabular}{r|l}\n",
       "  & Club\\\\\n",
       "  & <chr>\\\\\n",
       "\\hline\n",
       "\t1 & \n",
       "\n",
       "\n",
       "\n",
       "FC Barcelona       \\\\\n",
       "\t2 & \n",
       "\n",
       "\n",
       "\n",
       "Juventus           \\\\\n",
       "\t3 & \n",
       "\n",
       "\n",
       "\n",
       "Atlético Madrid    \\\\\n",
       "\t4 & \n",
       "\n",
       "\n",
       "\n",
       "Manchester City    \\\\\n",
       "\t5 & \n",
       "\n",
       "\n",
       "\n",
       "Paris Saint-Germain\\\\\n",
       "\t6 & \n",
       "\n",
       "\n",
       "\n",
       "FC Bayern München  \\\\\n",
       "\\end{tabular}\n"
      ],
      "text/markdown": [
       "\n",
       "A data.frame: 6 × 1\n",
       "\n",
       "| <!--/--> | Club &lt;chr&gt; |\n",
       "|---|---|\n",
       "| 1 | \n",
       "\n",
       "\n",
       "\n",
       "FC Barcelona        |\n",
       "| 2 | \n",
       "\n",
       "\n",
       "\n",
       "Juventus            |\n",
       "| 3 | \n",
       "\n",
       "\n",
       "\n",
       "Atlético Madrid     |\n",
       "| 4 | \n",
       "\n",
       "\n",
       "\n",
       "Manchester City     |\n",
       "| 5 | \n",
       "\n",
       "\n",
       "\n",
       "Paris Saint-Germain |\n",
       "| 6 | \n",
       "\n",
       "\n",
       "\n",
       "FC Bayern München   |\n",
       "\n"
      ],
      "text/plain": [
       "  Club                       \n",
       "1 \\n\\n\\n\\nFC Barcelona       \n",
       "2 \\n\\n\\n\\nJuventus           \n",
       "3 \\n\\n\\n\\nAtlético Madrid    \n",
       "4 \\n\\n\\n\\nManchester City    \n",
       "5 \\n\\n\\n\\nParis Saint-Germain\n",
       "6 \\n\\n\\n\\nFC Bayern München  "
      ]
     },
     "metadata": {},
     "output_type": "display_data"
    }
   ],
   "source": [
    "fifa_datasets %>% select(Club) %>% head()"
   ]
  },
  {
   "cell_type": "markdown",
   "id": "78fedd0f-a9fd-46f9-8d4b-581996dfbe85",
   "metadata": {},
   "source": [
    "The Club Column contain the newline Character, that to would be removed in the data cleaning excerice"
   ]
  },
  {
   "cell_type": "code",
   "execution_count": 9,
   "id": "b36df4e7-f73b-42b9-af2f-1049810ccb4b",
   "metadata": {},
   "outputs": [
    {
     "data": {
      "text/html": [
       "<table class=\"dataframe\">\n",
       "<caption>A data.frame: 6 × 9</caption>\n",
       "<thead>\n",
       "\t<tr><th></th><th scope=col>Weight</th><th scope=col>Height</th><th scope=col>Value</th><th scope=col>Wage</th><th scope=col>Release.Clause</th><th scope=col>W.F</th><th scope=col>SM</th><th scope=col>IR</th><th scope=col>Hits</th></tr>\n",
       "\t<tr><th></th><th scope=col>&lt;chr&gt;</th><th scope=col>&lt;chr&gt;</th><th scope=col>&lt;chr&gt;</th><th scope=col>&lt;chr&gt;</th><th scope=col>&lt;chr&gt;</th><th scope=col>&lt;chr&gt;</th><th scope=col>&lt;chr&gt;</th><th scope=col>&lt;chr&gt;</th><th scope=col>&lt;chr&gt;</th></tr>\n",
       "</thead>\n",
       "<tbody>\n",
       "\t<tr><th scope=row>1</th><td>72kg</td><td>170cm</td><td>€103.5M</td><td>€560K</td><td>€138.4M</td><td>4 ★</td><td>4★</td><td>5 ★</td><td>771</td></tr>\n",
       "\t<tr><th scope=row>2</th><td>83kg</td><td>187cm</td><td>€63M   </td><td>€220K</td><td>€75.9M </td><td>4 ★</td><td>5★</td><td>5 ★</td><td>562</td></tr>\n",
       "\t<tr><th scope=row>3</th><td>87kg</td><td>188cm</td><td>€120M  </td><td>€125K</td><td>€159.4M</td><td>3 ★</td><td>1★</td><td>3 ★</td><td>150</td></tr>\n",
       "\t<tr><th scope=row>4</th><td>70kg</td><td>181cm</td><td>€129M  </td><td>€370K</td><td>€161M  </td><td>5 ★</td><td>4★</td><td>4 ★</td><td>207</td></tr>\n",
       "\t<tr><th scope=row>5</th><td>68kg</td><td>175cm</td><td>€132M  </td><td>€270K</td><td>€166.5M</td><td>5 ★</td><td>5★</td><td>5 ★</td><td>595</td></tr>\n",
       "\t<tr><th scope=row>6</th><td>80kg</td><td>184cm</td><td>€111M  </td><td>€240K</td><td>€132M  </td><td>4 ★</td><td>4★</td><td>4 ★</td><td>248</td></tr>\n",
       "</tbody>\n",
       "</table>\n"
      ],
      "text/latex": [
       "A data.frame: 6 × 9\n",
       "\\begin{tabular}{r|lllllllll}\n",
       "  & Weight & Height & Value & Wage & Release.Clause & W.F & SM & IR & Hits\\\\\n",
       "  & <chr> & <chr> & <chr> & <chr> & <chr> & <chr> & <chr> & <chr> & <chr>\\\\\n",
       "\\hline\n",
       "\t1 & 72kg & 170cm & €103.5M & €560K & €138.4M & 4 ★ & 4★ & 5 ★ & 771\\\\\n",
       "\t2 & 83kg & 187cm & €63M    & €220K & €75.9M  & 4 ★ & 5★ & 5 ★ & 562\\\\\n",
       "\t3 & 87kg & 188cm & €120M   & €125K & €159.4M & 3 ★ & 1★ & 3 ★ & 150\\\\\n",
       "\t4 & 70kg & 181cm & €129M   & €370K & €161M   & 5 ★ & 4★ & 4 ★ & 207\\\\\n",
       "\t5 & 68kg & 175cm & €132M   & €270K & €166.5M & 5 ★ & 5★ & 5 ★ & 595\\\\\n",
       "\t6 & 80kg & 184cm & €111M   & €240K & €132M   & 4 ★ & 4★ & 4 ★ & 248\\\\\n",
       "\\end{tabular}\n"
      ],
      "text/markdown": [
       "\n",
       "A data.frame: 6 × 9\n",
       "\n",
       "| <!--/--> | Weight &lt;chr&gt; | Height &lt;chr&gt; | Value &lt;chr&gt; | Wage &lt;chr&gt; | Release.Clause &lt;chr&gt; | W.F &lt;chr&gt; | SM &lt;chr&gt; | IR &lt;chr&gt; | Hits &lt;chr&gt; |\n",
       "|---|---|---|---|---|---|---|---|---|---|\n",
       "| 1 | 72kg | 170cm | €103.5M | €560K | €138.4M | 4 ★ | 4★ | 5 ★ | 771 |\n",
       "| 2 | 83kg | 187cm | €63M    | €220K | €75.9M  | 4 ★ | 5★ | 5 ★ | 562 |\n",
       "| 3 | 87kg | 188cm | €120M   | €125K | €159.4M | 3 ★ | 1★ | 3 ★ | 150 |\n",
       "| 4 | 70kg | 181cm | €129M   | €370K | €161M   | 5 ★ | 4★ | 4 ★ | 207 |\n",
       "| 5 | 68kg | 175cm | €132M   | €270K | €166.5M | 5 ★ | 5★ | 5 ★ | 595 |\n",
       "| 6 | 80kg | 184cm | €111M   | €240K | €132M   | 4 ★ | 4★ | 4 ★ | 248 |\n",
       "\n"
      ],
      "text/plain": [
       "  Weight Height Value   Wage  Release.Clause W.F SM IR  Hits\n",
       "1 72kg   170cm  €103.5M €560K €138.4M        4 ★ 4★ 5 ★ 771 \n",
       "2 83kg   187cm  €63M    €220K €75.9M         4 ★ 5★ 5 ★ 562 \n",
       "3 87kg   188cm  €120M   €125K €159.4M        3 ★ 1★ 3 ★ 150 \n",
       "4 70kg   181cm  €129M   €370K €161M          5 ★ 4★ 4 ★ 207 \n",
       "5 68kg   175cm  €132M   €270K €166.5M        5 ★ 5★ 5 ★ 595 \n",
       "6 80kg   184cm  €111M   €240K €132M          4 ★ 4★ 4 ★ 248 "
      ]
     },
     "metadata": {},
     "output_type": "display_data"
    }
   ],
   "source": [
    "fifa_datasets %>% select(Weight,Height,Value,Wage,Release.Clause,W.F,SM,IR,Hits) %>% head()"
   ]
  },
  {
   "cell_type": "markdown",
   "id": "fcde0c29-2a1c-410b-8799-fcd5ecbf0d64",
   "metadata": {},
   "source": [
    "We observe that the variables in the above tables should all be a numeric variable but were displayed as character instead, that would be part of the data cleaning project ensuring each variable are in the right format, We would covert the **Value,Wage,Release.Clause** to millions and thousand respectively by multiplying it by 1000000 and 1000 respectively and remove currency symbol. While for the **W.F,SM and IR** column we would remove the star symbol \n"
   ]
  },
  {
   "cell_type": "markdown",
   "id": "711d5b77-ea9f-4da5-82cc-ee72ba9c3be4",
   "metadata": {},
   "source": [
    "Next we examine the **Height** column "
   ]
  },
  {
   "cell_type": "code",
   "execution_count": 10,
   "id": "f411bd39-13bf-4c75-b62c-559535ce5c9d",
   "metadata": {},
   "outputs": [
    {
     "data": {
      "text/html": [
       "'170cm, 187cm, 188cm, 181cm, 175cm, 184cm, 191cm, 178cm, 193cm, 185cm, 199cm, 173cm, 168cm, 176cm, 177cm, 183cm, 180cm, 189cm, 179cm, 195cm, 172cm, 182cm, 186cm, 192cm, 165cm, 194cm, 167cm, 196cm, 163cm, 190cm, 174cm, 169cm, 171cm, 197cm, 200cm, 166cm, 6\\'2\", 164cm, 198cm, 6\\'3\", 6\\'5\", 5\\'11\", 6\\'4\", 6\\'1\", 6\\'0\", 5\\'10\", 5\\'9\", 5\\'6\", 5\\'7\", 5\\'4\", 201cm, 158cm, 162cm, 161cm, 160cm, 203cm, 157cm, 156cm, 202cm, 159cm, 206cm, 155cm'"
      ],
      "text/latex": [
       "'170cm, 187cm, 188cm, 181cm, 175cm, 184cm, 191cm, 178cm, 193cm, 185cm, 199cm, 173cm, 168cm, 176cm, 177cm, 183cm, 180cm, 189cm, 179cm, 195cm, 172cm, 182cm, 186cm, 192cm, 165cm, 194cm, 167cm, 196cm, 163cm, 190cm, 174cm, 169cm, 171cm, 197cm, 200cm, 166cm, 6\\textbackslash{}'2\", 164cm, 198cm, 6\\textbackslash{}'3\", 6\\textbackslash{}'5\", 5\\textbackslash{}'11\", 6\\textbackslash{}'4\", 6\\textbackslash{}'1\", 6\\textbackslash{}'0\", 5\\textbackslash{}'10\", 5\\textbackslash{}'9\", 5\\textbackslash{}'6\", 5\\textbackslash{}'7\", 5\\textbackslash{}'4\", 201cm, 158cm, 162cm, 161cm, 160cm, 203cm, 157cm, 156cm, 202cm, 159cm, 206cm, 155cm'"
      ],
      "text/markdown": [
       "'170cm, 187cm, 188cm, 181cm, 175cm, 184cm, 191cm, 178cm, 193cm, 185cm, 199cm, 173cm, 168cm, 176cm, 177cm, 183cm, 180cm, 189cm, 179cm, 195cm, 172cm, 182cm, 186cm, 192cm, 165cm, 194cm, 167cm, 196cm, 163cm, 190cm, 174cm, 169cm, 171cm, 197cm, 200cm, 166cm, 6\\'2\", 164cm, 198cm, 6\\'3\", 6\\'5\", 5\\'11\", 6\\'4\", 6\\'1\", 6\\'0\", 5\\'10\", 5\\'9\", 5\\'6\", 5\\'7\", 5\\'4\", 201cm, 158cm, 162cm, 161cm, 160cm, 203cm, 157cm, 156cm, 202cm, 159cm, 206cm, 155cm'"
      ],
      "text/plain": [
       "[1] \"170cm, 187cm, 188cm, 181cm, 175cm, 184cm, 191cm, 178cm, 193cm, 185cm, 199cm, 173cm, 168cm, 176cm, 177cm, 183cm, 180cm, 189cm, 179cm, 195cm, 172cm, 182cm, 186cm, 192cm, 165cm, 194cm, 167cm, 196cm, 163cm, 190cm, 174cm, 169cm, 171cm, 197cm, 200cm, 166cm, 6'2\\\", 164cm, 198cm, 6'3\\\", 6'5\\\", 5'11\\\", 6'4\\\", 6'1\\\", 6'0\\\", 5'10\\\", 5'9\\\", 5'6\\\", 5'7\\\", 5'4\\\", 201cm, 158cm, 162cm, 161cm, 160cm, 203cm, 157cm, 156cm, 202cm, 159cm, 206cm, 155cm\""
      ]
     },
     "metadata": {},
     "output_type": "display_data"
    }
   ],
   "source": [
    "paste(unique(fifa_datasets$Height),collapse = \", \")"
   ]
  },
  {
   "cell_type": "markdown",
   "id": "87936f3e-9ff0-4ed3-95e8-cfa7b1294bf6",
   "metadata": {},
   "source": [
    "We notice the height column as two different unit cm, ft+inches we would convert it to the standard unit cm"
   ]
  },
  {
   "cell_type": "markdown",
   "id": "f572e629-bb23-4130-a15f-79b4c0d418a3",
   "metadata": {},
   "source": [
    "**Weight** Column was examine next"
   ]
  },
  {
   "cell_type": "code",
   "execution_count": 11,
   "id": "3edf9010-57ec-4b8d-8303-ed7ed3800832",
   "metadata": {},
   "outputs": [
    {
     "data": {
      "text/html": [
       "'72kg, 83kg, 87kg, 70kg, 68kg, 80kg, 71kg, 91kg, 73kg, 85kg, 92kg, 69kg, 84kg, 96kg, 81kg, 82kg, 75kg, 86kg, 89kg, 74kg, 76kg, 64kg, 78kg, 90kg, 66kg, 60kg, 94kg, 79kg, 67kg, 65kg, 59kg, 61kg, 93kg, 88kg, 97kg, 77kg, 62kg, 63kg, 95kg, 100kg, 58kg, 183lbs, 179lbs, 172lbs, 196lbs, 176lbs, 185lbs, 170lbs, 203lbs, 168lbs, 161lbs, 146lbs, 130lbs, 190lbs, 174lbs, 148lbs, 165lbs, 159lbs, 192lbs, 181lbs, 139lbs, 154lbs, 157lbs, 163lbs, 98kg, 103kg, 99kg, 102kg, 56kg, 101kg, 57kg, 55kg, 104kg, 107kg, 110kg, 53kg, 50kg, 54kg, 52kg'"
      ],
      "text/latex": [
       "'72kg, 83kg, 87kg, 70kg, 68kg, 80kg, 71kg, 91kg, 73kg, 85kg, 92kg, 69kg, 84kg, 96kg, 81kg, 82kg, 75kg, 86kg, 89kg, 74kg, 76kg, 64kg, 78kg, 90kg, 66kg, 60kg, 94kg, 79kg, 67kg, 65kg, 59kg, 61kg, 93kg, 88kg, 97kg, 77kg, 62kg, 63kg, 95kg, 100kg, 58kg, 183lbs, 179lbs, 172lbs, 196lbs, 176lbs, 185lbs, 170lbs, 203lbs, 168lbs, 161lbs, 146lbs, 130lbs, 190lbs, 174lbs, 148lbs, 165lbs, 159lbs, 192lbs, 181lbs, 139lbs, 154lbs, 157lbs, 163lbs, 98kg, 103kg, 99kg, 102kg, 56kg, 101kg, 57kg, 55kg, 104kg, 107kg, 110kg, 53kg, 50kg, 54kg, 52kg'"
      ],
      "text/markdown": [
       "'72kg, 83kg, 87kg, 70kg, 68kg, 80kg, 71kg, 91kg, 73kg, 85kg, 92kg, 69kg, 84kg, 96kg, 81kg, 82kg, 75kg, 86kg, 89kg, 74kg, 76kg, 64kg, 78kg, 90kg, 66kg, 60kg, 94kg, 79kg, 67kg, 65kg, 59kg, 61kg, 93kg, 88kg, 97kg, 77kg, 62kg, 63kg, 95kg, 100kg, 58kg, 183lbs, 179lbs, 172lbs, 196lbs, 176lbs, 185lbs, 170lbs, 203lbs, 168lbs, 161lbs, 146lbs, 130lbs, 190lbs, 174lbs, 148lbs, 165lbs, 159lbs, 192lbs, 181lbs, 139lbs, 154lbs, 157lbs, 163lbs, 98kg, 103kg, 99kg, 102kg, 56kg, 101kg, 57kg, 55kg, 104kg, 107kg, 110kg, 53kg, 50kg, 54kg, 52kg'"
      ],
      "text/plain": [
       "[1] \"72kg, 83kg, 87kg, 70kg, 68kg, 80kg, 71kg, 91kg, 73kg, 85kg, 92kg, 69kg, 84kg, 96kg, 81kg, 82kg, 75kg, 86kg, 89kg, 74kg, 76kg, 64kg, 78kg, 90kg, 66kg, 60kg, 94kg, 79kg, 67kg, 65kg, 59kg, 61kg, 93kg, 88kg, 97kg, 77kg, 62kg, 63kg, 95kg, 100kg, 58kg, 183lbs, 179lbs, 172lbs, 196lbs, 176lbs, 185lbs, 170lbs, 203lbs, 168lbs, 161lbs, 146lbs, 130lbs, 190lbs, 174lbs, 148lbs, 165lbs, 159lbs, 192lbs, 181lbs, 139lbs, 154lbs, 157lbs, 163lbs, 98kg, 103kg, 99kg, 102kg, 56kg, 101kg, 57kg, 55kg, 104kg, 107kg, 110kg, 53kg, 50kg, 54kg, 52kg\""
      ]
     },
     "metadata": {},
     "output_type": "display_data"
    }
   ],
   "source": [
    "paste(unique(fifa_datasets$Weight),collapse = \", \")"
   ]
  },
  {
   "cell_type": "markdown",
   "id": "a2ad57f5-bb56-4c3a-94e4-d9fd929c41d8",
   "metadata": {},
   "source": [
    "We also notice the **Weight** are in kg and ibs, we would convert it to ibs"
   ]
  },
  {
   "cell_type": "markdown",
   "id": "d92fbd28-f1f3-4837-bf42-92ca3c4c27a3",
   "metadata": {},
   "source": [
    "## Basic Cleaning Excerice"
   ]
  },
  {
   "cell_type": "markdown",
   "id": "3792c968-02d5-4f8f-ad96-bbcd3ee00a42",
   "metadata": {},
   "source": [
    "1. Check for duplicate\n",
    "2. Check for missing values \n",
    "3. Extract player **LongName** from **PlayerUrl**\n",
    "4. Remove newline Character from the **Club** column\n",
    "5. Handle the **Contract Column** \n",
    "6. Convert the **Height** and **Weight** to their respective standard unit cm and kg\n",
    "7. Convert **Joined, Loan.Date.end** to date time format yyyy/mm/dd\n",
    "8. Covert the **Value,Wage,Release.Clause** to millions and thousand respectively by multiplying it by 1000000 and 1000 respectively and remove currency symbol\n",
    "9. Handling the Hits Column\n",
    "10. Remove the star symbol from **W.F,SM and IR** \n"
   ]
  },
  {
   "cell_type": "markdown",
   "id": "4fbd63fe-8fd3-4d0a-9805-5ef249d41154",
   "metadata": {},
   "source": [
    "### 1. Check for duplicate in Datesets "
   ]
  },
  {
   "cell_type": "code",
   "execution_count": 12,
   "id": "d8eb2643-335c-4157-a658-c3cae10c0e9a",
   "metadata": {},
   "outputs": [
    {
     "data": {
      "text/html": [
       "0"
      ],
      "text/latex": [
       "0"
      ],
      "text/markdown": [
       "0"
      ],
      "text/plain": [
       "[1] 0"
      ]
     },
     "metadata": {},
     "output_type": "display_data"
    }
   ],
   "source": [
    "sum(duplicated(fifa_datasets))"
   ]
  },
  {
   "cell_type": "markdown",
   "id": "cc322d62-5189-4d5e-83a8-6457396bc251",
   "metadata": {},
   "source": [
    "There are no duplicates in the dataset"
   ]
  },
  {
   "cell_type": "markdown",
   "id": "97146491-e8e8-4430-8b84-2180a89a7974",
   "metadata": {},
   "source": [
    "### 2. Check for missing value in Datasets "
   ]
  },
  {
   "cell_type": "code",
   "execution_count": 52,
   "id": "82444079-9104-42be-a8d3-5dc34b79a650",
   "metadata": {},
   "outputs": [
    {
     "data": {
      "text/html": [
       "<style>\n",
       ".dl-inline {width: auto; margin:0; padding: 0}\n",
       ".dl-inline>dt, .dl-inline>dd {float: none; width: auto; display: inline-block}\n",
       ".dl-inline>dt::after {content: \":\\0020\"; padding-right: .5ex}\n",
       ".dl-inline>dt:not(:first-of-type) {padding-left: .5ex}\n",
       "</style><dl class=dl-inline><dt>Name</dt><dd>0</dd><dt>LongName</dt><dd>0</dd><dt>Nationality</dt><dd>0</dd><dt>Age</dt><dd>0</dd><dt>X.OVA</dt><dd>0</dd><dt>POT</dt><dd>0</dd><dt>Club</dt><dd>0</dd><dt>Contract_type</dt><dd>0</dd><dt>Start_Contract</dt><dd>0</dd><dt>End_Contract</dt><dd>237</dd><dt>Positions</dt><dd>0</dd><dt>Weight_kg</dt><dd>0</dd><dt>Height_cm</dt><dd>0</dd><dt>Preferred.Foot</dt><dd>0</dd><dt>BOV</dt><dd>0</dd><dt>Best.Position</dt><dd>0</dd><dt>Joined</dt><dd>0</dd><dt>Loan.Date.End</dt><dd>17966</dd><dt>Value</dt><dd>0</dd><dt>Wage</dt><dd>0</dd><dt>Release.Clause</dt><dd>0</dd><dt>Attacking</dt><dd>0</dd><dt>Crossing</dt><dd>0</dd><dt>Finishing</dt><dd>0</dd><dt>Heading.Accuracy</dt><dd>0</dd><dt>Short.Passing</dt><dd>0</dd><dt>Volleys</dt><dd>0</dd><dt>Skill</dt><dd>0</dd><dt>Dribbling</dt><dd>0</dd><dt>Curve</dt><dd>0</dd><dt>FK.Accuracy</dt><dd>0</dd><dt>Long.Passing</dt><dd>0</dd><dt>Ball.Control</dt><dd>0</dd><dt>Movement</dt><dd>0</dd><dt>Acceleration</dt><dd>0</dd><dt>Sprint.Speed</dt><dd>0</dd><dt>Agility</dt><dd>0</dd><dt>Reactions</dt><dd>0</dd><dt>Balance</dt><dd>0</dd><dt>Power</dt><dd>0</dd><dt>Shot.Power</dt><dd>0</dd><dt>Jumping</dt><dd>0</dd><dt>Stamina</dt><dd>0</dd><dt>Strength</dt><dd>0</dd><dt>Long.Shots</dt><dd>0</dd><dt>Mentality</dt><dd>0</dd><dt>Aggression</dt><dd>0</dd><dt>Interceptions</dt><dd>0</dd><dt>Positioning</dt><dd>0</dd><dt>Vision</dt><dd>0</dd><dt>Penalties</dt><dd>0</dd><dt>Composure</dt><dd>0</dd><dt>Defending</dt><dd>0</dd><dt>Marking</dt><dd>0</dd><dt>Standing.Tackle</dt><dd>0</dd><dt>Sliding.Tackle</dt><dd>0</dd><dt>Goalkeeping</dt><dd>0</dd><dt>GK.Diving</dt><dd>0</dd><dt>GK.Handling</dt><dd>0</dd><dt>GK.Kicking</dt><dd>0</dd><dt>GK.Positioning</dt><dd>0</dd><dt>GK.Reflexes</dt><dd>0</dd><dt>Total.Stats</dt><dd>0</dd><dt>Base.Stats</dt><dd>0</dd><dt>W.F</dt><dd>0</dd><dt>SM</dt><dd>0</dd><dt>A.W</dt><dd>0</dd><dt>D.W</dt><dd>0</dd><dt>IR</dt><dd>0</dd><dt>PAC</dt><dd>0</dd><dt>SHO</dt><dd>0</dd><dt>PAS</dt><dd>0</dd><dt>DRI</dt><dd>0</dd><dt>DEF</dt><dd>0</dd><dt>PHY</dt><dd>0</dd><dt>Hits</dt><dd>2595</dd></dl>\n"
      ],
      "text/latex": [
       "\\begin{description*}\n",
       "\\item[Name] 0\n",
       "\\item[LongName] 0\n",
       "\\item[Nationality] 0\n",
       "\\item[Age] 0\n",
       "\\item[X.OVA] 0\n",
       "\\item[POT] 0\n",
       "\\item[Club] 0\n",
       "\\item[Contract\\textbackslash{}\\_type] 0\n",
       "\\item[Start\\textbackslash{}\\_Contract] 0\n",
       "\\item[End\\textbackslash{}\\_Contract] 237\n",
       "\\item[Positions] 0\n",
       "\\item[Weight\\textbackslash{}\\_kg] 0\n",
       "\\item[Height\\textbackslash{}\\_cm] 0\n",
       "\\item[Preferred.Foot] 0\n",
       "\\item[BOV] 0\n",
       "\\item[Best.Position] 0\n",
       "\\item[Joined] 0\n",
       "\\item[Loan.Date.End] 17966\n",
       "\\item[Value] 0\n",
       "\\item[Wage] 0\n",
       "\\item[Release.Clause] 0\n",
       "\\item[Attacking] 0\n",
       "\\item[Crossing] 0\n",
       "\\item[Finishing] 0\n",
       "\\item[Heading.Accuracy] 0\n",
       "\\item[Short.Passing] 0\n",
       "\\item[Volleys] 0\n",
       "\\item[Skill] 0\n",
       "\\item[Dribbling] 0\n",
       "\\item[Curve] 0\n",
       "\\item[FK.Accuracy] 0\n",
       "\\item[Long.Passing] 0\n",
       "\\item[Ball.Control] 0\n",
       "\\item[Movement] 0\n",
       "\\item[Acceleration] 0\n",
       "\\item[Sprint.Speed] 0\n",
       "\\item[Agility] 0\n",
       "\\item[Reactions] 0\n",
       "\\item[Balance] 0\n",
       "\\item[Power] 0\n",
       "\\item[Shot.Power] 0\n",
       "\\item[Jumping] 0\n",
       "\\item[Stamina] 0\n",
       "\\item[Strength] 0\n",
       "\\item[Long.Shots] 0\n",
       "\\item[Mentality] 0\n",
       "\\item[Aggression] 0\n",
       "\\item[Interceptions] 0\n",
       "\\item[Positioning] 0\n",
       "\\item[Vision] 0\n",
       "\\item[Penalties] 0\n",
       "\\item[Composure] 0\n",
       "\\item[Defending] 0\n",
       "\\item[Marking] 0\n",
       "\\item[Standing.Tackle] 0\n",
       "\\item[Sliding.Tackle] 0\n",
       "\\item[Goalkeeping] 0\n",
       "\\item[GK.Diving] 0\n",
       "\\item[GK.Handling] 0\n",
       "\\item[GK.Kicking] 0\n",
       "\\item[GK.Positioning] 0\n",
       "\\item[GK.Reflexes] 0\n",
       "\\item[Total.Stats] 0\n",
       "\\item[Base.Stats] 0\n",
       "\\item[W.F] 0\n",
       "\\item[SM] 0\n",
       "\\item[A.W] 0\n",
       "\\item[D.W] 0\n",
       "\\item[IR] 0\n",
       "\\item[PAC] 0\n",
       "\\item[SHO] 0\n",
       "\\item[PAS] 0\n",
       "\\item[DRI] 0\n",
       "\\item[DEF] 0\n",
       "\\item[PHY] 0\n",
       "\\item[Hits] 2595\n",
       "\\end{description*}\n"
      ],
      "text/markdown": [
       "Name\n",
       ":   0LongName\n",
       ":   0Nationality\n",
       ":   0Age\n",
       ":   0X.OVA\n",
       ":   0POT\n",
       ":   0Club\n",
       ":   0Contract_type\n",
       ":   0Start_Contract\n",
       ":   0End_Contract\n",
       ":   237Positions\n",
       ":   0Weight_kg\n",
       ":   0Height_cm\n",
       ":   0Preferred.Foot\n",
       ":   0BOV\n",
       ":   0Best.Position\n",
       ":   0Joined\n",
       ":   0Loan.Date.End\n",
       ":   17966Value\n",
       ":   0Wage\n",
       ":   0Release.Clause\n",
       ":   0Attacking\n",
       ":   0Crossing\n",
       ":   0Finishing\n",
       ":   0Heading.Accuracy\n",
       ":   0Short.Passing\n",
       ":   0Volleys\n",
       ":   0Skill\n",
       ":   0Dribbling\n",
       ":   0Curve\n",
       ":   0FK.Accuracy\n",
       ":   0Long.Passing\n",
       ":   0Ball.Control\n",
       ":   0Movement\n",
       ":   0Acceleration\n",
       ":   0Sprint.Speed\n",
       ":   0Agility\n",
       ":   0Reactions\n",
       ":   0Balance\n",
       ":   0Power\n",
       ":   0Shot.Power\n",
       ":   0Jumping\n",
       ":   0Stamina\n",
       ":   0Strength\n",
       ":   0Long.Shots\n",
       ":   0Mentality\n",
       ":   0Aggression\n",
       ":   0Interceptions\n",
       ":   0Positioning\n",
       ":   0Vision\n",
       ":   0Penalties\n",
       ":   0Composure\n",
       ":   0Defending\n",
       ":   0Marking\n",
       ":   0Standing.Tackle\n",
       ":   0Sliding.Tackle\n",
       ":   0Goalkeeping\n",
       ":   0GK.Diving\n",
       ":   0GK.Handling\n",
       ":   0GK.Kicking\n",
       ":   0GK.Positioning\n",
       ":   0GK.Reflexes\n",
       ":   0Total.Stats\n",
       ":   0Base.Stats\n",
       ":   0W.F\n",
       ":   0SM\n",
       ":   0A.W\n",
       ":   0D.W\n",
       ":   0IR\n",
       ":   0PAC\n",
       ":   0SHO\n",
       ":   0PAS\n",
       ":   0DRI\n",
       ":   0DEF\n",
       ":   0PHY\n",
       ":   0Hits\n",
       ":   2595\n",
       "\n"
      ],
      "text/plain": [
       "            Name         LongName      Nationality              Age \n",
       "               0                0                0                0 \n",
       "           X.OVA              POT             Club    Contract_type \n",
       "               0                0                0                0 \n",
       "  Start_Contract     End_Contract        Positions        Weight_kg \n",
       "               0              237                0                0 \n",
       "       Height_cm   Preferred.Foot              BOV    Best.Position \n",
       "               0                0                0                0 \n",
       "          Joined    Loan.Date.End            Value             Wage \n",
       "               0            17966                0                0 \n",
       "  Release.Clause        Attacking         Crossing        Finishing \n",
       "               0                0                0                0 \n",
       "Heading.Accuracy    Short.Passing          Volleys            Skill \n",
       "               0                0                0                0 \n",
       "       Dribbling            Curve      FK.Accuracy     Long.Passing \n",
       "               0                0                0                0 \n",
       "    Ball.Control         Movement     Acceleration     Sprint.Speed \n",
       "               0                0                0                0 \n",
       "         Agility        Reactions          Balance            Power \n",
       "               0                0                0                0 \n",
       "      Shot.Power          Jumping          Stamina         Strength \n",
       "               0                0                0                0 \n",
       "      Long.Shots        Mentality       Aggression    Interceptions \n",
       "               0                0                0                0 \n",
       "     Positioning           Vision        Penalties        Composure \n",
       "               0                0                0                0 \n",
       "       Defending          Marking  Standing.Tackle   Sliding.Tackle \n",
       "               0                0                0                0 \n",
       "     Goalkeeping        GK.Diving      GK.Handling       GK.Kicking \n",
       "               0                0                0                0 \n",
       "  GK.Positioning      GK.Reflexes      Total.Stats       Base.Stats \n",
       "               0                0                0                0 \n",
       "             W.F               SM              A.W              D.W \n",
       "               0                0                0                0 \n",
       "              IR              PAC              SHO              PAS \n",
       "               0                0                0                0 \n",
       "             DRI              DEF              PHY             Hits \n",
       "               0                0                0             2595 "
      ]
     },
     "metadata": {},
     "output_type": "display_data"
    }
   ],
   "source": [
    "sapply(fifa_datasets, function(x) sum(is.na(x)))"
   ]
  },
  {
   "cell_type": "markdown",
   "id": "f45c0b9c-2676-44c0-ae2a-5d43654a86ea",
   "metadata": {},
   "source": [
    "we can see from the above result that only the **Loan.Date.End** column contain missing value, for the rows with missing value it shows that the\n",
    "player didn't get a loan so he doesn't have a date to pay back "
   ]
  },
  {
   "cell_type": "markdown",
   "id": "422d3810-f610-4874-a1a2-4c1ffec8f3b5",
   "metadata": {},
   "source": [
    "### 3. Extract Player LongName from PlayerUrl "
   ]
  },
  {
   "cell_type": "code",
   "execution_count": 14,
   "id": "271d17b1-74ba-4c2f-9b31-c11de773c63a",
   "metadata": {},
   "outputs": [],
   "source": [
    "#extract player LongName from playerurl\n",
    "longname <-str_match(fifa_datasets$playerUrl,\".*/player/\\\\d+/(.*)/\\\\d+/\")[,2]"
   ]
  },
  {
   "cell_type": "code",
   "execution_count": 15,
   "id": "a9638584-8e57-4fcd-8bcd-a5fb25bcbf1d",
   "metadata": {},
   "outputs": [
    {
     "data": {
      "text/html": [
       "<table class=\"dataframe\">\n",
       "<caption>A data.frame: 6 × 1</caption>\n",
       "<thead>\n",
       "\t<tr><th></th><th scope=col>LongName</th></tr>\n",
       "\t<tr><th></th><th scope=col>&lt;chr&gt;</th></tr>\n",
       "</thead>\n",
       "<tbody>\n",
       "\t<tr><th scope=row>1</th><td>Lionel-Messi               </td></tr>\n",
       "\t<tr><th scope=row>2</th><td>C-Ronaldo-Dos-Santos-Aveiro</td></tr>\n",
       "\t<tr><th scope=row>3</th><td>Jan-Oblak                  </td></tr>\n",
       "\t<tr><th scope=row>4</th><td>Kevin-De-Bruyne            </td></tr>\n",
       "\t<tr><th scope=row>5</th><td>Neymar-Da-Silva-Santos-Jr  </td></tr>\n",
       "\t<tr><th scope=row>6</th><td>Robert-Lewandowski         </td></tr>\n",
       "</tbody>\n",
       "</table>\n"
      ],
      "text/latex": [
       "A data.frame: 6 × 1\n",
       "\\begin{tabular}{r|l}\n",
       "  & LongName\\\\\n",
       "  & <chr>\\\\\n",
       "\\hline\n",
       "\t1 & Lionel-Messi               \\\\\n",
       "\t2 & C-Ronaldo-Dos-Santos-Aveiro\\\\\n",
       "\t3 & Jan-Oblak                  \\\\\n",
       "\t4 & Kevin-De-Bruyne            \\\\\n",
       "\t5 & Neymar-Da-Silva-Santos-Jr  \\\\\n",
       "\t6 & Robert-Lewandowski         \\\\\n",
       "\\end{tabular}\n"
      ],
      "text/markdown": [
       "\n",
       "A data.frame: 6 × 1\n",
       "\n",
       "| <!--/--> | LongName &lt;chr&gt; |\n",
       "|---|---|\n",
       "| 1 | Lionel-Messi                |\n",
       "| 2 | C-Ronaldo-Dos-Santos-Aveiro |\n",
       "| 3 | Jan-Oblak                   |\n",
       "| 4 | Kevin-De-Bruyne             |\n",
       "| 5 | Neymar-Da-Silva-Santos-Jr   |\n",
       "| 6 | Robert-Lewandowski          |\n",
       "\n"
      ],
      "text/plain": [
       "  LongName                   \n",
       "1 Lionel-Messi               \n",
       "2 C-Ronaldo-Dos-Santos-Aveiro\n",
       "3 Jan-Oblak                  \n",
       "4 Kevin-De-Bruyne            \n",
       "5 Neymar-Da-Silva-Santos-Jr  \n",
       "6 Robert-Lewandowski         "
      ]
     },
     "metadata": {},
     "output_type": "display_data"
    }
   ],
   "source": [
    "#convert LongName to sentence case \n",
    "fifa_datasets <-  fifa_datasets %>%  mutate(LongName= str_to_title (longname))\n",
    "fifa_datasets %>% select(LongName) %>% head()"
   ]
  },
  {
   "cell_type": "markdown",
   "id": "a4fea0db-6c68-445e-889f-2b1e9dc7565b",
   "metadata": {},
   "source": [
    "We have been able to extract the LongName from the playerUrl "
   ]
  },
  {
   "cell_type": "markdown",
   "id": "dd48092d-76cf-411d-aecb-6cc8753b5058",
   "metadata": {},
   "source": [
    "### 4. Remove newline Character from the **Club** column"
   ]
  },
  {
   "cell_type": "code",
   "execution_count": 16,
   "id": "e47932a3-e688-4a63-b69c-05b714570d36",
   "metadata": {},
   "outputs": [
    {
     "data": {
      "text/html": [
       "<style>\n",
       ".list-inline {list-style: none; margin:0; padding: 0}\n",
       ".list-inline>li {display: inline-block}\n",
       ".list-inline>li:not(:last-child)::after {content: \"\\00b7\"; padding: 0 .5ex}\n",
       "</style>\n",
       "<ol class=list-inline><li>'\\n\\n\\n\\nFC Barcelona'</li><li>'\\n\\n\\n\\nJuventus'</li><li>'\\n\\n\\n\\nAtlético Madrid'</li><li>'\\n\\n\\n\\nManchester City'</li><li>'\\n\\n\\n\\nParis Saint-Germain'</li><li>'\\n\\n\\n\\nFC Bayern München'</li><li>'\\n\\n\\n\\nLiverpool'</li><li>'\\n\\n\\n\\nLiverpool'</li><li>'\\n\\n\\n\\nParis Saint-Germain'</li><li>'\\n\\n\\n\\nFC Barcelona'</li><li>'\\n\\n\\n\\nLiverpool'</li><li>'\\n\\n\\n\\nLiverpool'</li><li>'\\n\\n\\n\\nReal Madrid'</li><li>'\\n\\n\\n\\nReal Madrid'</li><li>'\\n\\n\\n\\nFC Bayern München'</li><li>'\\n\\n\\n\\nReal Madrid'</li><li>'\\n\\n\\n\\nReal Madrid'</li><li>'\\n\\n\\n\\nManchester City'</li><li>'\\n\\n\\n\\nManchester City'</li><li>'\\n\\n\\n\\nChelsea'</li></ol>\n"
      ],
      "text/latex": [
       "\\begin{enumerate*}\n",
       "\\item '\\textbackslash{}n\\textbackslash{}n\\textbackslash{}n\\textbackslash{}nFC Barcelona'\n",
       "\\item '\\textbackslash{}n\\textbackslash{}n\\textbackslash{}n\\textbackslash{}nJuventus'\n",
       "\\item '\\textbackslash{}n\\textbackslash{}n\\textbackslash{}n\\textbackslash{}nAtlético Madrid'\n",
       "\\item '\\textbackslash{}n\\textbackslash{}n\\textbackslash{}n\\textbackslash{}nManchester City'\n",
       "\\item '\\textbackslash{}n\\textbackslash{}n\\textbackslash{}n\\textbackslash{}nParis Saint-Germain'\n",
       "\\item '\\textbackslash{}n\\textbackslash{}n\\textbackslash{}n\\textbackslash{}nFC Bayern München'\n",
       "\\item '\\textbackslash{}n\\textbackslash{}n\\textbackslash{}n\\textbackslash{}nLiverpool'\n",
       "\\item '\\textbackslash{}n\\textbackslash{}n\\textbackslash{}n\\textbackslash{}nLiverpool'\n",
       "\\item '\\textbackslash{}n\\textbackslash{}n\\textbackslash{}n\\textbackslash{}nParis Saint-Germain'\n",
       "\\item '\\textbackslash{}n\\textbackslash{}n\\textbackslash{}n\\textbackslash{}nFC Barcelona'\n",
       "\\item '\\textbackslash{}n\\textbackslash{}n\\textbackslash{}n\\textbackslash{}nLiverpool'\n",
       "\\item '\\textbackslash{}n\\textbackslash{}n\\textbackslash{}n\\textbackslash{}nLiverpool'\n",
       "\\item '\\textbackslash{}n\\textbackslash{}n\\textbackslash{}n\\textbackslash{}nReal Madrid'\n",
       "\\item '\\textbackslash{}n\\textbackslash{}n\\textbackslash{}n\\textbackslash{}nReal Madrid'\n",
       "\\item '\\textbackslash{}n\\textbackslash{}n\\textbackslash{}n\\textbackslash{}nFC Bayern München'\n",
       "\\item '\\textbackslash{}n\\textbackslash{}n\\textbackslash{}n\\textbackslash{}nReal Madrid'\n",
       "\\item '\\textbackslash{}n\\textbackslash{}n\\textbackslash{}n\\textbackslash{}nReal Madrid'\n",
       "\\item '\\textbackslash{}n\\textbackslash{}n\\textbackslash{}n\\textbackslash{}nManchester City'\n",
       "\\item '\\textbackslash{}n\\textbackslash{}n\\textbackslash{}n\\textbackslash{}nManchester City'\n",
       "\\item '\\textbackslash{}n\\textbackslash{}n\\textbackslash{}n\\textbackslash{}nChelsea'\n",
       "\\end{enumerate*}\n"
      ],
      "text/markdown": [
       "1. '\\n\\n\\n\\nFC Barcelona'\n",
       "2. '\\n\\n\\n\\nJuventus'\n",
       "3. '\\n\\n\\n\\nAtlético Madrid'\n",
       "4. '\\n\\n\\n\\nManchester City'\n",
       "5. '\\n\\n\\n\\nParis Saint-Germain'\n",
       "6. '\\n\\n\\n\\nFC Bayern München'\n",
       "7. '\\n\\n\\n\\nLiverpool'\n",
       "8. '\\n\\n\\n\\nLiverpool'\n",
       "9. '\\n\\n\\n\\nParis Saint-Germain'\n",
       "10. '\\n\\n\\n\\nFC Barcelona'\n",
       "11. '\\n\\n\\n\\nLiverpool'\n",
       "12. '\\n\\n\\n\\nLiverpool'\n",
       "13. '\\n\\n\\n\\nReal Madrid'\n",
       "14. '\\n\\n\\n\\nReal Madrid'\n",
       "15. '\\n\\n\\n\\nFC Bayern München'\n",
       "16. '\\n\\n\\n\\nReal Madrid'\n",
       "17. '\\n\\n\\n\\nReal Madrid'\n",
       "18. '\\n\\n\\n\\nManchester City'\n",
       "19. '\\n\\n\\n\\nManchester City'\n",
       "20. '\\n\\n\\n\\nChelsea'\n",
       "\n",
       "\n"
      ],
      "text/plain": [
       " [1] \"\\n\\n\\n\\nFC Barcelona\"        \"\\n\\n\\n\\nJuventus\"           \n",
       " [3] \"\\n\\n\\n\\nAtlético Madrid\"     \"\\n\\n\\n\\nManchester City\"    \n",
       " [5] \"\\n\\n\\n\\nParis Saint-Germain\" \"\\n\\n\\n\\nFC Bayern München\"  \n",
       " [7] \"\\n\\n\\n\\nLiverpool\"           \"\\n\\n\\n\\nLiverpool\"          \n",
       " [9] \"\\n\\n\\n\\nParis Saint-Germain\" \"\\n\\n\\n\\nFC Barcelona\"       \n",
       "[11] \"\\n\\n\\n\\nLiverpool\"           \"\\n\\n\\n\\nLiverpool\"          \n",
       "[13] \"\\n\\n\\n\\nReal Madrid\"         \"\\n\\n\\n\\nReal Madrid\"        \n",
       "[15] \"\\n\\n\\n\\nFC Bayern München\"   \"\\n\\n\\n\\nReal Madrid\"        \n",
       "[17] \"\\n\\n\\n\\nReal Madrid\"         \"\\n\\n\\n\\nManchester City\"    \n",
       "[19] \"\\n\\n\\n\\nManchester City\"     \"\\n\\n\\n\\nChelsea\"            "
      ]
     },
     "metadata": {},
     "output_type": "display_data"
    }
   ],
   "source": [
    "#view the Club column \n",
    " head(fifa_datasets$Club,20) "
   ]
  },
  {
   "cell_type": "code",
   "execution_count": 17,
   "id": "5de2ba29-d06b-4048-85ec-90b3f1e47a93",
   "metadata": {},
   "outputs": [],
   "source": [
    "#we would notice the newline characters in the club column\n",
    "#remove the newlines characters \n",
    "fifa_datasets <- fifa_datasets %>% \n",
    " mutate(Club=str_trim(Club,side=\"left\")) "
   ]
  },
  {
   "cell_type": "code",
   "execution_count": 18,
   "id": "418860e3-0943-44a4-b22f-d59820bb7ae4",
   "metadata": {},
   "outputs": [
    {
     "data": {
      "text/html": [
       "<table class=\"dataframe\">\n",
       "<caption>A data.frame: 6 × 1</caption>\n",
       "<thead>\n",
       "\t<tr><th></th><th scope=col>Club</th></tr>\n",
       "\t<tr><th></th><th scope=col>&lt;chr&gt;</th></tr>\n",
       "</thead>\n",
       "<tbody>\n",
       "\t<tr><th scope=row>1</th><td>FC Barcelona       </td></tr>\n",
       "\t<tr><th scope=row>2</th><td>Juventus           </td></tr>\n",
       "\t<tr><th scope=row>3</th><td>Atlético Madrid    </td></tr>\n",
       "\t<tr><th scope=row>4</th><td>Manchester City    </td></tr>\n",
       "\t<tr><th scope=row>5</th><td>Paris Saint-Germain</td></tr>\n",
       "\t<tr><th scope=row>6</th><td>FC Bayern München  </td></tr>\n",
       "</tbody>\n",
       "</table>\n"
      ],
      "text/latex": [
       "A data.frame: 6 × 1\n",
       "\\begin{tabular}{r|l}\n",
       "  & Club\\\\\n",
       "  & <chr>\\\\\n",
       "\\hline\n",
       "\t1 & FC Barcelona       \\\\\n",
       "\t2 & Juventus           \\\\\n",
       "\t3 & Atlético Madrid    \\\\\n",
       "\t4 & Manchester City    \\\\\n",
       "\t5 & Paris Saint-Germain\\\\\n",
       "\t6 & FC Bayern München  \\\\\n",
       "\\end{tabular}\n"
      ],
      "text/markdown": [
       "\n",
       "A data.frame: 6 × 1\n",
       "\n",
       "| <!--/--> | Club &lt;chr&gt; |\n",
       "|---|---|\n",
       "| 1 | FC Barcelona        |\n",
       "| 2 | Juventus            |\n",
       "| 3 | Atlético Madrid     |\n",
       "| 4 | Manchester City     |\n",
       "| 5 | Paris Saint-Germain |\n",
       "| 6 | FC Bayern München   |\n",
       "\n"
      ],
      "text/plain": [
       "  Club               \n",
       "1 FC Barcelona       \n",
       "2 Juventus           \n",
       "3 Atlético Madrid    \n",
       "4 Manchester City    \n",
       "5 Paris Saint-Germain\n",
       "6 FC Bayern München  "
      ]
     },
     "metadata": {},
     "output_type": "display_data"
    }
   ],
   "source": [
    " fifa_datasets %>% select(Club) %>% head()"
   ]
  },
  {
   "cell_type": "markdown",
   "id": "6d11b840-4fe0-435d-89bc-cd030566c084",
   "metadata": {},
   "source": [
    "We have been able to remove the newline Characters from the Club Column "
   ]
  },
  {
   "cell_type": "markdown",
   "id": "ea9a0b0c-ed64-4a3d-bfa6-4afb6ce0c3a1",
   "metadata": {},
   "source": [
    "## 5. Handling the Contract Column "
   ]
  },
  {
   "cell_type": "markdown",
   "id": "d7639568-d7b9-43ab-8e81-42ed7064a52b",
   "metadata": {},
   "source": [
    "Examine the Contract Column "
   ]
  },
  {
   "cell_type": "code",
   "execution_count": 19,
   "id": "59e260e3-5577-4b8d-8d9b-eedfe83f7cd7",
   "metadata": {},
   "outputs": [
    {
     "data": {
      "text/html": [
       "'2004 ~ 2021, 2018 ~ 2022, 2014 ~ 2023, 2015 ~ 2023, 2017 ~ 2022, 2017 ~ 2023, 2018 ~ 2024, 2014 ~ 2022, 2018 ~ 2023, 2016 ~ 2023, 2013 ~ 2023, 2011 ~ 2023, 2009 ~ 2022, 2005 ~ 2021, 2011 ~ 2021, 2015 ~ 2022, 2017 ~ 2024, 2010 ~ 2024, 2012 ~ 2021, 2019 ~ 2024, 2015 ~ 2024, 2017 ~ 2025, 2020 ~ 2025, 2019 ~ 2023, 2008 ~ 2023, 2015 ~ 2021, 2020 ~ 2022, 2012 ~ 2022, 2016 ~ 2025, 2013 ~ 2022, 2011 ~ 2022, 2012 ~ 2024, 2016 ~ 2021, 2012 ~ 2023, 2008 ~ 2022, 2019 ~ 2022, 2017 ~ 2021, 2013 ~ 2024, 2020 ~ 2024, 2010 ~ 2022, 2020 ~ 2021, 2011 ~ 2024, 2020 ~ 2023, 2014 ~ 2024, 2013 ~ 2026, 2016 ~ 2022, 2010 ~ 2021, 2013 ~ 2021, 2019 ~ 2025, 2018 ~ 2025, 2016 ~ 2024, 2018 ~ 2021, 2009 ~ 2024, 2007 ~ 2022, Jun 30, 2021 On Loan, 2009 ~ 2021, 2019 ~ 2021, 2019 ~ 2026, Free, 2012 ~ 2028, 2010 ~ 2023, 2014 ~ 2021, 2015 ~ 2025, 2014 ~ 2026, 2012 ~ 2025, 2017 ~ 2020, 2002 ~ 2022, 2020 ~ 2027, 2013 ~ 2025, Dec 31, 2020 On Loan, 2019 ~ 2020, 2011 ~ 2025, 2016 ~ 2020, 2007 ~ 2021, 2020 ~ 2026, 2010 ~ 2025, 2009 ~ 2023, 2008 ~ 2021, 2020 ~ 2020, 2016 ~ 2026, Jan 30, 2021 On Loan, 2012 ~ 2020, 2014 ~ 2025, Jun 30, 2022 On Loan, 2015 ~ 2020, May 31, 2021 On Loan, 2018 ~ 2020, 2014 ~ 2020, 2013 ~ 2020, 2006 ~ 2024, Jul 5, 2021 On Loan, Dec 31, 2021 On Loan, 2004 ~ 2025, 2011 ~ 2020, Jul 1, 2021 On Loan, Jan 1, 2021 On Loan, 2006 ~ 2023, Aug 31, 2021 On Loan, 2006 ~ 2021, 2005 ~ 2023, 2003 ~ 2020, 2009 ~ 2020, 2002 ~ 2020, 2005 ~ 2020, 2005 ~ 2022, Jan 31, 2021 On Loan, 2010 ~ 2020, Dec 30, 2021 On Loan, 2008 ~ 2020, 2007 ~ 2020, 2003 ~ 2021, Jun 23, 2021 On Loan, Jan 3, 2021 On Loan, Nov 27, 2021 On Loan, 2002 ~ 2021, Jan 17, 2021 On Loan, Jun 30, 2023 On Loan, 1998 ~ 2021, 2003 ~ 2022, 2007 ~ 2023, Jul 31, 2021 On Loan, Nov 22, 2020 On Loan, May 31, 2022 On Loan, 2006 ~ 2020, Dec 30, 2020 On Loan, 2007 ~ 2025, Jan 4, 2021 On Loan, Nov 30, 2020 On Loan, 2004 ~ 2020, 2009 ~ 2025, Aug 1, 2021 On Loan'"
      ],
      "text/latex": [
       "'2004 \\textasciitilde{} 2021, 2018 \\textasciitilde{} 2022, 2014 \\textasciitilde{} 2023, 2015 \\textasciitilde{} 2023, 2017 \\textasciitilde{} 2022, 2017 \\textasciitilde{} 2023, 2018 \\textasciitilde{} 2024, 2014 \\textasciitilde{} 2022, 2018 \\textasciitilde{} 2023, 2016 \\textasciitilde{} 2023, 2013 \\textasciitilde{} 2023, 2011 \\textasciitilde{} 2023, 2009 \\textasciitilde{} 2022, 2005 \\textasciitilde{} 2021, 2011 \\textasciitilde{} 2021, 2015 \\textasciitilde{} 2022, 2017 \\textasciitilde{} 2024, 2010 \\textasciitilde{} 2024, 2012 \\textasciitilde{} 2021, 2019 \\textasciitilde{} 2024, 2015 \\textasciitilde{} 2024, 2017 \\textasciitilde{} 2025, 2020 \\textasciitilde{} 2025, 2019 \\textasciitilde{} 2023, 2008 \\textasciitilde{} 2023, 2015 \\textasciitilde{} 2021, 2020 \\textasciitilde{} 2022, 2012 \\textasciitilde{} 2022, 2016 \\textasciitilde{} 2025, 2013 \\textasciitilde{} 2022, 2011 \\textasciitilde{} 2022, 2012 \\textasciitilde{} 2024, 2016 \\textasciitilde{} 2021, 2012 \\textasciitilde{} 2023, 2008 \\textasciitilde{} 2022, 2019 \\textasciitilde{} 2022, 2017 \\textasciitilde{} 2021, 2013 \\textasciitilde{} 2024, 2020 \\textasciitilde{} 2024, 2010 \\textasciitilde{} 2022, 2020 \\textasciitilde{} 2021, 2011 \\textasciitilde{} 2024, 2020 \\textasciitilde{} 2023, 2014 \\textasciitilde{} 2024, 2013 \\textasciitilde{} 2026, 2016 \\textasciitilde{} 2022, 2010 \\textasciitilde{} 2021, 2013 \\textasciitilde{} 2021, 2019 \\textasciitilde{} 2025, 2018 \\textasciitilde{} 2025, 2016 \\textasciitilde{} 2024, 2018 \\textasciitilde{} 2021, 2009 \\textasciitilde{} 2024, 2007 \\textasciitilde{} 2022, Jun 30, 2021 On Loan, 2009 \\textasciitilde{} 2021, 2019 \\textasciitilde{} 2021, 2019 \\textasciitilde{} 2026, Free, 2012 \\textasciitilde{} 2028, 2010 \\textasciitilde{} 2023, 2014 \\textasciitilde{} 2021, 2015 \\textasciitilde{} 2025, 2014 \\textasciitilde{} 2026, 2012 \\textasciitilde{} 2025, 2017 \\textasciitilde{} 2020, 2002 \\textasciitilde{} 2022, 2020 \\textasciitilde{} 2027, 2013 \\textasciitilde{} 2025, Dec 31, 2020 On Loan, 2019 \\textasciitilde{} 2020, 2011 \\textasciitilde{} 2025, 2016 \\textasciitilde{} 2020, 2007 \\textasciitilde{} 2021, 2020 \\textasciitilde{} 2026, 2010 \\textasciitilde{} 2025, 2009 \\textasciitilde{} 2023, 2008 \\textasciitilde{} 2021, 2020 \\textasciitilde{} 2020, 2016 \\textasciitilde{} 2026, Jan 30, 2021 On Loan, 2012 \\textasciitilde{} 2020, 2014 \\textasciitilde{} 2025, Jun 30, 2022 On Loan, 2015 \\textasciitilde{} 2020, May 31, 2021 On Loan, 2018 \\textasciitilde{} 2020, 2014 \\textasciitilde{} 2020, 2013 \\textasciitilde{} 2020, 2006 \\textasciitilde{} 2024, Jul 5, 2021 On Loan, Dec 31, 2021 On Loan, 2004 \\textasciitilde{} 2025, 2011 \\textasciitilde{} 2020, Jul 1, 2021 On Loan, Jan 1, 2021 On Loan, 2006 \\textasciitilde{} 2023, Aug 31, 2021 On Loan, 2006 \\textasciitilde{} 2021, 2005 \\textasciitilde{} 2023, 2003 \\textasciitilde{} 2020, 2009 \\textasciitilde{} 2020, 2002 \\textasciitilde{} 2020, 2005 \\textasciitilde{} 2020, 2005 \\textasciitilde{} 2022, Jan 31, 2021 On Loan, 2010 \\textasciitilde{} 2020, Dec 30, 2021 On Loan, 2008 \\textasciitilde{} 2020, 2007 \\textasciitilde{} 2020, 2003 \\textasciitilde{} 2021, Jun 23, 2021 On Loan, Jan 3, 2021 On Loan, Nov 27, 2021 On Loan, 2002 \\textasciitilde{} 2021, Jan 17, 2021 On Loan, Jun 30, 2023 On Loan, 1998 \\textasciitilde{} 2021, 2003 \\textasciitilde{} 2022, 2007 \\textasciitilde{} 2023, Jul 31, 2021 On Loan, Nov 22, 2020 On Loan, May 31, 2022 On Loan, 2006 \\textasciitilde{} 2020, Dec 30, 2020 On Loan, 2007 \\textasciitilde{} 2025, Jan 4, 2021 On Loan, Nov 30, 2020 On Loan, 2004 \\textasciitilde{} 2020, 2009 \\textasciitilde{} 2025, Aug 1, 2021 On Loan'"
      ],
      "text/markdown": [
       "'2004 ~ 2021, 2018 ~ 2022, 2014 ~ 2023, 2015 ~ 2023, 2017 ~ 2022, 2017 ~ 2023, 2018 ~ 2024, 2014 ~ 2022, 2018 ~ 2023, 2016 ~ 2023, 2013 ~ 2023, 2011 ~ 2023, 2009 ~ 2022, 2005 ~ 2021, 2011 ~ 2021, 2015 ~ 2022, 2017 ~ 2024, 2010 ~ 2024, 2012 ~ 2021, 2019 ~ 2024, 2015 ~ 2024, 2017 ~ 2025, 2020 ~ 2025, 2019 ~ 2023, 2008 ~ 2023, 2015 ~ 2021, 2020 ~ 2022, 2012 ~ 2022, 2016 ~ 2025, 2013 ~ 2022, 2011 ~ 2022, 2012 ~ 2024, 2016 ~ 2021, 2012 ~ 2023, 2008 ~ 2022, 2019 ~ 2022, 2017 ~ 2021, 2013 ~ 2024, 2020 ~ 2024, 2010 ~ 2022, 2020 ~ 2021, 2011 ~ 2024, 2020 ~ 2023, 2014 ~ 2024, 2013 ~ 2026, 2016 ~ 2022, 2010 ~ 2021, 2013 ~ 2021, 2019 ~ 2025, 2018 ~ 2025, 2016 ~ 2024, 2018 ~ 2021, 2009 ~ 2024, 2007 ~ 2022, Jun 30, 2021 On Loan, 2009 ~ 2021, 2019 ~ 2021, 2019 ~ 2026, Free, 2012 ~ 2028, 2010 ~ 2023, 2014 ~ 2021, 2015 ~ 2025, 2014 ~ 2026, 2012 ~ 2025, 2017 ~ 2020, 2002 ~ 2022, 2020 ~ 2027, 2013 ~ 2025, Dec 31, 2020 On Loan, 2019 ~ 2020, 2011 ~ 2025, 2016 ~ 2020, 2007 ~ 2021, 2020 ~ 2026, 2010 ~ 2025, 2009 ~ 2023, 2008 ~ 2021, 2020 ~ 2020, 2016 ~ 2026, Jan 30, 2021 On Loan, 2012 ~ 2020, 2014 ~ 2025, Jun 30, 2022 On Loan, 2015 ~ 2020, May 31, 2021 On Loan, 2018 ~ 2020, 2014 ~ 2020, 2013 ~ 2020, 2006 ~ 2024, Jul 5, 2021 On Loan, Dec 31, 2021 On Loan, 2004 ~ 2025, 2011 ~ 2020, Jul 1, 2021 On Loan, Jan 1, 2021 On Loan, 2006 ~ 2023, Aug 31, 2021 On Loan, 2006 ~ 2021, 2005 ~ 2023, 2003 ~ 2020, 2009 ~ 2020, 2002 ~ 2020, 2005 ~ 2020, 2005 ~ 2022, Jan 31, 2021 On Loan, 2010 ~ 2020, Dec 30, 2021 On Loan, 2008 ~ 2020, 2007 ~ 2020, 2003 ~ 2021, Jun 23, 2021 On Loan, Jan 3, 2021 On Loan, Nov 27, 2021 On Loan, 2002 ~ 2021, Jan 17, 2021 On Loan, Jun 30, 2023 On Loan, 1998 ~ 2021, 2003 ~ 2022, 2007 ~ 2023, Jul 31, 2021 On Loan, Nov 22, 2020 On Loan, May 31, 2022 On Loan, 2006 ~ 2020, Dec 30, 2020 On Loan, 2007 ~ 2025, Jan 4, 2021 On Loan, Nov 30, 2020 On Loan, 2004 ~ 2020, 2009 ~ 2025, Aug 1, 2021 On Loan'"
      ],
      "text/plain": [
       "[1] \"2004 ~ 2021, 2018 ~ 2022, 2014 ~ 2023, 2015 ~ 2023, 2017 ~ 2022, 2017 ~ 2023, 2018 ~ 2024, 2014 ~ 2022, 2018 ~ 2023, 2016 ~ 2023, 2013 ~ 2023, 2011 ~ 2023, 2009 ~ 2022, 2005 ~ 2021, 2011 ~ 2021, 2015 ~ 2022, 2017 ~ 2024, 2010 ~ 2024, 2012 ~ 2021, 2019 ~ 2024, 2015 ~ 2024, 2017 ~ 2025, 2020 ~ 2025, 2019 ~ 2023, 2008 ~ 2023, 2015 ~ 2021, 2020 ~ 2022, 2012 ~ 2022, 2016 ~ 2025, 2013 ~ 2022, 2011 ~ 2022, 2012 ~ 2024, 2016 ~ 2021, 2012 ~ 2023, 2008 ~ 2022, 2019 ~ 2022, 2017 ~ 2021, 2013 ~ 2024, 2020 ~ 2024, 2010 ~ 2022, 2020 ~ 2021, 2011 ~ 2024, 2020 ~ 2023, 2014 ~ 2024, 2013 ~ 2026, 2016 ~ 2022, 2010 ~ 2021, 2013 ~ 2021, 2019 ~ 2025, 2018 ~ 2025, 2016 ~ 2024, 2018 ~ 2021, 2009 ~ 2024, 2007 ~ 2022, Jun 30, 2021 On Loan, 2009 ~ 2021, 2019 ~ 2021, 2019 ~ 2026, Free, 2012 ~ 2028, 2010 ~ 2023, 2014 ~ 2021, 2015 ~ 2025, 2014 ~ 2026, 2012 ~ 2025, 2017 ~ 2020, 2002 ~ 2022, 2020 ~ 2027, 2013 ~ 2025, Dec 31, 2020 On Loan, 2019 ~ 2020, 2011 ~ 2025, 2016 ~ 2020, 2007 ~ 2021, 2020 ~ 2026, 2010 ~ 2025, 2009 ~ 2023, 2008 ~ 2021, 2020 ~ 2020, 2016 ~ 2026, Jan 30, 2021 On Loan, 2012 ~ 2020, 2014 ~ 2025, Jun 30, 2022 On Loan, 2015 ~ 2020, May 31, 2021 On Loan, 2018 ~ 2020, 2014 ~ 2020, 2013 ~ 2020, 2006 ~ 2024, Jul 5, 2021 On Loan, Dec 31, 2021 On Loan, 2004 ~ 2025, 2011 ~ 2020, Jul 1, 2021 On Loan, Jan 1, 2021 On Loan, 2006 ~ 2023, Aug 31, 2021 On Loan, 2006 ~ 2021, 2005 ~ 2023, 2003 ~ 2020, 2009 ~ 2020, 2002 ~ 2020, 2005 ~ 2020, 2005 ~ 2022, Jan 31, 2021 On Loan, 2010 ~ 2020, Dec 30, 2021 On Loan, 2008 ~ 2020, 2007 ~ 2020, 2003 ~ 2021, Jun 23, 2021 On Loan, Jan 3, 2021 On Loan, Nov 27, 2021 On Loan, 2002 ~ 2021, Jan 17, 2021 On Loan, Jun 30, 2023 On Loan, 1998 ~ 2021, 2003 ~ 2022, 2007 ~ 2023, Jul 31, 2021 On Loan, Nov 22, 2020 On Loan, May 31, 2022 On Loan, 2006 ~ 2020, Dec 30, 2020 On Loan, 2007 ~ 2025, Jan 4, 2021 On Loan, Nov 30, 2020 On Loan, 2004 ~ 2020, 2009 ~ 2025, Aug 1, 2021 On Loan\""
      ]
     },
     "metadata": {},
     "output_type": "display_data"
    }
   ],
   "source": [
    "paste(unique(fifa_datasets$Contract), collapse = \", \")"
   ]
  },
  {
   "cell_type": "markdown",
   "id": "c8bb6900-a0be-4eae-b8a6-f6a5e92a0730",
   "metadata": {},
   "source": [
    "After a close examination of the Contract Column we could see it is made up of the duration of the Contract,Contract type if is free, or on Loan. So it would \n",
    "be nice to create a new column called **Contract_type** which indicate if a player is currently On Contract, Free or On Loan"
   ]
  },
  {
   "cell_type": "markdown",
   "id": "62985444-c0c6-472d-8c98-940606339727",
   "metadata": {},
   "source": [
    "#### 5.1 Create the contract_type Column"
   ]
  },
  {
   "cell_type": "code",
   "execution_count": 20,
   "id": "05281b46-d27d-4638-92d0-998db8a5862a",
   "metadata": {},
   "outputs": [
    {
     "data": {
      "text/html": [
       "<table class=\"dataframe\">\n",
       "<caption>A data.frame: 6 × 1</caption>\n",
       "<thead>\n",
       "\t<tr><th></th><th scope=col>Contract_type</th></tr>\n",
       "\t<tr><th></th><th scope=col>&lt;chr&gt;</th></tr>\n",
       "</thead>\n",
       "<tbody>\n",
       "\t<tr><th scope=row>1</th><td>Under Contract</td></tr>\n",
       "\t<tr><th scope=row>2</th><td>Under Contract</td></tr>\n",
       "\t<tr><th scope=row>3</th><td>Under Contract</td></tr>\n",
       "\t<tr><th scope=row>4</th><td>Under Contract</td></tr>\n",
       "\t<tr><th scope=row>5</th><td>Under Contract</td></tr>\n",
       "\t<tr><th scope=row>6</th><td>Under Contract</td></tr>\n",
       "</tbody>\n",
       "</table>\n"
      ],
      "text/latex": [
       "A data.frame: 6 × 1\n",
       "\\begin{tabular}{r|l}\n",
       "  & Contract\\_type\\\\\n",
       "  & <chr>\\\\\n",
       "\\hline\n",
       "\t1 & Under Contract\\\\\n",
       "\t2 & Under Contract\\\\\n",
       "\t3 & Under Contract\\\\\n",
       "\t4 & Under Contract\\\\\n",
       "\t5 & Under Contract\\\\\n",
       "\t6 & Under Contract\\\\\n",
       "\\end{tabular}\n"
      ],
      "text/markdown": [
       "\n",
       "A data.frame: 6 × 1\n",
       "\n",
       "| <!--/--> | Contract_type &lt;chr&gt; |\n",
       "|---|---|\n",
       "| 1 | Under Contract |\n",
       "| 2 | Under Contract |\n",
       "| 3 | Under Contract |\n",
       "| 4 | Under Contract |\n",
       "| 5 | Under Contract |\n",
       "| 6 | Under Contract |\n",
       "\n"
      ],
      "text/plain": [
       "  Contract_type \n",
       "1 Under Contract\n",
       "2 Under Contract\n",
       "3 Under Contract\n",
       "4 Under Contract\n",
       "5 Under Contract\n",
       "6 Under Contract"
      ]
     },
     "metadata": {},
     "output_type": "display_data"
    }
   ],
   "source": [
    "#create a new Column Contract_type , if column contain Loan print On loan\n",
    "#if column contain Free print Free otherwise print Under Contract\n",
    "fifa_datasets <- fifa_datasets %>%\n",
    "    mutate(Contract_type= if_else(str_detect(Contract,\"On Loan\"),\"On Loan\", \n",
    "                        if_else(str_detect(Contract,\"Free\"),\"Free\",\"Under Contract\")))\n",
    "\n",
    "#examine the new column Contract_type\n",
    "fifa_datasets %>% select(Contract_type) %>% head()"
   ]
  },
  {
   "cell_type": "markdown",
   "id": "ef8bec0c-8a71-4d62-be20-449bc0341c7d",
   "metadata": {},
   "source": [
    "#### 5.2 Create a new column for the Start and End Contract  "
   ]
  },
  {
   "cell_type": "markdown",
   "id": "40dec665-0a04-470a-8ff8-4174c1986822",
   "metadata": {},
   "source": [
    "Start Contract is the first year before the ~ sign, it signify the year the Player started the Contract, after examining the Contract and Joined date i\n",
    "found out the Joined date and the first year before the ~ are the same. so we can as well create the **Start Contract** column from the joined date "
   ]
  },
  {
   "cell_type": "code",
   "execution_count": 21,
   "id": "2ff11c51-864d-4b74-9b2b-b1f821feb476",
   "metadata": {},
   "outputs": [
    {
     "data": {
      "text/html": [
       "<table class=\"dataframe\">\n",
       "<caption>A data.frame: 6 × 2</caption>\n",
       "<thead>\n",
       "\t<tr><th></th><th scope=col>Contract</th><th scope=col>Joined</th></tr>\n",
       "\t<tr><th></th><th scope=col>&lt;chr&gt;</th><th scope=col>&lt;chr&gt;</th></tr>\n",
       "</thead>\n",
       "<tbody>\n",
       "\t<tr><th scope=row>1</th><td>2004 ~ 2021</td><td>Jul 1, 2004 </td></tr>\n",
       "\t<tr><th scope=row>2</th><td>2018 ~ 2022</td><td>Jul 10, 2018</td></tr>\n",
       "\t<tr><th scope=row>3</th><td>2014 ~ 2023</td><td>Jul 16, 2014</td></tr>\n",
       "\t<tr><th scope=row>4</th><td>2015 ~ 2023</td><td>Aug 30, 2015</td></tr>\n",
       "\t<tr><th scope=row>5</th><td>2017 ~ 2022</td><td>Aug 3, 2017 </td></tr>\n",
       "\t<tr><th scope=row>6</th><td>2014 ~ 2023</td><td>Jul 1, 2014 </td></tr>\n",
       "</tbody>\n",
       "</table>\n"
      ],
      "text/latex": [
       "A data.frame: 6 × 2\n",
       "\\begin{tabular}{r|ll}\n",
       "  & Contract & Joined\\\\\n",
       "  & <chr> & <chr>\\\\\n",
       "\\hline\n",
       "\t1 & 2004 \\textasciitilde{} 2021 & Jul 1, 2004 \\\\\n",
       "\t2 & 2018 \\textasciitilde{} 2022 & Jul 10, 2018\\\\\n",
       "\t3 & 2014 \\textasciitilde{} 2023 & Jul 16, 2014\\\\\n",
       "\t4 & 2015 \\textasciitilde{} 2023 & Aug 30, 2015\\\\\n",
       "\t5 & 2017 \\textasciitilde{} 2022 & Aug 3, 2017 \\\\\n",
       "\t6 & 2014 \\textasciitilde{} 2023 & Jul 1, 2014 \\\\\n",
       "\\end{tabular}\n"
      ],
      "text/markdown": [
       "\n",
       "A data.frame: 6 × 2\n",
       "\n",
       "| <!--/--> | Contract &lt;chr&gt; | Joined &lt;chr&gt; |\n",
       "|---|---|---|\n",
       "| 1 | 2004 ~ 2021 | Jul 1, 2004  |\n",
       "| 2 | 2018 ~ 2022 | Jul 10, 2018 |\n",
       "| 3 | 2014 ~ 2023 | Jul 16, 2014 |\n",
       "| 4 | 2015 ~ 2023 | Aug 30, 2015 |\n",
       "| 5 | 2017 ~ 2022 | Aug 3, 2017  |\n",
       "| 6 | 2014 ~ 2023 | Jul 1, 2014  |\n",
       "\n"
      ],
      "text/plain": [
       "  Contract    Joined      \n",
       "1 2004 ~ 2021 Jul 1, 2004 \n",
       "2 2018 ~ 2022 Jul 10, 2018\n",
       "3 2014 ~ 2023 Jul 16, 2014\n",
       "4 2015 ~ 2023 Aug 30, 2015\n",
       "5 2017 ~ 2022 Aug 3, 2017 \n",
       "6 2014 ~ 2023 Jul 1, 2014 "
      ]
     },
     "metadata": {},
     "output_type": "display_data"
    }
   ],
   "source": [
    "fifa_datasets %>% select(Contract,Joined) %>% head() \n"
   ]
  },
  {
   "cell_type": "markdown",
   "id": "2d6474d3-fec6-49b9-b6e0-52fa80ba6508",
   "metadata": {},
   "source": [
    "##### 5.2.1 Create the Start Contract Column "
   ]
  },
  {
   "cell_type": "code",
   "execution_count": 22,
   "id": "077ada8f-f889-415d-adf4-192f9995dcee",
   "metadata": {},
   "outputs": [
    {
     "data": {
      "text/html": [
       "<table class=\"dataframe\">\n",
       "<caption>A data.frame: 6 × 1</caption>\n",
       "<thead>\n",
       "\t<tr><th></th><th scope=col>Start_Contract</th></tr>\n",
       "\t<tr><th></th><th scope=col>&lt;dbl&gt;</th></tr>\n",
       "</thead>\n",
       "<tbody>\n",
       "\t<tr><th scope=row>1</th><td>2004</td></tr>\n",
       "\t<tr><th scope=row>2</th><td>2018</td></tr>\n",
       "\t<tr><th scope=row>3</th><td>2014</td></tr>\n",
       "\t<tr><th scope=row>4</th><td>2015</td></tr>\n",
       "\t<tr><th scope=row>5</th><td>2017</td></tr>\n",
       "\t<tr><th scope=row>6</th><td>2014</td></tr>\n",
       "</tbody>\n",
       "</table>\n"
      ],
      "text/latex": [
       "A data.frame: 6 × 1\n",
       "\\begin{tabular}{r|l}\n",
       "  & Start\\_Contract\\\\\n",
       "  & <dbl>\\\\\n",
       "\\hline\n",
       "\t1 & 2004\\\\\n",
       "\t2 & 2018\\\\\n",
       "\t3 & 2014\\\\\n",
       "\t4 & 2015\\\\\n",
       "\t5 & 2017\\\\\n",
       "\t6 & 2014\\\\\n",
       "\\end{tabular}\n"
      ],
      "text/markdown": [
       "\n",
       "A data.frame: 6 × 1\n",
       "\n",
       "| <!--/--> | Start_Contract &lt;dbl&gt; |\n",
       "|---|---|\n",
       "| 1 | 2004 |\n",
       "| 2 | 2018 |\n",
       "| 3 | 2014 |\n",
       "| 4 | 2015 |\n",
       "| 5 | 2017 |\n",
       "| 6 | 2014 |\n",
       "\n"
      ],
      "text/plain": [
       "  Start_Contract\n",
       "1 2004          \n",
       "2 2018          \n",
       "3 2014          \n",
       "4 2015          \n",
       "5 2017          \n",
       "6 2014          "
      ]
     },
     "metadata": {},
     "output_type": "display_data"
    }
   ],
   "source": [
    "fifa_datasets$Start_Contract <-year(as.Date(fifa_datasets$Joined, format = \"%b %d, %Y\"))  #create Start_Contract colunmn\n",
    "fifa_datasets %>% select(Start_Contract) %>% head() #view the new Column"
   ]
  },
  {
   "cell_type": "markdown",
   "id": "ebd6e2a1-b6d3-47a2-a9d9-41fd691fbb36",
   "metadata": {},
   "source": [
    "##### 5.2.2 Create the End Contract Column"
   ]
  },
  {
   "cell_type": "code",
   "execution_count": 23,
   "id": "2f4abb55-e4c8-4c2c-9de2-f82b92f7be3c",
   "metadata": {},
   "outputs": [
    {
     "data": {
      "text/html": [
       "<table class=\"dataframe\">\n",
       "<caption>A data.frame: 6 × 1</caption>\n",
       "<thead>\n",
       "\t<tr><th></th><th scope=col>End_Contract</th></tr>\n",
       "\t<tr><th></th><th scope=col>&lt;chr&gt;</th></tr>\n",
       "</thead>\n",
       "<tbody>\n",
       "\t<tr><th scope=row>1</th><td>2021</td></tr>\n",
       "\t<tr><th scope=row>2</th><td>2022</td></tr>\n",
       "\t<tr><th scope=row>3</th><td>2023</td></tr>\n",
       "\t<tr><th scope=row>4</th><td>2023</td></tr>\n",
       "\t<tr><th scope=row>5</th><td>2022</td></tr>\n",
       "\t<tr><th scope=row>6</th><td>2023</td></tr>\n",
       "</tbody>\n",
       "</table>\n"
      ],
      "text/latex": [
       "A data.frame: 6 × 1\n",
       "\\begin{tabular}{r|l}\n",
       "  & End\\_Contract\\\\\n",
       "  & <chr>\\\\\n",
       "\\hline\n",
       "\t1 & 2021\\\\\n",
       "\t2 & 2022\\\\\n",
       "\t3 & 2023\\\\\n",
       "\t4 & 2023\\\\\n",
       "\t5 & 2022\\\\\n",
       "\t6 & 2023\\\\\n",
       "\\end{tabular}\n"
      ],
      "text/markdown": [
       "\n",
       "A data.frame: 6 × 1\n",
       "\n",
       "| <!--/--> | End_Contract &lt;chr&gt; |\n",
       "|---|---|\n",
       "| 1 | 2021 |\n",
       "| 2 | 2022 |\n",
       "| 3 | 2023 |\n",
       "| 4 | 2023 |\n",
       "| 5 | 2022 |\n",
       "| 6 | 2023 |\n",
       "\n"
      ],
      "text/plain": [
       "  End_Contract\n",
       "1 2021        \n",
       "2 2022        \n",
       "3 2023        \n",
       "4 2023        \n",
       "5 2022        \n",
       "6 2023        "
      ]
     },
     "metadata": {},
     "output_type": "display_data"
    }
   ],
   "source": [
    "\n",
    "fifa_datasets <- fifa_datasets %>% mutate(End_Contract= if_else(str_detect(Contract,\"~\"),\n",
    "                                                          str_extract(Contract,\"(?<=~\\\\s)\\\\d{4}\"),\n",
    "                                                          str_extract(Contract,\"\\\\d{4}\")))\n",
    "fifa_datasets %>% select(End_Contract) %>% head() #view the End_Contract Column "
   ]
  },
  {
   "cell_type": "markdown",
   "id": "a59c7064-ac4d-4c0b-bd1a-39b74f954ca1",
   "metadata": {},
   "source": [
    "We can now remove the **Contract** Column since it is no longer useful "
   ]
  },
  {
   "cell_type": "code",
   "execution_count": 24,
   "id": "7024a686-92d1-49bf-a169-81039525df49",
   "metadata": {},
   "outputs": [],
   "source": [
    "fifa_datasets <- fifa_datasets %>% select(-Contract)"
   ]
  },
  {
   "cell_type": "markdown",
   "id": "ff93a4de-69f4-46f0-864c-5b9fbcb442d5",
   "metadata": {},
   "source": [
    "### 6. Convert the Height and Weight to their respective standard unit cm and kg "
   ]
  },
  {
   "cell_type": "markdown",
   "id": "c1d61acb-26ba-4d26-b303-52a11c4f7494",
   "metadata": {},
   "source": [
    "### 6.1 Convert Height to Cm"
   ]
  },
  {
   "cell_type": "markdown",
   "id": "d303a7f9-4c8d-4b1c-9322-19da5898de5f",
   "metadata": {},
   "source": [
    "##### Examine the Height column"
   ]
  },
  {
   "cell_type": "code",
   "execution_count": 25,
   "id": "62b28b5d-70bb-4b54-b2d4-eda005d48409",
   "metadata": {},
   "outputs": [
    {
     "data": {
      "text/html": [
       "'170cm, 187cm, 188cm, 181cm, 175cm, 184cm, 191cm, 178cm, 193cm, 185cm, 199cm, 173cm, 168cm, 176cm, 177cm, 183cm, 180cm, 189cm, 179cm, 195cm, 172cm, 182cm, 186cm, 192cm, 165cm, 194cm, 167cm, 196cm, 163cm, 190cm, 174cm, 169cm, 171cm, 197cm, 200cm, 166cm, 6\\'2\", 164cm, 198cm, 6\\'3\", 6\\'5\", 5\\'11\", 6\\'4\", 6\\'1\", 6\\'0\", 5\\'10\", 5\\'9\", 5\\'6\", 5\\'7\", 5\\'4\", 201cm, 158cm, 162cm, 161cm, 160cm, 203cm, 157cm, 156cm, 202cm, 159cm, 206cm, 155cm'"
      ],
      "text/latex": [
       "'170cm, 187cm, 188cm, 181cm, 175cm, 184cm, 191cm, 178cm, 193cm, 185cm, 199cm, 173cm, 168cm, 176cm, 177cm, 183cm, 180cm, 189cm, 179cm, 195cm, 172cm, 182cm, 186cm, 192cm, 165cm, 194cm, 167cm, 196cm, 163cm, 190cm, 174cm, 169cm, 171cm, 197cm, 200cm, 166cm, 6\\textbackslash{}'2\", 164cm, 198cm, 6\\textbackslash{}'3\", 6\\textbackslash{}'5\", 5\\textbackslash{}'11\", 6\\textbackslash{}'4\", 6\\textbackslash{}'1\", 6\\textbackslash{}'0\", 5\\textbackslash{}'10\", 5\\textbackslash{}'9\", 5\\textbackslash{}'6\", 5\\textbackslash{}'7\", 5\\textbackslash{}'4\", 201cm, 158cm, 162cm, 161cm, 160cm, 203cm, 157cm, 156cm, 202cm, 159cm, 206cm, 155cm'"
      ],
      "text/markdown": [
       "'170cm, 187cm, 188cm, 181cm, 175cm, 184cm, 191cm, 178cm, 193cm, 185cm, 199cm, 173cm, 168cm, 176cm, 177cm, 183cm, 180cm, 189cm, 179cm, 195cm, 172cm, 182cm, 186cm, 192cm, 165cm, 194cm, 167cm, 196cm, 163cm, 190cm, 174cm, 169cm, 171cm, 197cm, 200cm, 166cm, 6\\'2\", 164cm, 198cm, 6\\'3\", 6\\'5\", 5\\'11\", 6\\'4\", 6\\'1\", 6\\'0\", 5\\'10\", 5\\'9\", 5\\'6\", 5\\'7\", 5\\'4\", 201cm, 158cm, 162cm, 161cm, 160cm, 203cm, 157cm, 156cm, 202cm, 159cm, 206cm, 155cm'"
      ],
      "text/plain": [
       "[1] \"170cm, 187cm, 188cm, 181cm, 175cm, 184cm, 191cm, 178cm, 193cm, 185cm, 199cm, 173cm, 168cm, 176cm, 177cm, 183cm, 180cm, 189cm, 179cm, 195cm, 172cm, 182cm, 186cm, 192cm, 165cm, 194cm, 167cm, 196cm, 163cm, 190cm, 174cm, 169cm, 171cm, 197cm, 200cm, 166cm, 6'2\\\", 164cm, 198cm, 6'3\\\", 6'5\\\", 5'11\\\", 6'4\\\", 6'1\\\", 6'0\\\", 5'10\\\", 5'9\\\", 5'6\\\", 5'7\\\", 5'4\\\", 201cm, 158cm, 162cm, 161cm, 160cm, 203cm, 157cm, 156cm, 202cm, 159cm, 206cm, 155cm\""
      ]
     },
     "metadata": {},
     "output_type": "display_data"
    }
   ],
   "source": [
    "paste(unique(fifa_datasets$Height),collapse = \", \")"
   ]
  },
  {
   "cell_type": "markdown",
   "id": "3a45ea16-4f82-4749-94fd-fad06541797c",
   "metadata": {},
   "source": [
    "Notice that the height column as recorded in Cm and ft+inches "
   ]
  },
  {
   "cell_type": "markdown",
   "id": "733cd1e0-3301-455f-9215-19d8924c7e7e",
   "metadata": {},
   "source": [
    "We separate the Ft+inches into two column one for ft and another for inches "
   ]
  },
  {
   "cell_type": "code",
   "execution_count": null,
   "id": "44192e14-ee4f-4ff6-b0f8-352ffaa4fb92",
   "metadata": {},
   "outputs": [],
   "source": [
    "    fifa_datasets <-\n",
    "    fifa_datasets %>% \n",
    "    separate(Height,c(\"feet\",\"inches\"),\"'\") %>%  #separate the height column into feet and inches respectivity\n",
    "    mutate(inches=as.numeric(str_remove_all(inches,'\"'))*2.58) %>%  #convert inches to cm\n",
    "    mutate(feet=if_else(str_detect(feet,\"cm\"),as.numeric(str_remove_all(feet, \"cm\")),\n",
    "                        as.numeric(feet)*30.48)) %>% #convert ft into cm\n",
    "    rowwise() %>% \n",
    "    mutate(Height_cm=sum(c(feet,inches),na.rm=TRUE))  %>% #sum the feet and inches column together \n",
    "    select(-feet,-inches)"
   ]
  },
  {
   "cell_type": "markdown",
   "id": "1abc9b71-1a26-4e01-95d0-17826ef946b4",
   "metadata": {},
   "source": [
    "Examine the Height Column "
   ]
  },
  {
   "cell_type": "code",
   "execution_count": 27,
   "id": "34a9608d-5f5d-4426-93be-69c2d9083e3b",
   "metadata": {},
   "outputs": [
    {
     "data": {
      "text/html": [
       "<table class=\"dataframe\">\n",
       "<caption>A rowwise_df: 6 × 1</caption>\n",
       "<thead>\n",
       "\t<tr><th scope=col>Height_cm</th></tr>\n",
       "\t<tr><th scope=col>&lt;dbl&gt;</th></tr>\n",
       "</thead>\n",
       "<tbody>\n",
       "\t<tr><td>170</td></tr>\n",
       "\t<tr><td>187</td></tr>\n",
       "\t<tr><td>188</td></tr>\n",
       "\t<tr><td>181</td></tr>\n",
       "\t<tr><td>175</td></tr>\n",
       "\t<tr><td>184</td></tr>\n",
       "</tbody>\n",
       "</table>\n"
      ],
      "text/latex": [
       "A rowwise\\_df: 6 × 1\n",
       "\\begin{tabular}{l}\n",
       " Height\\_cm\\\\\n",
       " <dbl>\\\\\n",
       "\\hline\n",
       "\t 170\\\\\n",
       "\t 187\\\\\n",
       "\t 188\\\\\n",
       "\t 181\\\\\n",
       "\t 175\\\\\n",
       "\t 184\\\\\n",
       "\\end{tabular}\n"
      ],
      "text/markdown": [
       "\n",
       "A rowwise_df: 6 × 1\n",
       "\n",
       "| Height_cm &lt;dbl&gt; |\n",
       "|---|\n",
       "| 170 |\n",
       "| 187 |\n",
       "| 188 |\n",
       "| 181 |\n",
       "| 175 |\n",
       "| 184 |\n",
       "\n"
      ],
      "text/plain": [
       "  Height_cm\n",
       "1 170      \n",
       "2 187      \n",
       "3 188      \n",
       "4 181      \n",
       "5 175      \n",
       "6 184      "
      ]
     },
     "metadata": {},
     "output_type": "display_data"
    }
   ],
   "source": [
    "fifa_datasets %>% select(Height_cm) %>% head()"
   ]
  },
  {
   "cell_type": "markdown",
   "id": "72125449-d179-4391-9458-0f992cc26289",
   "metadata": {},
   "source": [
    "We can see the Height as one unit they are all recorded in Cm"
   ]
  },
  {
   "cell_type": "markdown",
   "id": "6ddd9dff-5f38-4728-8644-a038acfe1477",
   "metadata": {},
   "source": [
    "### 6.2 Convert Weight to kg"
   ]
  },
  {
   "cell_type": "markdown",
   "id": "84c52e05-612d-4c04-9613-8218dad717c0",
   "metadata": {},
   "source": [
    "#### Examine the weight column"
   ]
  },
  {
   "cell_type": "code",
   "execution_count": 28,
   "id": "008b6e13-0bf8-4625-ac9b-f364b787e825",
   "metadata": {},
   "outputs": [
    {
     "data": {
      "text/html": [
       "'72kg, 83kg, 87kg, 70kg, 68kg, 80kg, 71kg, 91kg, 73kg, 85kg, 92kg, 69kg, 84kg, 96kg, 81kg, 82kg, 75kg, 86kg, 89kg, 74kg, 76kg, 64kg, 78kg, 90kg, 66kg, 60kg, 94kg, 79kg, 67kg, 65kg, 59kg, 61kg, 93kg, 88kg, 97kg, 77kg, 62kg, 63kg, 95kg, 100kg, 58kg, 183lbs, 179lbs, 172lbs, 196lbs, 176lbs, 185lbs, 170lbs, 203lbs, 168lbs, 161lbs, 146lbs, 130lbs, 190lbs, 174lbs, 148lbs, 165lbs, 159lbs, 192lbs, 181lbs, 139lbs, 154lbs, 157lbs, 163lbs, 98kg, 103kg, 99kg, 102kg, 56kg, 101kg, 57kg, 55kg, 104kg, 107kg, 110kg, 53kg, 50kg, 54kg, 52kg'"
      ],
      "text/latex": [
       "'72kg, 83kg, 87kg, 70kg, 68kg, 80kg, 71kg, 91kg, 73kg, 85kg, 92kg, 69kg, 84kg, 96kg, 81kg, 82kg, 75kg, 86kg, 89kg, 74kg, 76kg, 64kg, 78kg, 90kg, 66kg, 60kg, 94kg, 79kg, 67kg, 65kg, 59kg, 61kg, 93kg, 88kg, 97kg, 77kg, 62kg, 63kg, 95kg, 100kg, 58kg, 183lbs, 179lbs, 172lbs, 196lbs, 176lbs, 185lbs, 170lbs, 203lbs, 168lbs, 161lbs, 146lbs, 130lbs, 190lbs, 174lbs, 148lbs, 165lbs, 159lbs, 192lbs, 181lbs, 139lbs, 154lbs, 157lbs, 163lbs, 98kg, 103kg, 99kg, 102kg, 56kg, 101kg, 57kg, 55kg, 104kg, 107kg, 110kg, 53kg, 50kg, 54kg, 52kg'"
      ],
      "text/markdown": [
       "'72kg, 83kg, 87kg, 70kg, 68kg, 80kg, 71kg, 91kg, 73kg, 85kg, 92kg, 69kg, 84kg, 96kg, 81kg, 82kg, 75kg, 86kg, 89kg, 74kg, 76kg, 64kg, 78kg, 90kg, 66kg, 60kg, 94kg, 79kg, 67kg, 65kg, 59kg, 61kg, 93kg, 88kg, 97kg, 77kg, 62kg, 63kg, 95kg, 100kg, 58kg, 183lbs, 179lbs, 172lbs, 196lbs, 176lbs, 185lbs, 170lbs, 203lbs, 168lbs, 161lbs, 146lbs, 130lbs, 190lbs, 174lbs, 148lbs, 165lbs, 159lbs, 192lbs, 181lbs, 139lbs, 154lbs, 157lbs, 163lbs, 98kg, 103kg, 99kg, 102kg, 56kg, 101kg, 57kg, 55kg, 104kg, 107kg, 110kg, 53kg, 50kg, 54kg, 52kg'"
      ],
      "text/plain": [
       "[1] \"72kg, 83kg, 87kg, 70kg, 68kg, 80kg, 71kg, 91kg, 73kg, 85kg, 92kg, 69kg, 84kg, 96kg, 81kg, 82kg, 75kg, 86kg, 89kg, 74kg, 76kg, 64kg, 78kg, 90kg, 66kg, 60kg, 94kg, 79kg, 67kg, 65kg, 59kg, 61kg, 93kg, 88kg, 97kg, 77kg, 62kg, 63kg, 95kg, 100kg, 58kg, 183lbs, 179lbs, 172lbs, 196lbs, 176lbs, 185lbs, 170lbs, 203lbs, 168lbs, 161lbs, 146lbs, 130lbs, 190lbs, 174lbs, 148lbs, 165lbs, 159lbs, 192lbs, 181lbs, 139lbs, 154lbs, 157lbs, 163lbs, 98kg, 103kg, 99kg, 102kg, 56kg, 101kg, 57kg, 55kg, 104kg, 107kg, 110kg, 53kg, 50kg, 54kg, 52kg\""
      ]
     },
     "metadata": {},
     "output_type": "display_data"
    }
   ],
   "source": [
    "paste(unique(fifa_datasets$Weight),collapse = \", \")"
   ]
  },
  {
   "cell_type": "code",
   "execution_count": null,
   "id": "a803ade1-af7d-45c8-9685-6b5ba45b2181",
   "metadata": {},
   "outputs": [],
   "source": [
    "#using the str package to detect ibs and remove ibs then convert ibs to kg\n",
    "#remove the kg and turn to numeric \n",
    "fifa_datasets <-fifa_datasets %>% \n",
    "    mutate(Weight_kg= if_else(str_detect(Weight,\"lbs\"), \n",
    "                           round(as.numeric(str_remove_all(Weight,\"lbs\"))*0.453592,2), #Detect ibs and remove ibs,convert to kg\n",
    "                            as.numeric(str_remove_all(Weight,\"kg\"))))  #remove the kg and turn to numeric\n",
    "                             "
   ]
  },
  {
   "cell_type": "code",
   "execution_count": 30,
   "id": "ac87d961-6ccb-4f4c-8a10-d9447b103d5b",
   "metadata": {},
   "outputs": [
    {
     "data": {
      "text/html": [
       "<table class=\"dataframe\">\n",
       "<caption>A rowwise_df: 6 × 1</caption>\n",
       "<thead>\n",
       "\t<tr><th scope=col>Weight</th></tr>\n",
       "\t<tr><th scope=col>&lt;chr&gt;</th></tr>\n",
       "</thead>\n",
       "<tbody>\n",
       "\t<tr><td>72kg</td></tr>\n",
       "\t<tr><td>83kg</td></tr>\n",
       "\t<tr><td>87kg</td></tr>\n",
       "\t<tr><td>70kg</td></tr>\n",
       "\t<tr><td>68kg</td></tr>\n",
       "\t<tr><td>80kg</td></tr>\n",
       "</tbody>\n",
       "</table>\n"
      ],
      "text/latex": [
       "A rowwise\\_df: 6 × 1\n",
       "\\begin{tabular}{l}\n",
       " Weight\\\\\n",
       " <chr>\\\\\n",
       "\\hline\n",
       "\t 72kg\\\\\n",
       "\t 83kg\\\\\n",
       "\t 87kg\\\\\n",
       "\t 70kg\\\\\n",
       "\t 68kg\\\\\n",
       "\t 80kg\\\\\n",
       "\\end{tabular}\n"
      ],
      "text/markdown": [
       "\n",
       "A rowwise_df: 6 × 1\n",
       "\n",
       "| Weight &lt;chr&gt; |\n",
       "|---|\n",
       "| 72kg |\n",
       "| 83kg |\n",
       "| 87kg |\n",
       "| 70kg |\n",
       "| 68kg |\n",
       "| 80kg |\n",
       "\n"
      ],
      "text/plain": [
       "  Weight\n",
       "1 72kg  \n",
       "2 83kg  \n",
       "3 87kg  \n",
       "4 70kg  \n",
       "5 68kg  \n",
       "6 80kg  "
      ]
     },
     "metadata": {},
     "output_type": "display_data"
    }
   ],
   "source": [
    "fifa_datasets %>% select(Weight) %>% head()"
   ]
  },
  {
   "cell_type": "markdown",
   "id": "5379d71e-c15e-45fb-a194-e060b8d3e5d2",
   "metadata": {},
   "source": [
    "### 7. Convert **Joined, Loan.Date.end** to date time format yyyy/mm/dd"
   ]
  },
  {
   "cell_type": "code",
   "execution_count": 31,
   "id": "c14928fd-3ae1-4f04-bfa7-9db6291877eb",
   "metadata": {},
   "outputs": [
    {
     "data": {
      "text/html": [
       "'character'"
      ],
      "text/latex": [
       "'character'"
      ],
      "text/markdown": [
       "'character'"
      ],
      "text/plain": [
       "[1] \"character\""
      ]
     },
     "metadata": {},
     "output_type": "display_data"
    },
    {
     "data": {
      "text/html": [
       "<style>\n",
       ".list-inline {list-style: none; margin:0; padding: 0}\n",
       ".list-inline>li {display: inline-block}\n",
       ".list-inline>li:not(:last-child)::after {content: \"\\00b7\"; padding: 0 .5ex}\n",
       "</style>\n",
       "<ol class=list-inline><li>'Jul 1, 2004'</li><li>'Jul 10, 2018'</li><li>'Jul 16, 2014'</li><li>'Aug 30, 2015'</li><li>'Aug 3, 2017'</li><li>'Jul 1, 2014'</li><li>'Jul 1, 2017'</li><li>'Jul 19, 2018'</li><li>'Jul 1, 2018'</li><li>'Jul 1, 2014'</li><li>'Jan 1, 2018'</li><li>'Jul 1, 2016'</li><li>'Jul 11, 2013'</li><li>'Aug 9, 2018'</li><li>'Jul 1, 2011'</li><li>'Jul 9, 2009'</li><li>'Aug 1, 2005'</li><li>'Jul 28, 2011'</li><li>'Jul 14, 2015'</li><li>'Jul 16, 2016'</li></ol>\n"
      ],
      "text/latex": [
       "\\begin{enumerate*}\n",
       "\\item 'Jul 1, 2004'\n",
       "\\item 'Jul 10, 2018'\n",
       "\\item 'Jul 16, 2014'\n",
       "\\item 'Aug 30, 2015'\n",
       "\\item 'Aug 3, 2017'\n",
       "\\item 'Jul 1, 2014'\n",
       "\\item 'Jul 1, 2017'\n",
       "\\item 'Jul 19, 2018'\n",
       "\\item 'Jul 1, 2018'\n",
       "\\item 'Jul 1, 2014'\n",
       "\\item 'Jan 1, 2018'\n",
       "\\item 'Jul 1, 2016'\n",
       "\\item 'Jul 11, 2013'\n",
       "\\item 'Aug 9, 2018'\n",
       "\\item 'Jul 1, 2011'\n",
       "\\item 'Jul 9, 2009'\n",
       "\\item 'Aug 1, 2005'\n",
       "\\item 'Jul 28, 2011'\n",
       "\\item 'Jul 14, 2015'\n",
       "\\item 'Jul 16, 2016'\n",
       "\\end{enumerate*}\n"
      ],
      "text/markdown": [
       "1. 'Jul 1, 2004'\n",
       "2. 'Jul 10, 2018'\n",
       "3. 'Jul 16, 2014'\n",
       "4. 'Aug 30, 2015'\n",
       "5. 'Aug 3, 2017'\n",
       "6. 'Jul 1, 2014'\n",
       "7. 'Jul 1, 2017'\n",
       "8. 'Jul 19, 2018'\n",
       "9. 'Jul 1, 2018'\n",
       "10. 'Jul 1, 2014'\n",
       "11. 'Jan 1, 2018'\n",
       "12. 'Jul 1, 2016'\n",
       "13. 'Jul 11, 2013'\n",
       "14. 'Aug 9, 2018'\n",
       "15. 'Jul 1, 2011'\n",
       "16. 'Jul 9, 2009'\n",
       "17. 'Aug 1, 2005'\n",
       "18. 'Jul 28, 2011'\n",
       "19. 'Jul 14, 2015'\n",
       "20. 'Jul 16, 2016'\n",
       "\n",
       "\n"
      ],
      "text/plain": [
       " [1] \"Jul 1, 2004\"  \"Jul 10, 2018\" \"Jul 16, 2014\" \"Aug 30, 2015\" \"Aug 3, 2017\" \n",
       " [6] \"Jul 1, 2014\"  \"Jul 1, 2017\"  \"Jul 19, 2018\" \"Jul 1, 2018\"  \"Jul 1, 2014\" \n",
       "[11] \"Jan 1, 2018\"  \"Jul 1, 2016\"  \"Jul 11, 2013\" \"Aug 9, 2018\"  \"Jul 1, 2011\" \n",
       "[16] \"Jul 9, 2009\"  \"Aug 1, 2005\"  \"Jul 28, 2011\" \"Jul 14, 2015\" \"Jul 16, 2016\""
      ]
     },
     "metadata": {},
     "output_type": "display_data"
    }
   ],
   "source": [
    "#checking the Joined column \n",
    " class(fifa_datasets$Joined) #checking the data type\n",
    " head(fifa_datasets$Joined,20) #examine the data column  \n"
   ]
  },
  {
   "cell_type": "code",
   "execution_count": 32,
   "id": "63710d47-c6a6-4190-a57d-97fa640a9920",
   "metadata": {},
   "outputs": [
    {
     "data": {
      "text/html": [
       "'Date'"
      ],
      "text/latex": [
       "'Date'"
      ],
      "text/markdown": [
       "'Date'"
      ],
      "text/plain": [
       "[1] \"Date\""
      ]
     },
     "metadata": {},
     "output_type": "display_data"
    },
    {
     "data": {
      "text/html": [
       "<table class=\"dataframe\">\n",
       "<caption>A rowwise_df: 6 × 1</caption>\n",
       "<thead>\n",
       "\t<tr><th scope=col>Joined</th></tr>\n",
       "\t<tr><th scope=col>&lt;date&gt;</th></tr>\n",
       "</thead>\n",
       "<tbody>\n",
       "\t<tr><td>2004-07-01</td></tr>\n",
       "\t<tr><td>2018-07-10</td></tr>\n",
       "\t<tr><td>2014-07-16</td></tr>\n",
       "\t<tr><td>2015-08-30</td></tr>\n",
       "\t<tr><td>2017-08-03</td></tr>\n",
       "\t<tr><td>2014-07-01</td></tr>\n",
       "</tbody>\n",
       "</table>\n"
      ],
      "text/latex": [
       "A rowwise\\_df: 6 × 1\n",
       "\\begin{tabular}{l}\n",
       " Joined\\\\\n",
       " <date>\\\\\n",
       "\\hline\n",
       "\t 2004-07-01\\\\\n",
       "\t 2018-07-10\\\\\n",
       "\t 2014-07-16\\\\\n",
       "\t 2015-08-30\\\\\n",
       "\t 2017-08-03\\\\\n",
       "\t 2014-07-01\\\\\n",
       "\\end{tabular}\n"
      ],
      "text/markdown": [
       "\n",
       "A rowwise_df: 6 × 1\n",
       "\n",
       "| Joined &lt;date&gt; |\n",
       "|---|\n",
       "| 2004-07-01 |\n",
       "| 2018-07-10 |\n",
       "| 2014-07-16 |\n",
       "| 2015-08-30 |\n",
       "| 2017-08-03 |\n",
       "| 2014-07-01 |\n",
       "\n"
      ],
      "text/plain": [
       "  Joined    \n",
       "1 2004-07-01\n",
       "2 2018-07-10\n",
       "3 2014-07-16\n",
       "4 2015-08-30\n",
       "5 2017-08-03\n",
       "6 2014-07-01"
      ]
     },
     "metadata": {},
     "output_type": "display_data"
    }
   ],
   "source": [
    "#Changing the JOINED column to a datetime datatype\n",
    "fifa_datasets$Joined <- as.Date(fifa_datasets$Joined,format = \"%b %d, %Y\")\n",
    "class(fifa_datasets$Joined)\n",
    "fifa_datasets %>% select(Joined) %>% head() #view the Joined column "
   ]
  },
  {
   "cell_type": "markdown",
   "id": "69f3d45c-ce70-4118-bfcc-756856e01c70",
   "metadata": {},
   "source": [
    "#### 7.2 Change the **Loan.Date.End** to date format"
   ]
  },
  {
   "cell_type": "code",
   "execution_count": 33,
   "id": "d905dfa8-e985-479f-83b1-4f51c3345edf",
   "metadata": {},
   "outputs": [
    {
     "data": {
      "text/html": [
       "'character'"
      ],
      "text/latex": [
       "'character'"
      ],
      "text/markdown": [
       "'character'"
      ],
      "text/plain": [
       "[1] \"character\""
      ]
     },
     "metadata": {},
     "output_type": "display_data"
    }
   ],
   "source": [
    "#Changing the Loan.Date.end column to a datetime datatype \n",
    "class(fifa_datasets$Loan.Date.End)\n",
    "fifa_datasets$Loan.Date.End <- as.Date(fifa_datasets$Loan.Date.End,format = \"%b %d, %Y\") #convert to a date format \n"
   ]
  },
  {
   "cell_type": "code",
   "execution_count": 34,
   "id": "dd74b6cb-5cc9-40ba-be7e-a2ae8e0e12ef",
   "metadata": {},
   "outputs": [
    {
     "data": {
      "text/html": [
       "'Date'"
      ],
      "text/latex": [
       "'Date'"
      ],
      "text/markdown": [
       "'Date'"
      ],
      "text/plain": [
       "[1] \"Date\""
      ]
     },
     "metadata": {},
     "output_type": "display_data"
    }
   ],
   "source": [
    "class(fifa_datasets$Loan.Date.End) #Comfirm the data type\n"
   ]
  },
  {
   "cell_type": "markdown",
   "id": "4efb6013-a717-44a9-a959-577fd2e61c53",
   "metadata": {},
   "source": [
    "### 8. Covert the **Value,Wage,Release.Clause** to millions and thousand respectively"
   ]
  },
  {
   "cell_type": "markdown",
   "id": "efc33093-ac92-4b49-b73b-b38027ab15a1",
   "metadata": {},
   "source": [
    "### 8.1 Dealing with the Wage Column "
   ]
  },
  {
   "cell_type": "code",
   "execution_count": 35,
   "id": "52cf1868-4b88-4ae7-ba92-4d8405d2565d",
   "metadata": {},
   "outputs": [
    {
     "data": {
      "text/html": [
       "<table class=\"dataframe\">\n",
       "<caption>A rowwise_df: 5 × 1</caption>\n",
       "<thead>\n",
       "\t<tr><th scope=col>Wage</th></tr>\n",
       "\t<tr><th scope=col>&lt;chr&gt;</th></tr>\n",
       "</thead>\n",
       "<tbody>\n",
       "\t<tr><td>€560K</td></tr>\n",
       "\t<tr><td>€220K</td></tr>\n",
       "\t<tr><td>€125K</td></tr>\n",
       "\t<tr><td>€370K</td></tr>\n",
       "\t<tr><td>€270K</td></tr>\n",
       "</tbody>\n",
       "</table>\n"
      ],
      "text/latex": [
       "A rowwise\\_df: 5 × 1\n",
       "\\begin{tabular}{l}\n",
       " Wage\\\\\n",
       " <chr>\\\\\n",
       "\\hline\n",
       "\t €560K\\\\\n",
       "\t €220K\\\\\n",
       "\t €125K\\\\\n",
       "\t €370K\\\\\n",
       "\t €270K\\\\\n",
       "\\end{tabular}\n"
      ],
      "text/markdown": [
       "\n",
       "A rowwise_df: 5 × 1\n",
       "\n",
       "| Wage &lt;chr&gt; |\n",
       "|---|\n",
       "| €560K |\n",
       "| €220K |\n",
       "| €125K |\n",
       "| €370K |\n",
       "| €270K |\n",
       "\n"
      ],
      "text/plain": [
       "  Wage \n",
       "1 €560K\n",
       "2 €220K\n",
       "3 €125K\n",
       "4 €370K\n",
       "5 €270K"
      ]
     },
     "metadata": {},
     "output_type": "display_data"
    }
   ],
   "source": [
    "#Examine the wage column\n",
    "  fifa_datasets %>% select(Wage) %>% head(5)"
   ]
  },
  {
   "cell_type": "code",
   "execution_count": null,
   "id": "92460c59-5ce7-4cea-a837-f41343992e3e",
   "metadata": {},
   "outputs": [],
   "source": [
    "fifa_datasets <-  fifa_datasets %>%  \n",
    "  mutate(Wage=str_remove_all(Wage,\"€\")) %>%  #remove the € symbol \n",
    "  mutate(Wage= case_when(is.na(Wage)~ 0,\n",
    "                         str_detect(Wage,\"K\") ~ as.numeric(str_remove_all(Wage,\"K\"))*1000, #convert to thousand by mutiplying by 1000\n",
    "                         TRUE ~ as.numeric(Wage))) "
   ]
  },
  {
   "cell_type": "code",
   "execution_count": 37,
   "id": "a2bcf9dd-8a47-4d36-8b48-2ad6449fcaee",
   "metadata": {},
   "outputs": [
    {
     "data": {
      "text/html": [
       "<table class=\"dataframe\">\n",
       "<caption>A rowwise_df: 5 × 1</caption>\n",
       "<thead>\n",
       "\t<tr><th scope=col>Wage</th></tr>\n",
       "\t<tr><th scope=col>&lt;dbl&gt;</th></tr>\n",
       "</thead>\n",
       "<tbody>\n",
       "\t<tr><td>560000</td></tr>\n",
       "\t<tr><td>220000</td></tr>\n",
       "\t<tr><td>125000</td></tr>\n",
       "\t<tr><td>370000</td></tr>\n",
       "\t<tr><td>270000</td></tr>\n",
       "</tbody>\n",
       "</table>\n"
      ],
      "text/latex": [
       "A rowwise\\_df: 5 × 1\n",
       "\\begin{tabular}{l}\n",
       " Wage\\\\\n",
       " <dbl>\\\\\n",
       "\\hline\n",
       "\t 560000\\\\\n",
       "\t 220000\\\\\n",
       "\t 125000\\\\\n",
       "\t 370000\\\\\n",
       "\t 270000\\\\\n",
       "\\end{tabular}\n"
      ],
      "text/markdown": [
       "\n",
       "A rowwise_df: 5 × 1\n",
       "\n",
       "| Wage &lt;dbl&gt; |\n",
       "|---|\n",
       "| 560000 |\n",
       "| 220000 |\n",
       "| 125000 |\n",
       "| 370000 |\n",
       "| 270000 |\n",
       "\n"
      ],
      "text/plain": [
       "  Wage  \n",
       "1 560000\n",
       "2 220000\n",
       "3 125000\n",
       "4 370000\n",
       "5 270000"
      ]
     },
     "metadata": {},
     "output_type": "display_data"
    },
    {
     "data": {
      "text/html": [
       "'numeric'"
      ],
      "text/latex": [
       "'numeric'"
      ],
      "text/markdown": [
       "'numeric'"
      ],
      "text/plain": [
       "[1] \"numeric\""
      ]
     },
     "metadata": {},
     "output_type": "display_data"
    }
   ],
   "source": [
    "fifa_datasets %>% select(Wage) %>% head(5)\n",
    "class(fifa_datasets$Wage) #check data type"
   ]
  },
  {
   "cell_type": "markdown",
   "id": "6d9e4596-697c-40d5-ae49-f0cfb1304d31",
   "metadata": {},
   "source": [
    "### 8.2 Dealing with the Vaule column\n",
    " "
   ]
  },
  {
   "cell_type": "code",
   "execution_count": 38,
   "id": "b9814ed2-ecb4-4520-9051-34730c6c2685",
   "metadata": {},
   "outputs": [
    {
     "data": {
      "text/html": [
       "<table class=\"dataframe\">\n",
       "<caption>A rowwise_df: 6 × 1</caption>\n",
       "<thead>\n",
       "\t<tr><th scope=col>Value</th></tr>\n",
       "\t<tr><th scope=col>&lt;chr&gt;</th></tr>\n",
       "</thead>\n",
       "<tbody>\n",
       "\t<tr><td>€103.5M</td></tr>\n",
       "\t<tr><td>€63M   </td></tr>\n",
       "\t<tr><td>€120M  </td></tr>\n",
       "\t<tr><td>€129M  </td></tr>\n",
       "\t<tr><td>€132M  </td></tr>\n",
       "\t<tr><td>€111M  </td></tr>\n",
       "</tbody>\n",
       "</table>\n"
      ],
      "text/latex": [
       "A rowwise\\_df: 6 × 1\n",
       "\\begin{tabular}{l}\n",
       " Value\\\\\n",
       " <chr>\\\\\n",
       "\\hline\n",
       "\t €103.5M\\\\\n",
       "\t €63M   \\\\\n",
       "\t €120M  \\\\\n",
       "\t €129M  \\\\\n",
       "\t €132M  \\\\\n",
       "\t €111M  \\\\\n",
       "\\end{tabular}\n"
      ],
      "text/markdown": [
       "\n",
       "A rowwise_df: 6 × 1\n",
       "\n",
       "| Value &lt;chr&gt; |\n",
       "|---|\n",
       "| €103.5M |\n",
       "| €63M    |\n",
       "| €120M   |\n",
       "| €129M   |\n",
       "| €132M   |\n",
       "| €111M   |\n",
       "\n"
      ],
      "text/plain": [
       "  Value  \n",
       "1 €103.5M\n",
       "2 €63M   \n",
       "3 €120M  \n",
       "4 €129M  \n",
       "5 €132M  \n",
       "6 €111M  "
      ]
     },
     "metadata": {},
     "output_type": "display_data"
    }
   ],
   "source": [
    "fifa_datasets %>% select(Value) %>% head()"
   ]
  },
  {
   "cell_type": "code",
   "execution_count": null,
   "id": "b19dd51d-0cee-4ae7-8dd7-4e3cedc44431",
   "metadata": {},
   "outputs": [],
   "source": [
    "\n",
    "fifa_datasets <- fifa_datasets %>% \n",
    "mutate(Value=str_remove_all(Value,\"€\")) %>%  #remove the € sign\n",
    "mutate(Value= if_else(str_detect(Value,\"M\"),as.numeric(str_remove_all(Value,\"M\"))*1000000, # Remove M and convert to millions \n",
    "                      if_else(str_detect(Value,\"K\"),as.numeric(str_remove_all(Value,\"K\"))*1000,\n",
    "                              as.numeric(Value)))) # remove K and convert to thousand "
   ]
  },
  {
   "cell_type": "markdown",
   "id": "0dc5fc8e-e518-402d-b18e-559ab510046e",
   "metadata": {},
   "source": [
    "Examine the Value column "
   ]
  },
  {
   "cell_type": "code",
   "execution_count": 40,
   "id": "d5fd2fcd-2418-408e-acbd-fe338430ea26",
   "metadata": {},
   "outputs": [
    {
     "data": {
      "text/html": [
       "<table class=\"dataframe\">\n",
       "<caption>A rowwise_df: 6 × 1</caption>\n",
       "<thead>\n",
       "\t<tr><th scope=col>Value</th></tr>\n",
       "\t<tr><th scope=col>&lt;dbl&gt;</th></tr>\n",
       "</thead>\n",
       "<tbody>\n",
       "\t<tr><td>103500000</td></tr>\n",
       "\t<tr><td> 63000000</td></tr>\n",
       "\t<tr><td>120000000</td></tr>\n",
       "\t<tr><td>129000000</td></tr>\n",
       "\t<tr><td>132000000</td></tr>\n",
       "\t<tr><td>111000000</td></tr>\n",
       "</tbody>\n",
       "</table>\n"
      ],
      "text/latex": [
       "A rowwise\\_df: 6 × 1\n",
       "\\begin{tabular}{l}\n",
       " Value\\\\\n",
       " <dbl>\\\\\n",
       "\\hline\n",
       "\t 103500000\\\\\n",
       "\t  63000000\\\\\n",
       "\t 120000000\\\\\n",
       "\t 129000000\\\\\n",
       "\t 132000000\\\\\n",
       "\t 111000000\\\\\n",
       "\\end{tabular}\n"
      ],
      "text/markdown": [
       "\n",
       "A rowwise_df: 6 × 1\n",
       "\n",
       "| Value &lt;dbl&gt; |\n",
       "|---|\n",
       "| 103500000 |\n",
       "|  63000000 |\n",
       "| 120000000 |\n",
       "| 129000000 |\n",
       "| 132000000 |\n",
       "| 111000000 |\n",
       "\n"
      ],
      "text/plain": [
       "  Value    \n",
       "1 103500000\n",
       "2  63000000\n",
       "3 120000000\n",
       "4 129000000\n",
       "5 132000000\n",
       "6 111000000"
      ]
     },
     "metadata": {},
     "output_type": "display_data"
    }
   ],
   "source": [
    "fifa_datasets %>% select(Value) %>% head()"
   ]
  },
  {
   "cell_type": "markdown",
   "id": "456b7205-d9ed-4f4c-8c2e-34ff9841ba16",
   "metadata": {},
   "source": [
    "### 8.3 Dealing with the Release.Clause Column"
   ]
  },
  {
   "cell_type": "code",
   "execution_count": 41,
   "id": "edeacd78-a15b-4eae-bf13-be8bc281f160",
   "metadata": {},
   "outputs": [
    {
     "data": {
      "text/html": [
       "<table class=\"dataframe\">\n",
       "<caption>A rowwise_df: 6 × 1</caption>\n",
       "<thead>\n",
       "\t<tr><th scope=col>Release.Clause</th></tr>\n",
       "\t<tr><th scope=col>&lt;chr&gt;</th></tr>\n",
       "</thead>\n",
       "<tbody>\n",
       "\t<tr><td>€138.4M</td></tr>\n",
       "\t<tr><td>€75.9M </td></tr>\n",
       "\t<tr><td>€159.4M</td></tr>\n",
       "\t<tr><td>€161M  </td></tr>\n",
       "\t<tr><td>€166.5M</td></tr>\n",
       "\t<tr><td>€132M  </td></tr>\n",
       "</tbody>\n",
       "</table>\n"
      ],
      "text/latex": [
       "A rowwise\\_df: 6 × 1\n",
       "\\begin{tabular}{l}\n",
       " Release.Clause\\\\\n",
       " <chr>\\\\\n",
       "\\hline\n",
       "\t €138.4M\\\\\n",
       "\t €75.9M \\\\\n",
       "\t €159.4M\\\\\n",
       "\t €161M  \\\\\n",
       "\t €166.5M\\\\\n",
       "\t €132M  \\\\\n",
       "\\end{tabular}\n"
      ],
      "text/markdown": [
       "\n",
       "A rowwise_df: 6 × 1\n",
       "\n",
       "| Release.Clause &lt;chr&gt; |\n",
       "|---|\n",
       "| €138.4M |\n",
       "| €75.9M  |\n",
       "| €159.4M |\n",
       "| €161M   |\n",
       "| €166.5M |\n",
       "| €132M   |\n",
       "\n"
      ],
      "text/plain": [
       "  Release.Clause\n",
       "1 €138.4M       \n",
       "2 €75.9M        \n",
       "3 €159.4M       \n",
       "4 €161M         \n",
       "5 €166.5M       \n",
       "6 €132M         "
      ]
     },
     "metadata": {},
     "output_type": "display_data"
    }
   ],
   "source": [
    "#examine the release Clause\n",
    "fifa_datasets %>% select(Release.Clause) %>% head()"
   ]
  },
  {
   "cell_type": "code",
   "execution_count": null,
   "id": "f4bef753-3056-458b-9340-99ad2a265621",
   "metadata": {},
   "outputs": [],
   "source": [
    "fifa_datasets <-fifa_datasets %>% \n",
    "  mutate(Release.Clause=if_else(is.na(Release.Clause),NA,str_remove_all(Release.Clause,\"€\"))) %>% #remove\n",
    "  mutate(Release.Clause= if_else(str_detect(Release.Clause,\"M\"),\n",
    "                                 as.numeric(str_remove_all(Release.Clause,\"M\"))*1000000, #remove M and convert to million \n",
    "                          if_else(str_detect(Release.Clause,\"K\"),as.numeric(str_remove_all(Release.Clause,\"K\"))*1000,\n",
    "                          as.numeric(Release.Clause)\n",
    "          )))"
   ]
  },
  {
   "cell_type": "code",
   "execution_count": 43,
   "id": "d90ff27a-ad4c-4b14-9c74-904fc1fd1788",
   "metadata": {},
   "outputs": [
    {
     "data": {
      "text/html": [
       "<table class=\"dataframe\">\n",
       "<caption>A rowwise_df: 6 × 1</caption>\n",
       "<thead>\n",
       "\t<tr><th scope=col>Release.Clause</th></tr>\n",
       "\t<tr><th scope=col>&lt;dbl&gt;</th></tr>\n",
       "</thead>\n",
       "<tbody>\n",
       "\t<tr><td>138400000</td></tr>\n",
       "\t<tr><td> 75900000</td></tr>\n",
       "\t<tr><td>159400000</td></tr>\n",
       "\t<tr><td>161000000</td></tr>\n",
       "\t<tr><td>166500000</td></tr>\n",
       "\t<tr><td>132000000</td></tr>\n",
       "</tbody>\n",
       "</table>\n"
      ],
      "text/latex": [
       "A rowwise\\_df: 6 × 1\n",
       "\\begin{tabular}{l}\n",
       " Release.Clause\\\\\n",
       " <dbl>\\\\\n",
       "\\hline\n",
       "\t 138400000\\\\\n",
       "\t  75900000\\\\\n",
       "\t 159400000\\\\\n",
       "\t 161000000\\\\\n",
       "\t 166500000\\\\\n",
       "\t 132000000\\\\\n",
       "\\end{tabular}\n"
      ],
      "text/markdown": [
       "\n",
       "A rowwise_df: 6 × 1\n",
       "\n",
       "| Release.Clause &lt;dbl&gt; |\n",
       "|---|\n",
       "| 138400000 |\n",
       "|  75900000 |\n",
       "| 159400000 |\n",
       "| 161000000 |\n",
       "| 166500000 |\n",
       "| 132000000 |\n",
       "\n"
      ],
      "text/plain": [
       "  Release.Clause\n",
       "1 138400000     \n",
       "2  75900000     \n",
       "3 159400000     \n",
       "4 161000000     \n",
       "5 166500000     \n",
       "6 132000000     "
      ]
     },
     "metadata": {},
     "output_type": "display_data"
    }
   ],
   "source": [
    "fifa_datasets %>% select(Release.Clause) %>% head()"
   ]
  },
  {
   "cell_type": "markdown",
   "id": "a3fa8710-4cd0-4339-bea5-71c6751c126c",
   "metadata": {},
   "source": [
    "## 9. Handling the Hits Column "
   ]
  },
  {
   "cell_type": "code",
   "execution_count": 44,
   "id": "f84da8bf-9d98-4abe-83ae-8742a887c254",
   "metadata": {},
   "outputs": [],
   "source": [
    "fifa_datasets <-  fifa_datasets %>%\n",
    "  mutate(Hits = case_when(\n",
    "    is.na(Hits) ~ 0,\n",
    "    str_detect(Hits, \"K\") ~ as.numeric(str_remove_all(Hits, \"K\")) * 1000, # remove K and mutiply it by 1000\n",
    "    TRUE ~ suppressWarnings(as.numeric(Hits)) \n",
    "  ))"
   ]
  },
  {
   "cell_type": "markdown",
   "id": "ce33ad6c-b053-49c2-a9f3-a072c6b573e1",
   "metadata": {},
   "source": [
    "### Examine the output of the above code "
   ]
  },
  {
   "cell_type": "code",
   "execution_count": 45,
   "id": "5b96a6ef-e3b5-42d0-b363-c827d6cc00cd",
   "metadata": {},
   "outputs": [
    {
     "data": {
      "text/html": [
       "<table class=\"dataframe\">\n",
       "<caption>A rowwise_df: 6 × 1</caption>\n",
       "<thead>\n",
       "\t<tr><th scope=col>Hits</th></tr>\n",
       "\t<tr><th scope=col>&lt;dbl&gt;</th></tr>\n",
       "</thead>\n",
       "<tbody>\n",
       "\t<tr><td>771</td></tr>\n",
       "\t<tr><td>562</td></tr>\n",
       "\t<tr><td>150</td></tr>\n",
       "\t<tr><td>207</td></tr>\n",
       "\t<tr><td>595</td></tr>\n",
       "\t<tr><td>248</td></tr>\n",
       "</tbody>\n",
       "</table>\n"
      ],
      "text/latex": [
       "A rowwise\\_df: 6 × 1\n",
       "\\begin{tabular}{l}\n",
       " Hits\\\\\n",
       " <dbl>\\\\\n",
       "\\hline\n",
       "\t 771\\\\\n",
       "\t 562\\\\\n",
       "\t 150\\\\\n",
       "\t 207\\\\\n",
       "\t 595\\\\\n",
       "\t 248\\\\\n",
       "\\end{tabular}\n"
      ],
      "text/markdown": [
       "\n",
       "A rowwise_df: 6 × 1\n",
       "\n",
       "| Hits &lt;dbl&gt; |\n",
       "|---|\n",
       "| 771 |\n",
       "| 562 |\n",
       "| 150 |\n",
       "| 207 |\n",
       "| 595 |\n",
       "| 248 |\n",
       "\n"
      ],
      "text/plain": [
       "  Hits\n",
       "1 771 \n",
       "2 562 \n",
       "3 150 \n",
       "4 207 \n",
       "5 595 \n",
       "6 248 "
      ]
     },
     "metadata": {},
     "output_type": "display_data"
    }
   ],
   "source": [
    "fifa_datasets %>% select(Hits) %>% head()"
   ]
  },
  {
   "cell_type": "markdown",
   "id": "3ea4b671-48ab-4d67-9c63-1cb2e62ffd79",
   "metadata": {},
   "source": [
    "### 10. Remove the star symbol from W.F,SM and IR "
   ]
  },
  {
   "cell_type": "markdown",
   "id": "011b8259-12a5-4fed-870b-1a224d621f47",
   "metadata": {},
   "source": [
    "Examine **W.F,SM and IR**"
   ]
  },
  {
   "cell_type": "code",
   "execution_count": 46,
   "id": "06033850-438a-4ed9-9f7d-74ca55e214d4",
   "metadata": {},
   "outputs": [
    {
     "data": {
      "text/html": [
       "<table class=\"dataframe\">\n",
       "<caption>A rowwise_df: 6 × 3</caption>\n",
       "<thead>\n",
       "\t<tr><th scope=col>W.F</th><th scope=col>SM</th><th scope=col>IR</th></tr>\n",
       "\t<tr><th scope=col>&lt;chr&gt;</th><th scope=col>&lt;chr&gt;</th><th scope=col>&lt;chr&gt;</th></tr>\n",
       "</thead>\n",
       "<tbody>\n",
       "\t<tr><td>4 ★</td><td>4★</td><td>5 ★</td></tr>\n",
       "\t<tr><td>4 ★</td><td>5★</td><td>5 ★</td></tr>\n",
       "\t<tr><td>3 ★</td><td>1★</td><td>3 ★</td></tr>\n",
       "\t<tr><td>5 ★</td><td>4★</td><td>4 ★</td></tr>\n",
       "\t<tr><td>5 ★</td><td>5★</td><td>5 ★</td></tr>\n",
       "\t<tr><td>4 ★</td><td>4★</td><td>4 ★</td></tr>\n",
       "</tbody>\n",
       "</table>\n"
      ],
      "text/latex": [
       "A rowwise\\_df: 6 × 3\n",
       "\\begin{tabular}{lll}\n",
       " W.F & SM & IR\\\\\n",
       " <chr> & <chr> & <chr>\\\\\n",
       "\\hline\n",
       "\t 4 ★ & 4★ & 5 ★\\\\\n",
       "\t 4 ★ & 5★ & 5 ★\\\\\n",
       "\t 3 ★ & 1★ & 3 ★\\\\\n",
       "\t 5 ★ & 4★ & 4 ★\\\\\n",
       "\t 5 ★ & 5★ & 5 ★\\\\\n",
       "\t 4 ★ & 4★ & 4 ★\\\\\n",
       "\\end{tabular}\n"
      ],
      "text/markdown": [
       "\n",
       "A rowwise_df: 6 × 3\n",
       "\n",
       "| W.F &lt;chr&gt; | SM &lt;chr&gt; | IR &lt;chr&gt; |\n",
       "|---|---|---|\n",
       "| 4 ★ | 4★ | 5 ★ |\n",
       "| 4 ★ | 5★ | 5 ★ |\n",
       "| 3 ★ | 1★ | 3 ★ |\n",
       "| 5 ★ | 4★ | 4 ★ |\n",
       "| 5 ★ | 5★ | 5 ★ |\n",
       "| 4 ★ | 4★ | 4 ★ |\n",
       "\n"
      ],
      "text/plain": [
       "  W.F SM IR \n",
       "1 4 ★ 4★ 5 ★\n",
       "2 4 ★ 5★ 5 ★\n",
       "3 3 ★ 1★ 3 ★\n",
       "4 5 ★ 4★ 4 ★\n",
       "5 5 ★ 5★ 5 ★\n",
       "6 4 ★ 4★ 4 ★"
      ]
     },
     "metadata": {},
     "output_type": "display_data"
    }
   ],
   "source": [
    "fifa_datasets %>% select(W.F,SM,IR) %>% head()"
   ]
  },
  {
   "cell_type": "markdown",
   "id": "91846f29-c330-4ae6-b30b-20f2526c87d4",
   "metadata": {},
   "source": [
    "Remove star symbol from W.F,SM and IR column "
   ]
  },
  {
   "cell_type": "code",
   "execution_count": 47,
   "id": "083d1326-1fe7-497f-9bf9-34f8c4ee7572",
   "metadata": {},
   "outputs": [],
   "source": [
    "  fifa_datasets <- fifa_datasets %>% mutate(W.F= str_remove_all(W.F,\" ★\"), #remove the star symbol from W.F column \n",
    "                          SM= str_remove_all(SM, \"★\"), # remove the star symbol from SM column \n",
    "                          IR=str_remove_all(IR, \" ★\")) # remove the star symbol from IR column"
   ]
  },
  {
   "cell_type": "code",
   "execution_count": 48,
   "id": "fda2874e-e0a9-4ba9-946b-9ac3ab936374",
   "metadata": {},
   "outputs": [
    {
     "data": {
      "text/html": [
       "<table class=\"dataframe\">\n",
       "<caption>A rowwise_df: 6 × 3</caption>\n",
       "<thead>\n",
       "\t<tr><th scope=col>W.F</th><th scope=col>SM</th><th scope=col>IR</th></tr>\n",
       "\t<tr><th scope=col>&lt;chr&gt;</th><th scope=col>&lt;chr&gt;</th><th scope=col>&lt;chr&gt;</th></tr>\n",
       "</thead>\n",
       "<tbody>\n",
       "\t<tr><td>4</td><td>4</td><td>5</td></tr>\n",
       "\t<tr><td>4</td><td>5</td><td>5</td></tr>\n",
       "\t<tr><td>3</td><td>1</td><td>3</td></tr>\n",
       "\t<tr><td>5</td><td>4</td><td>4</td></tr>\n",
       "\t<tr><td>5</td><td>5</td><td>5</td></tr>\n",
       "\t<tr><td>4</td><td>4</td><td>4</td></tr>\n",
       "</tbody>\n",
       "</table>\n"
      ],
      "text/latex": [
       "A rowwise\\_df: 6 × 3\n",
       "\\begin{tabular}{lll}\n",
       " W.F & SM & IR\\\\\n",
       " <chr> & <chr> & <chr>\\\\\n",
       "\\hline\n",
       "\t 4 & 4 & 5\\\\\n",
       "\t 4 & 5 & 5\\\\\n",
       "\t 3 & 1 & 3\\\\\n",
       "\t 5 & 4 & 4\\\\\n",
       "\t 5 & 5 & 5\\\\\n",
       "\t 4 & 4 & 4\\\\\n",
       "\\end{tabular}\n"
      ],
      "text/markdown": [
       "\n",
       "A rowwise_df: 6 × 3\n",
       "\n",
       "| W.F &lt;chr&gt; | SM &lt;chr&gt; | IR &lt;chr&gt; |\n",
       "|---|---|---|\n",
       "| 4 | 4 | 5 |\n",
       "| 4 | 5 | 5 |\n",
       "| 3 | 1 | 3 |\n",
       "| 5 | 4 | 4 |\n",
       "| 5 | 5 | 5 |\n",
       "| 4 | 4 | 4 |\n",
       "\n"
      ],
      "text/plain": [
       "  W.F SM IR\n",
       "1 4   4  5 \n",
       "2 4   5  5 \n",
       "3 3   1  3 \n",
       "4 5   4  4 \n",
       "5 5   5  5 \n",
       "6 4   4  4 "
      ]
     },
     "metadata": {},
     "output_type": "display_data"
    }
   ],
   "source": [
    "fifa_datasets %>% select(W.F,SM,IR) %>% head()"
   ]
  },
  {
   "cell_type": "markdown",
   "id": "1bde3432-8494-4f39-9c29-f501b5184ef8",
   "metadata": {},
   "source": [
    "### Remove and Rearrange the columns in the datasets "
   ]
  },
  {
   "cell_type": "code",
   "execution_count": 49,
   "id": "c618d996-339a-4c0e-ba2a-c557a9d4cc57",
   "metadata": {},
   "outputs": [],
   "source": [
    "fifa_datasets <- fifa_datasets %>% select(Name,LongName,Nationality,Age,X.OVA,POT,Club,Contract_type,Start_Contract,End_Contract,\n",
    "                                          Positions,Weight_kg,Height_cm,Preferred.Foot,BOV,Best.Position,Joined,Loan.Date.End,Value,Wage,Release.Clause,\n",
    "                                          Attacking,Crossing,Finishing,Heading.Accuracy,Short.Passing,Volleys,Skill,Dribbling,Curve,FK.Accuracy,\n",
    "                                          Long.Passing,Ball.Control,Movement,Acceleration,Sprint.Speed,Agility,Reactions,Balance,Power,Shot.Power,\n",
    "                                          Jumping,Stamina,Strength,Long.Shots,Mentality,Aggression,Interceptions,Positioning,Vision,Penalties,\n",
    "                                          Composure,Defending,Marking,Standing.Tackle,Sliding.Tackle,Goalkeeping,GK.Diving,GK.Handling,GK.Kicking,\n",
    "                                          GK.Positioning,GK.Reflexes,Total.Stats,Base.Stats,W.F,SM,A.W,D.W,IR,PAC,SHO,PAS,DRI,DEF,PHY,Hits)"
   ]
  },
  {
   "cell_type": "markdown",
   "id": "f58392f6-b23a-4433-90ce-5626bb96f899",
   "metadata": {},
   "source": [
    "Done Cleaning we can now have a view of the cleaned datasets "
   ]
  },
  {
   "cell_type": "code",
   "execution_count": 50,
   "id": "6149fc3e-40f8-4582-873e-56adc6baa2aa",
   "metadata": {},
   "outputs": [
    {
     "data": {
      "text/html": [
       "<table class=\"dataframe\">\n",
       "<caption>A rowwise_df: 18979 × 76</caption>\n",
       "<thead>\n",
       "\t<tr><th scope=col>Name</th><th scope=col>LongName</th><th scope=col>Nationality</th><th scope=col>Age</th><th scope=col>X.OVA</th><th scope=col>POT</th><th scope=col>Club</th><th scope=col>Contract_type</th><th scope=col>Start_Contract</th><th scope=col>End_Contract</th><th scope=col>⋯</th><th scope=col>A.W</th><th scope=col>D.W</th><th scope=col>IR</th><th scope=col>PAC</th><th scope=col>SHO</th><th scope=col>PAS</th><th scope=col>DRI</th><th scope=col>DEF</th><th scope=col>PHY</th><th scope=col>Hits</th></tr>\n",
       "\t<tr><th scope=col>&lt;chr&gt;</th><th scope=col>&lt;chr&gt;</th><th scope=col>&lt;chr&gt;</th><th scope=col>&lt;int&gt;</th><th scope=col>&lt;int&gt;</th><th scope=col>&lt;int&gt;</th><th scope=col>&lt;chr&gt;</th><th scope=col>&lt;chr&gt;</th><th scope=col>&lt;dbl&gt;</th><th scope=col>&lt;chr&gt;</th><th scope=col>⋯</th><th scope=col>&lt;chr&gt;</th><th scope=col>&lt;chr&gt;</th><th scope=col>&lt;chr&gt;</th><th scope=col>&lt;int&gt;</th><th scope=col>&lt;int&gt;</th><th scope=col>&lt;int&gt;</th><th scope=col>&lt;int&gt;</th><th scope=col>&lt;int&gt;</th><th scope=col>&lt;int&gt;</th><th scope=col>&lt;dbl&gt;</th></tr>\n",
       "</thead>\n",
       "<tbody>\n",
       "\t<tr><td>L. Messi         </td><td>Lionel-Messi                     </td><td>Argentina  </td><td>33</td><td>93</td><td>93</td><td>FC Barcelona       </td><td>Under Contract</td><td>2004</td><td>2021</td><td>⋯</td><td>Medium</td><td>Low   </td><td>5</td><td>85</td><td>92</td><td>91</td><td>95</td><td>38</td><td>65</td><td> 771</td></tr>\n",
       "\t<tr><td>Cristiano Ronaldo</td><td>C-Ronaldo-Dos-Santos-Aveiro      </td><td>Portugal   </td><td>35</td><td>92</td><td>92</td><td>Juventus           </td><td>Under Contract</td><td>2018</td><td>2022</td><td>⋯</td><td>High  </td><td>Low   </td><td>5</td><td>89</td><td>93</td><td>81</td><td>89</td><td>35</td><td>77</td><td> 562</td></tr>\n",
       "\t<tr><td>J. Oblak         </td><td>Jan-Oblak                        </td><td>Slovenia   </td><td>27</td><td>91</td><td>93</td><td>Atlético Madrid    </td><td>Under Contract</td><td>2014</td><td>2023</td><td>⋯</td><td>Medium</td><td>Medium</td><td>3</td><td>87</td><td>92</td><td>78</td><td>90</td><td>52</td><td>90</td><td> 150</td></tr>\n",
       "\t<tr><td>K. De Bruyne     </td><td>Kevin-De-Bruyne                  </td><td>Belgium    </td><td>29</td><td>91</td><td>91</td><td>Manchester City    </td><td>Under Contract</td><td>2015</td><td>2023</td><td>⋯</td><td>High  </td><td>High  </td><td>4</td><td>76</td><td>86</td><td>93</td><td>88</td><td>64</td><td>78</td><td> 207</td></tr>\n",
       "\t<tr><td>Neymar Jr        </td><td>Neymar-Da-Silva-Santos-Jr        </td><td>Brazil     </td><td>28</td><td>91</td><td>91</td><td>Paris Saint-Germain</td><td>Under Contract</td><td>2017</td><td>2022</td><td>⋯</td><td>High  </td><td>Medium</td><td>5</td><td>91</td><td>85</td><td>86</td><td>94</td><td>36</td><td>59</td><td> 595</td></tr>\n",
       "\t<tr><td>R. Lewandowski   </td><td>Robert-Lewandowski               </td><td>Poland     </td><td>31</td><td>91</td><td>91</td><td>FC Bayern München  </td><td>Under Contract</td><td>2014</td><td>2023</td><td>⋯</td><td>High  </td><td>Medium</td><td>4</td><td>78</td><td>91</td><td>78</td><td>85</td><td>43</td><td>82</td><td> 248</td></tr>\n",
       "\t<tr><td>M. Salah         </td><td>Mohamed-Salah                    </td><td>Egypt      </td><td>28</td><td>90</td><td>90</td><td>Liverpool          </td><td>Under Contract</td><td>2017</td><td>2023</td><td>⋯</td><td>High  </td><td>Medium</td><td>3</td><td>93</td><td>86</td><td>81</td><td>90</td><td>45</td><td>75</td><td> 246</td></tr>\n",
       "\t<tr><td>Alisson          </td><td>Alisson-Ramses-Becker            </td><td>Brazil     </td><td>27</td><td>90</td><td>91</td><td>Liverpool          </td><td>Under Contract</td><td>2018</td><td>2024</td><td>⋯</td><td>Medium</td><td>Medium</td><td>3</td><td>86</td><td>88</td><td>85</td><td>89</td><td>51</td><td>91</td><td> 120</td></tr>\n",
       "\t<tr><td>K. Mbappé        </td><td>Kylian-Mbappe                    </td><td>France     </td><td>21</td><td>90</td><td>95</td><td>Paris Saint-Germain</td><td>Under Contract</td><td>2018</td><td>2022</td><td>⋯</td><td>High  </td><td>Low   </td><td>3</td><td>96</td><td>86</td><td>78</td><td>91</td><td>39</td><td>76</td><td>1600</td></tr>\n",
       "\t<tr><td>M. ter Stegen    </td><td>Marc-Andre-Ter-Stegen            </td><td>Germany    </td><td>28</td><td>90</td><td>93</td><td>FC Barcelona       </td><td>Under Contract</td><td>2014</td><td>2022</td><td>⋯</td><td>Medium</td><td>Medium</td><td>3</td><td>88</td><td>85</td><td>88</td><td>90</td><td>45</td><td>88</td><td> 130</td></tr>\n",
       "\t<tr><td>V. van Dijk      </td><td>Virgil-Van-Dijk                  </td><td>Netherlands</td><td>28</td><td>90</td><td>91</td><td>Liverpool          </td><td>Under Contract</td><td>2018</td><td>2023</td><td>⋯</td><td>Medium</td><td>Medium</td><td>3</td><td>76</td><td>60</td><td>71</td><td>71</td><td>91</td><td>86</td><td> 321</td></tr>\n",
       "\t<tr><td>S. Mané          </td><td>Sadio-Mane                       </td><td>Senegal    </td><td>28</td><td>90</td><td>90</td><td>Liverpool          </td><td>Under Contract</td><td>2016</td><td>2023</td><td>⋯</td><td>High  </td><td>Medium</td><td>3</td><td>94</td><td>85</td><td>80</td><td>90</td><td>44</td><td>76</td><td> 189</td></tr>\n",
       "\t<tr><td>Casemiro         </td><td>Carlos-Henrique-Venancio-Casimiro</td><td>Brazil     </td><td>28</td><td>89</td><td>89</td><td>Real Madrid        </td><td>Under Contract</td><td>2013</td><td>2023</td><td>⋯</td><td>High  </td><td>High  </td><td>3</td><td>65</td><td>73</td><td>76</td><td>72</td><td>86</td><td>91</td><td> 175</td></tr>\n",
       "\t<tr><td>T. Courtois      </td><td>Thibaut-Courtois                 </td><td>Belgium    </td><td>28</td><td>89</td><td>90</td><td>Real Madrid        </td><td>Under Contract</td><td>2018</td><td>2024</td><td>⋯</td><td>Medium</td><td>Medium</td><td>4</td><td>84</td><td>89</td><td>74</td><td>88</td><td>48</td><td>85</td><td>  96</td></tr>\n",
       "\t<tr><td>M. Neuer         </td><td>Manuel-Neuer                     </td><td>Germany    </td><td>34</td><td>89</td><td>89</td><td>FC Bayern München  </td><td>Under Contract</td><td>2011</td><td>2023</td><td>⋯</td><td>Medium</td><td>Medium</td><td>5</td><td>87</td><td>87</td><td>91</td><td>89</td><td>57</td><td>86</td><td> 118</td></tr>\n",
       "\t<tr><td>K. Benzema       </td><td>Karim-Benzema                    </td><td>France     </td><td>32</td><td>89</td><td>89</td><td>Real Madrid        </td><td>Under Contract</td><td>2009</td><td>2022</td><td>⋯</td><td>Medium</td><td>Low   </td><td>4</td><td>74</td><td>85</td><td>81</td><td>86</td><td>40</td><td>76</td><td> 216</td></tr>\n",
       "\t<tr><td>Sergio Ramos     </td><td>Sergio-Ramos-Garcia              </td><td>Spain      </td><td>34</td><td>89</td><td>89</td><td>Real Madrid        </td><td>Under Contract</td><td>2005</td><td>2021</td><td>⋯</td><td>High  </td><td>Medium</td><td>4</td><td>71</td><td>70</td><td>76</td><td>73</td><td>88</td><td>85</td><td> 212</td></tr>\n",
       "\t<tr><td>S. Agüero        </td><td>Sergio-Aguero                    </td><td>Argentina  </td><td>32</td><td>89</td><td>89</td><td>Manchester City    </td><td>Under Contract</td><td>2011</td><td>2021</td><td>⋯</td><td>High  </td><td>Medium</td><td>4</td><td>78</td><td>90</td><td>77</td><td>88</td><td>33</td><td>73</td><td> 154</td></tr>\n",
       "\t<tr><td>R. Sterling      </td><td>Raheem-Sterling                  </td><td>England    </td><td>25</td><td>88</td><td>90</td><td>Manchester City    </td><td>Under Contract</td><td>2015</td><td>2023</td><td>⋯</td><td>High  </td><td>Medium</td><td>3</td><td>93</td><td>81</td><td>79</td><td>90</td><td>45</td><td>67</td><td> 205</td></tr>\n",
       "\t<tr><td>N. Kanté         </td><td>Ngolo-Kante                      </td><td>France     </td><td>29</td><td>88</td><td>88</td><td>Chelsea            </td><td>Under Contract</td><td>2016</td><td>2023</td><td>⋯</td><td>Medium</td><td>High  </td><td>3</td><td>77</td><td>66</td><td>76</td><td>81</td><td>86</td><td>82</td><td> 202</td></tr>\n",
       "\t<tr><td>J. Kimmich       </td><td>Joshua-Kimmich                   </td><td>Germany    </td><td>25</td><td>88</td><td>90</td><td>FC Bayern München  </td><td>Under Contract</td><td>2015</td><td>2023</td><td>⋯</td><td>High  </td><td>Medium</td><td>3</td><td>71</td><td>72</td><td>86</td><td>84</td><td>81</td><td>79</td><td> 339</td></tr>\n",
       "\t<tr><td>P. Dybala        </td><td>Paulo-Dybala                     </td><td>Argentina  </td><td>26</td><td>88</td><td>89</td><td>Juventus           </td><td>Under Contract</td><td>2015</td><td>2022</td><td>⋯</td><td>Medium</td><td>Medium</td><td>3</td><td>85</td><td>85</td><td>84</td><td>92</td><td>43</td><td>63</td><td> 408</td></tr>\n",
       "\t<tr><td>Ederson          </td><td>Ederson-Santana-De-Moraes        </td><td>Brazil     </td><td>26</td><td>88</td><td>91</td><td>Manchester City    </td><td>Under Contract</td><td>2017</td><td>2024</td><td>⋯</td><td>Medium</td><td>Medium</td><td>2</td><td>86</td><td>82</td><td>93</td><td>88</td><td>63</td><td>86</td><td> 103</td></tr>\n",
       "\t<tr><td>H. Kane          </td><td>Harry-Kane                       </td><td>England    </td><td>26</td><td>88</td><td>89</td><td>Tottenham Hotspur  </td><td>Under Contract</td><td>2010</td><td>2024</td><td>⋯</td><td>High  </td><td>High  </td><td>3</td><td>68</td><td>91</td><td>80</td><td>80</td><td>47</td><td>83</td><td> 332</td></tr>\n",
       "\t<tr><td>S. Handanovič    </td><td>Samir-Handanovic                 </td><td>Slovenia   </td><td>35</td><td>88</td><td>88</td><td>Inter              </td><td>Under Contract</td><td>2012</td><td>2021</td><td>⋯</td><td>Medium</td><td>Medium</td><td>3</td><td>88</td><td>85</td><td>73</td><td>89</td><td>53</td><td>89</td><td>  86</td></tr>\n",
       "\t<tr><td>K. Koulibaly     </td><td>Kalidou-Koulibaly                </td><td>Senegal    </td><td>29</td><td>88</td><td>88</td><td>Napoli             </td><td>Under Contract</td><td>2014</td><td>2023</td><td>⋯</td><td>Medium</td><td>High  </td><td>3</td><td>75</td><td>28</td><td>55</td><td>68</td><td>89</td><td>86</td><td> 173</td></tr>\n",
       "\t<tr><td>E. Hazard        </td><td>Eden-Hazard                      </td><td>Belgium    </td><td>29</td><td>88</td><td>88</td><td>Real Madrid        </td><td>Under Contract</td><td>2019</td><td>2024</td><td>⋯</td><td>High  </td><td>Medium</td><td>4</td><td>88</td><td>82</td><td>83</td><td>92</td><td>35</td><td>66</td><td> 246</td></tr>\n",
       "\t<tr><td>T. Kroos         </td><td>Toni-Kroos                       </td><td>Germany    </td><td>30</td><td>88</td><td>88</td><td>Real Madrid        </td><td>Under Contract</td><td>2014</td><td>2023</td><td>⋯</td><td>Medium</td><td>Medium</td><td>4</td><td>54</td><td>81</td><td>91</td><td>81</td><td>71</td><td>69</td><td> 161</td></tr>\n",
       "\t<tr><td>A. Griezmann     </td><td>Antoine-Griezmann                </td><td>France     </td><td>29</td><td>87</td><td>87</td><td>FC Barcelona       </td><td>Under Contract</td><td>2019</td><td>2024</td><td>⋯</td><td>Medium</td><td>Medium</td><td>4</td><td>79</td><td>85</td><td>84</td><td>88</td><td>57</td><td>72</td><td> 396</td></tr>\n",
       "\t<tr><td>J. Sancho        </td><td>Jadon-Sancho                     </td><td>England    </td><td>20</td><td>87</td><td>93</td><td>Borussia Dortmund  </td><td>Under Contract</td><td>2017</td><td>2023</td><td>⋯</td><td>High  </td><td>Medium</td><td>3</td><td>83</td><td>74</td><td>81</td><td>91</td><td>37</td><td>64</td><td>1100</td></tr>\n",
       "\t<tr><td>⋮</td><td>⋮</td><td>⋮</td><td>⋮</td><td>⋮</td><td>⋮</td><td>⋮</td><td>⋮</td><td>⋮</td><td>⋮</td><td>⋱</td><td>⋮</td><td>⋮</td><td>⋮</td><td>⋮</td><td>⋮</td><td>⋮</td><td>⋮</td><td>⋮</td><td>⋮</td><td>⋮</td></tr>\n",
       "\t<tr><td>Chen Chunxin  </td><td>Chunxin-Chen     </td><td>China PR           </td><td>22</td><td>48</td><td>59</td><td>Shanghai SIPG FC                   </td><td>Under Contract</td><td>2020</td><td>2022</td><td>⋯</td><td>Medium</td><td>Medium</td><td>1</td><td>71</td><td>37</td><td>47</td><td>50</td><td>42</td><td>44</td><td>NA</td></tr>\n",
       "\t<tr><td>J. Browne     </td><td>Jamie-Browne     </td><td>Republic of Ireland</td><td>19</td><td>48</td><td>58</td><td>Finn Harps                         </td><td>Under Contract</td><td>2020</td><td>2020</td><td>⋯</td><td>Medium</td><td>Medium</td><td>1</td><td>54</td><td>50</td><td>38</td><td>44</td><td>15</td><td>44</td><td>NA</td></tr>\n",
       "\t<tr><td>L. Walker     </td><td>Laurie-Walker    </td><td>England            </td><td>30</td><td>48</td><td>48</td><td>Milton Keynes Dons                 </td><td>Under Contract</td><td>2019</td><td>2021</td><td>⋯</td><td>Medium</td><td>Medium</td><td>1</td><td>51</td><td>47</td><td>44</td><td>48</td><td>34</td><td>46</td><td>NA</td></tr>\n",
       "\t<tr><td>H. Delgado    </td><td>Hanssel-Delgado  </td><td>Ecuador            </td><td>18</td><td>48</td><td>68</td><td>Independiente del Valle            </td><td>Under Contract</td><td>2020</td><td>2024</td><td>⋯</td><td>Medium</td><td>Medium</td><td>1</td><td>55</td><td>22</td><td>32</td><td>33</td><td>49</td><td>53</td><td>NA</td></tr>\n",
       "\t<tr><td>Shan Huanhuan </td><td>Huanhuan-Shan    </td><td>China PR           </td><td>21</td><td>48</td><td>58</td><td>Dalian YiFang FC                   </td><td>Under Contract</td><td>2019</td><td>2024</td><td>⋯</td><td>Medium</td><td>Medium</td><td>1</td><td>54</td><td>45</td><td>35</td><td>50</td><td>28</td><td>47</td><td>NA</td></tr>\n",
       "\t<tr><td><span style=white-space:pre-wrap>Fu Yuncheng   </span></td><td><span style=white-space:pre-wrap>Yuncheng-Fu      </span></td><td><span style=white-space:pre-wrap>China PR           </span></td><td>21</td><td>48</td><td>53</td><td><span style=white-space:pre-wrap>Guangzhou R&amp;F FC                   </span></td><td>Under Contract</td><td>2020</td><td>2022</td><td>⋯</td><td><span style=white-space:pre-wrap>Low   </span></td><td>Medium</td><td>1</td><td>55</td><td>21</td><td>28</td><td>30</td><td>49</td><td>58</td><td>NA</td></tr>\n",
       "\t<tr><td>Ma Zhen       </td><td>Zhen-Ma          </td><td>China PR           </td><td>22</td><td>48</td><td>52</td><td>Shanghai Greenland Shenhua FC      </td><td>Under Contract</td><td>2020</td><td>2024</td><td>⋯</td><td>Medium</td><td>Medium</td><td>1</td><td>49</td><td>47</td><td>45</td><td>46</td><td>54</td><td>44</td><td>NA</td></tr>\n",
       "\t<tr><td>Chen Kejiang  </td><td>Kejiang-Chen     </td><td>China PR           </td><td>23</td><td>48</td><td>54</td><td>Chongqing Dangdai Lifan FC SWM Team</td><td>Under Contract</td><td>2020</td><td>2022</td><td>⋯</td><td>Low   </td><td>Low   </td><td>1</td><td>60</td><td>24</td><td>25</td><td>30</td><td>50</td><td>51</td><td>NA</td></tr>\n",
       "\t<tr><td>Wang Jianwen  </td><td>Jianwen-Wang     </td><td>China PR           </td><td>32</td><td>48</td><td>48</td><td>Qingdao Huanghai F.C.              </td><td>Under Contract</td><td>2020</td><td>2023</td><td>⋯</td><td>Low   </td><td>Low   </td><td>1</td><td>61</td><td>33</td><td>48</td><td>46</td><td>38</td><td>58</td><td>NA</td></tr>\n",
       "\t<tr><td>B. Shabani    </td><td>Brendon-Shabani  </td><td>Albania            </td><td>18</td><td>48</td><td>68</td><td>Leyton Orient                      </td><td>Under Contract</td><td>2019</td><td>2021</td><td>⋯</td><td>Medium</td><td>Medium</td><td>1</td><td>65</td><td>43</td><td>47</td><td>50</td><td>39</td><td>49</td><td>NA</td></tr>\n",
       "\t<tr><td>J. Bird       </td><td>Jay-Bird         </td><td>England            </td><td>19</td><td>48</td><td>63</td><td>Milton Keynes Dons                 </td><td>Under Contract</td><td>2019</td><td>2021</td><td>⋯</td><td>Medium</td><td>Medium</td><td>1</td><td>66</td><td>48</td><td>37</td><td>47</td><td>17</td><td>53</td><td>NA</td></tr>\n",
       "\t<tr><td>L. Smith      </td><td>Laurence-Smith   </td><td>England            </td><td>19</td><td>48</td><td>65</td><td>Fleetwood Town                     </td><td>Under Contract</td><td>2019</td><td>2021</td><td>⋯</td><td>Medium</td><td>Medium</td><td>1</td><td>62</td><td>39</td><td>43</td><td>50</td><td>26</td><td>46</td><td>NA</td></tr>\n",
       "\t<tr><td>L. Waldock    </td><td>Liam-Waldock     </td><td>England            </td><td>19</td><td>48</td><td>65</td><td>Sheffield Wednesday                </td><td>Under Contract</td><td>2017</td><td>2021</td><td>⋯</td><td>Medium</td><td>Medium</td><td>1</td><td>61</td><td>34</td><td>50</td><td>51</td><td>43</td><td>48</td><td>NA</td></tr>\n",
       "\t<tr><td>B. Montaño    </td><td>Brayan-Montano   </td><td>Colombia           </td><td>18</td><td>48</td><td>67</td><td>Deportivo Cali                     </td><td>Under Contract</td><td>2020</td><td>2024</td><td>⋯</td><td>Medium</td><td>Medium</td><td>1</td><td>59</td><td>25</td><td>27</td><td>30</td><td>48</td><td>56</td><td>NA</td></tr>\n",
       "\t<tr><td>L. Ravenhill  </td><td>Liam-Ravenhill   </td><td>England            </td><td>17</td><td>48</td><td>69</td><td>Doncaster Rovers                   </td><td>Under Contract</td><td>2020</td><td>2024</td><td>⋯</td><td>Medium</td><td>Medium</td><td>1</td><td>63</td><td>38</td><td>45</td><td>50</td><td>41</td><td>56</td><td>NA</td></tr>\n",
       "\t<tr><td>R. Fontalvo   </td><td>Reinaldo-Fontalvo</td><td>Colombia           </td><td>21</td><td>48</td><td>59</td><td>Junior FC                          </td><td>Under Contract</td><td>2020</td><td>2024</td><td>⋯</td><td>Medium</td><td>Medium</td><td>1</td><td>46</td><td>46</td><td>58</td><td>51</td><td>30</td><td>44</td><td>NA</td></tr>\n",
       "\t<tr><td>Chen Zitong   </td><td>Zitong-Chen      </td><td>China PR           </td><td>23</td><td>47</td><td>51</td><td>Shijiazhuang Ever Bright F.C.      </td><td>Under Contract</td><td>2020</td><td>2023</td><td>⋯</td><td>Low   </td><td>Low   </td><td>1</td><td>61</td><td>35</td><td>48</td><td>48</td><td>44</td><td>58</td><td>NA</td></tr>\n",
       "\t<tr><td>Wang Zhenghao </td><td>Zhenghao-Wang    </td><td>China PR           </td><td>20</td><td>47</td><td>51</td><td>Tianjin TEDA FC                    </td><td>Under Contract</td><td>2019</td><td>2022</td><td>⋯</td><td>Low   </td><td>Medium</td><td>1</td><td>51</td><td>25</td><td>29</td><td>36</td><td>45</td><td>55</td><td>NA</td></tr>\n",
       "\t<tr><td>Zhong Jiyu    </td><td>Jiyu-Zhong       </td><td>China PR           </td><td>23</td><td>47</td><td>55</td><td>Shijiazhuang Ever Bright F.C.      </td><td>Under Contract</td><td>2018</td><td>2020</td><td>⋯</td><td>Medium</td><td>Low   </td><td>1</td><td>63</td><td>37</td><td>48</td><td>44</td><td>39</td><td>46</td><td>NA</td></tr>\n",
       "\t<tr><td>Huang Wenzhou </td><td>Wenzhuo-Huang    </td><td>China PR           </td><td>21</td><td>47</td><td>53</td><td>Shanghai SIPG FC                   </td><td>Under Contract</td><td>2020</td><td>2022</td><td>⋯</td><td>Low   </td><td>Low   </td><td>1</td><td>58</td><td>32</td><td>49</td><td>47</td><td>43</td><td>48</td><td>NA</td></tr>\n",
       "\t<tr><td>Song Yue      </td><td>Yue-Song         </td><td>China PR           </td><td>28</td><td>47</td><td>47</td><td>Tianjin TEDA FC                    </td><td>Under Contract</td><td>2020</td><td>2022</td><td>⋯</td><td>Low   </td><td>Low   </td><td>1</td><td>65</td><td>37</td><td>49</td><td>46</td><td>40</td><td>59</td><td>NA</td></tr>\n",
       "\t<tr><td><span style=white-space:pre-wrap>Wang Huapeng  </span></td><td><span style=white-space:pre-wrap>Huapeng-Wang     </span></td><td><span style=white-space:pre-wrap>China PR           </span></td><td>20</td><td>47</td><td>53</td><td><span style=white-space:pre-wrap>Guangzhou R&amp;F FC                   </span></td><td>Under Contract</td><td>2020</td><td>2022</td><td>⋯</td><td><span style=white-space:pre-wrap>Low   </span></td><td><span style=white-space:pre-wrap>Low   </span></td><td>1</td><td>59</td><td>22</td><td>25</td><td>30</td><td>47</td><td>55</td><td>NA</td></tr>\n",
       "\t<tr><td>M. Flores     </td><td>Mateo-Flores     </td><td>Bolivia            </td><td>19</td><td>47</td><td>63</td><td>Club Bolívar                       </td><td>Under Contract</td><td>2020</td><td>2024</td><td>⋯</td><td>Medium</td><td>Medium</td><td>1</td><td>57</td><td>32</td><td>43</td><td>48</td><td>44</td><td>49</td><td>NA</td></tr>\n",
       "\t<tr><td>Zhang Mengxuan</td><td>Mengxuan-Zhang   </td><td>China PR           </td><td>21</td><td>47</td><td>52</td><td>Chongqing Dangdai Lifan FC SWM Team</td><td>Under Contract</td><td>2020</td><td>2020</td><td>⋯</td><td>Low   </td><td>Low   </td><td>1</td><td>58</td><td>23</td><td>26</td><td>27</td><td>50</td><td>48</td><td>NA</td></tr>\n",
       "\t<tr><td>V. Da Silva   </td><td>Vani-Da-Silva    </td><td>England            </td><td>17</td><td>47</td><td>67</td><td>Oldham Athletic                    </td><td>Under Contract</td><td>2020</td><td>2021</td><td>⋯</td><td>Medium</td><td>Medium</td><td>1</td><td>70</td><td>46</td><td>40</td><td>53</td><td>16</td><td>40</td><td>NA</td></tr>\n",
       "\t<tr><td>Xia Ao        </td><td>Ao-Xia           </td><td>China PR           </td><td>21</td><td>47</td><td>55</td><td>Wuhan Zall                         </td><td>Under Contract</td><td>2018</td><td>2022</td><td>⋯</td><td>Medium</td><td>Medium</td><td>1</td><td>64</td><td>28</td><td>26</td><td>38</td><td>48</td><td>51</td><td>NA</td></tr>\n",
       "\t<tr><td>B. Hough      </td><td>Ben-Hough        </td><td>England            </td><td>17</td><td>47</td><td>67</td><td>Oldham Athletic                    </td><td>Under Contract</td><td>2020</td><td>2021</td><td>⋯</td><td>Medium</td><td>Medium</td><td>1</td><td>64</td><td>40</td><td>48</td><td>49</td><td>35</td><td>45</td><td>NA</td></tr>\n",
       "\t<tr><td>R. McKinley   </td><td>Ronan-Mckinley   </td><td>England            </td><td>18</td><td>47</td><td>65</td><td>Derry City                         </td><td>Under Contract</td><td>2019</td><td>2020</td><td>⋯</td><td>Medium</td><td>Medium</td><td>1</td><td>63</td><td>39</td><td>44</td><td>46</td><td>40</td><td>53</td><td>NA</td></tr>\n",
       "\t<tr><td>Wang Zhen'ao  </td><td>Zhenao-Wang      </td><td>China PR           </td><td>20</td><td>47</td><td>57</td><td>Dalian YiFang FC                   </td><td>Under Contract</td><td>2020</td><td>2022</td><td>⋯</td><td>Medium</td><td>Medium</td><td>1</td><td>58</td><td>49</td><td>41</td><td>49</td><td>30</td><td>44</td><td>NA</td></tr>\n",
       "\t<tr><td>Zhou Xiao     </td><td>Xiao-Zhou        </td><td>China PR           </td><td>21</td><td>47</td><td>57</td><td>Dalian YiFang FC                   </td><td>Under Contract</td><td>2019</td><td>2023</td><td>⋯</td><td>Medium</td><td>Medium</td><td>1</td><td>62</td><td>22</td><td>39</td><td>42</td><td>45</td><td>55</td><td>NA</td></tr>\n",
       "</tbody>\n",
       "</table>\n"
      ],
      "text/latex": [
       "A rowwise\\_df: 18979 × 76\n",
       "\\begin{tabular}{lllllllllllllllllllll}\n",
       " Name & LongName & Nationality & Age & X.OVA & POT & Club & Contract\\_type & Start\\_Contract & End\\_Contract & ⋯ & A.W & D.W & IR & PAC & SHO & PAS & DRI & DEF & PHY & Hits\\\\\n",
       " <chr> & <chr> & <chr> & <int> & <int> & <int> & <chr> & <chr> & <dbl> & <chr> & ⋯ & <chr> & <chr> & <chr> & <int> & <int> & <int> & <int> & <int> & <int> & <dbl>\\\\\n",
       "\\hline\n",
       "\t L. Messi          & Lionel-Messi                      & Argentina   & 33 & 93 & 93 & FC Barcelona        & Under Contract & 2004 & 2021 & ⋯ & Medium & Low    & 5 & 85 & 92 & 91 & 95 & 38 & 65 &  771\\\\\n",
       "\t Cristiano Ronaldo & C-Ronaldo-Dos-Santos-Aveiro       & Portugal    & 35 & 92 & 92 & Juventus            & Under Contract & 2018 & 2022 & ⋯ & High   & Low    & 5 & 89 & 93 & 81 & 89 & 35 & 77 &  562\\\\\n",
       "\t J. Oblak          & Jan-Oblak                         & Slovenia    & 27 & 91 & 93 & Atlético Madrid     & Under Contract & 2014 & 2023 & ⋯ & Medium & Medium & 3 & 87 & 92 & 78 & 90 & 52 & 90 &  150\\\\\n",
       "\t K. De Bruyne      & Kevin-De-Bruyne                   & Belgium     & 29 & 91 & 91 & Manchester City     & Under Contract & 2015 & 2023 & ⋯ & High   & High   & 4 & 76 & 86 & 93 & 88 & 64 & 78 &  207\\\\\n",
       "\t Neymar Jr         & Neymar-Da-Silva-Santos-Jr         & Brazil      & 28 & 91 & 91 & Paris Saint-Germain & Under Contract & 2017 & 2022 & ⋯ & High   & Medium & 5 & 91 & 85 & 86 & 94 & 36 & 59 &  595\\\\\n",
       "\t R. Lewandowski    & Robert-Lewandowski                & Poland      & 31 & 91 & 91 & FC Bayern München   & Under Contract & 2014 & 2023 & ⋯ & High   & Medium & 4 & 78 & 91 & 78 & 85 & 43 & 82 &  248\\\\\n",
       "\t M. Salah          & Mohamed-Salah                     & Egypt       & 28 & 90 & 90 & Liverpool           & Under Contract & 2017 & 2023 & ⋯ & High   & Medium & 3 & 93 & 86 & 81 & 90 & 45 & 75 &  246\\\\\n",
       "\t Alisson           & Alisson-Ramses-Becker             & Brazil      & 27 & 90 & 91 & Liverpool           & Under Contract & 2018 & 2024 & ⋯ & Medium & Medium & 3 & 86 & 88 & 85 & 89 & 51 & 91 &  120\\\\\n",
       "\t K. Mbappé         & Kylian-Mbappe                     & France      & 21 & 90 & 95 & Paris Saint-Germain & Under Contract & 2018 & 2022 & ⋯ & High   & Low    & 3 & 96 & 86 & 78 & 91 & 39 & 76 & 1600\\\\\n",
       "\t M. ter Stegen     & Marc-Andre-Ter-Stegen             & Germany     & 28 & 90 & 93 & FC Barcelona        & Under Contract & 2014 & 2022 & ⋯ & Medium & Medium & 3 & 88 & 85 & 88 & 90 & 45 & 88 &  130\\\\\n",
       "\t V. van Dijk       & Virgil-Van-Dijk                   & Netherlands & 28 & 90 & 91 & Liverpool           & Under Contract & 2018 & 2023 & ⋯ & Medium & Medium & 3 & 76 & 60 & 71 & 71 & 91 & 86 &  321\\\\\n",
       "\t S. Mané           & Sadio-Mane                        & Senegal     & 28 & 90 & 90 & Liverpool           & Under Contract & 2016 & 2023 & ⋯ & High   & Medium & 3 & 94 & 85 & 80 & 90 & 44 & 76 &  189\\\\\n",
       "\t Casemiro          & Carlos-Henrique-Venancio-Casimiro & Brazil      & 28 & 89 & 89 & Real Madrid         & Under Contract & 2013 & 2023 & ⋯ & High   & High   & 3 & 65 & 73 & 76 & 72 & 86 & 91 &  175\\\\\n",
       "\t T. Courtois       & Thibaut-Courtois                  & Belgium     & 28 & 89 & 90 & Real Madrid         & Under Contract & 2018 & 2024 & ⋯ & Medium & Medium & 4 & 84 & 89 & 74 & 88 & 48 & 85 &   96\\\\\n",
       "\t M. Neuer          & Manuel-Neuer                      & Germany     & 34 & 89 & 89 & FC Bayern München   & Under Contract & 2011 & 2023 & ⋯ & Medium & Medium & 5 & 87 & 87 & 91 & 89 & 57 & 86 &  118\\\\\n",
       "\t K. Benzema        & Karim-Benzema                     & France      & 32 & 89 & 89 & Real Madrid         & Under Contract & 2009 & 2022 & ⋯ & Medium & Low    & 4 & 74 & 85 & 81 & 86 & 40 & 76 &  216\\\\\n",
       "\t Sergio Ramos      & Sergio-Ramos-Garcia               & Spain       & 34 & 89 & 89 & Real Madrid         & Under Contract & 2005 & 2021 & ⋯ & High   & Medium & 4 & 71 & 70 & 76 & 73 & 88 & 85 &  212\\\\\n",
       "\t S. Agüero         & Sergio-Aguero                     & Argentina   & 32 & 89 & 89 & Manchester City     & Under Contract & 2011 & 2021 & ⋯ & High   & Medium & 4 & 78 & 90 & 77 & 88 & 33 & 73 &  154\\\\\n",
       "\t R. Sterling       & Raheem-Sterling                   & England     & 25 & 88 & 90 & Manchester City     & Under Contract & 2015 & 2023 & ⋯ & High   & Medium & 3 & 93 & 81 & 79 & 90 & 45 & 67 &  205\\\\\n",
       "\t N. Kanté          & Ngolo-Kante                       & France      & 29 & 88 & 88 & Chelsea             & Under Contract & 2016 & 2023 & ⋯ & Medium & High   & 3 & 77 & 66 & 76 & 81 & 86 & 82 &  202\\\\\n",
       "\t J. Kimmich        & Joshua-Kimmich                    & Germany     & 25 & 88 & 90 & FC Bayern München   & Under Contract & 2015 & 2023 & ⋯ & High   & Medium & 3 & 71 & 72 & 86 & 84 & 81 & 79 &  339\\\\\n",
       "\t P. Dybala         & Paulo-Dybala                      & Argentina   & 26 & 88 & 89 & Juventus            & Under Contract & 2015 & 2022 & ⋯ & Medium & Medium & 3 & 85 & 85 & 84 & 92 & 43 & 63 &  408\\\\\n",
       "\t Ederson           & Ederson-Santana-De-Moraes         & Brazil      & 26 & 88 & 91 & Manchester City     & Under Contract & 2017 & 2024 & ⋯ & Medium & Medium & 2 & 86 & 82 & 93 & 88 & 63 & 86 &  103\\\\\n",
       "\t H. Kane           & Harry-Kane                        & England     & 26 & 88 & 89 & Tottenham Hotspur   & Under Contract & 2010 & 2024 & ⋯ & High   & High   & 3 & 68 & 91 & 80 & 80 & 47 & 83 &  332\\\\\n",
       "\t S. Handanovič     & Samir-Handanovic                  & Slovenia    & 35 & 88 & 88 & Inter               & Under Contract & 2012 & 2021 & ⋯ & Medium & Medium & 3 & 88 & 85 & 73 & 89 & 53 & 89 &   86\\\\\n",
       "\t K. Koulibaly      & Kalidou-Koulibaly                 & Senegal     & 29 & 88 & 88 & Napoli              & Under Contract & 2014 & 2023 & ⋯ & Medium & High   & 3 & 75 & 28 & 55 & 68 & 89 & 86 &  173\\\\\n",
       "\t E. Hazard         & Eden-Hazard                       & Belgium     & 29 & 88 & 88 & Real Madrid         & Under Contract & 2019 & 2024 & ⋯ & High   & Medium & 4 & 88 & 82 & 83 & 92 & 35 & 66 &  246\\\\\n",
       "\t T. Kroos          & Toni-Kroos                        & Germany     & 30 & 88 & 88 & Real Madrid         & Under Contract & 2014 & 2023 & ⋯ & Medium & Medium & 4 & 54 & 81 & 91 & 81 & 71 & 69 &  161\\\\\n",
       "\t A. Griezmann      & Antoine-Griezmann                 & France      & 29 & 87 & 87 & FC Barcelona        & Under Contract & 2019 & 2024 & ⋯ & Medium & Medium & 4 & 79 & 85 & 84 & 88 & 57 & 72 &  396\\\\\n",
       "\t J. Sancho         & Jadon-Sancho                      & England     & 20 & 87 & 93 & Borussia Dortmund   & Under Contract & 2017 & 2023 & ⋯ & High   & Medium & 3 & 83 & 74 & 81 & 91 & 37 & 64 & 1100\\\\\n",
       "\t ⋮ & ⋮ & ⋮ & ⋮ & ⋮ & ⋮ & ⋮ & ⋮ & ⋮ & ⋮ & ⋱ & ⋮ & ⋮ & ⋮ & ⋮ & ⋮ & ⋮ & ⋮ & ⋮ & ⋮ & ⋮\\\\\n",
       "\t Chen Chunxin   & Chunxin-Chen      & China PR            & 22 & 48 & 59 & Shanghai SIPG FC                    & Under Contract & 2020 & 2022 & ⋯ & Medium & Medium & 1 & 71 & 37 & 47 & 50 & 42 & 44 & NA\\\\\n",
       "\t J. Browne      & Jamie-Browne      & Republic of Ireland & 19 & 48 & 58 & Finn Harps                          & Under Contract & 2020 & 2020 & ⋯ & Medium & Medium & 1 & 54 & 50 & 38 & 44 & 15 & 44 & NA\\\\\n",
       "\t L. Walker      & Laurie-Walker     & England             & 30 & 48 & 48 & Milton Keynes Dons                  & Under Contract & 2019 & 2021 & ⋯ & Medium & Medium & 1 & 51 & 47 & 44 & 48 & 34 & 46 & NA\\\\\n",
       "\t H. Delgado     & Hanssel-Delgado   & Ecuador             & 18 & 48 & 68 & Independiente del Valle             & Under Contract & 2020 & 2024 & ⋯ & Medium & Medium & 1 & 55 & 22 & 32 & 33 & 49 & 53 & NA\\\\\n",
       "\t Shan Huanhuan  & Huanhuan-Shan     & China PR            & 21 & 48 & 58 & Dalian YiFang FC                    & Under Contract & 2019 & 2024 & ⋯ & Medium & Medium & 1 & 54 & 45 & 35 & 50 & 28 & 47 & NA\\\\\n",
       "\t Fu Yuncheng    & Yuncheng-Fu       & China PR            & 21 & 48 & 53 & Guangzhou R\\&F FC                    & Under Contract & 2020 & 2022 & ⋯ & Low    & Medium & 1 & 55 & 21 & 28 & 30 & 49 & 58 & NA\\\\\n",
       "\t Ma Zhen        & Zhen-Ma           & China PR            & 22 & 48 & 52 & Shanghai Greenland Shenhua FC       & Under Contract & 2020 & 2024 & ⋯ & Medium & Medium & 1 & 49 & 47 & 45 & 46 & 54 & 44 & NA\\\\\n",
       "\t Chen Kejiang   & Kejiang-Chen      & China PR            & 23 & 48 & 54 & Chongqing Dangdai Lifan FC SWM Team & Under Contract & 2020 & 2022 & ⋯ & Low    & Low    & 1 & 60 & 24 & 25 & 30 & 50 & 51 & NA\\\\\n",
       "\t Wang Jianwen   & Jianwen-Wang      & China PR            & 32 & 48 & 48 & Qingdao Huanghai F.C.               & Under Contract & 2020 & 2023 & ⋯ & Low    & Low    & 1 & 61 & 33 & 48 & 46 & 38 & 58 & NA\\\\\n",
       "\t B. Shabani     & Brendon-Shabani   & Albania             & 18 & 48 & 68 & Leyton Orient                       & Under Contract & 2019 & 2021 & ⋯ & Medium & Medium & 1 & 65 & 43 & 47 & 50 & 39 & 49 & NA\\\\\n",
       "\t J. Bird        & Jay-Bird          & England             & 19 & 48 & 63 & Milton Keynes Dons                  & Under Contract & 2019 & 2021 & ⋯ & Medium & Medium & 1 & 66 & 48 & 37 & 47 & 17 & 53 & NA\\\\\n",
       "\t L. Smith       & Laurence-Smith    & England             & 19 & 48 & 65 & Fleetwood Town                      & Under Contract & 2019 & 2021 & ⋯ & Medium & Medium & 1 & 62 & 39 & 43 & 50 & 26 & 46 & NA\\\\\n",
       "\t L. Waldock     & Liam-Waldock      & England             & 19 & 48 & 65 & Sheffield Wednesday                 & Under Contract & 2017 & 2021 & ⋯ & Medium & Medium & 1 & 61 & 34 & 50 & 51 & 43 & 48 & NA\\\\\n",
       "\t B. Montaño     & Brayan-Montano    & Colombia            & 18 & 48 & 67 & Deportivo Cali                      & Under Contract & 2020 & 2024 & ⋯ & Medium & Medium & 1 & 59 & 25 & 27 & 30 & 48 & 56 & NA\\\\\n",
       "\t L. Ravenhill   & Liam-Ravenhill    & England             & 17 & 48 & 69 & Doncaster Rovers                    & Under Contract & 2020 & 2024 & ⋯ & Medium & Medium & 1 & 63 & 38 & 45 & 50 & 41 & 56 & NA\\\\\n",
       "\t R. Fontalvo    & Reinaldo-Fontalvo & Colombia            & 21 & 48 & 59 & Junior FC                           & Under Contract & 2020 & 2024 & ⋯ & Medium & Medium & 1 & 46 & 46 & 58 & 51 & 30 & 44 & NA\\\\\n",
       "\t Chen Zitong    & Zitong-Chen       & China PR            & 23 & 47 & 51 & Shijiazhuang Ever Bright F.C.       & Under Contract & 2020 & 2023 & ⋯ & Low    & Low    & 1 & 61 & 35 & 48 & 48 & 44 & 58 & NA\\\\\n",
       "\t Wang Zhenghao  & Zhenghao-Wang     & China PR            & 20 & 47 & 51 & Tianjin TEDA FC                     & Under Contract & 2019 & 2022 & ⋯ & Low    & Medium & 1 & 51 & 25 & 29 & 36 & 45 & 55 & NA\\\\\n",
       "\t Zhong Jiyu     & Jiyu-Zhong        & China PR            & 23 & 47 & 55 & Shijiazhuang Ever Bright F.C.       & Under Contract & 2018 & 2020 & ⋯ & Medium & Low    & 1 & 63 & 37 & 48 & 44 & 39 & 46 & NA\\\\\n",
       "\t Huang Wenzhou  & Wenzhuo-Huang     & China PR            & 21 & 47 & 53 & Shanghai SIPG FC                    & Under Contract & 2020 & 2022 & ⋯ & Low    & Low    & 1 & 58 & 32 & 49 & 47 & 43 & 48 & NA\\\\\n",
       "\t Song Yue       & Yue-Song          & China PR            & 28 & 47 & 47 & Tianjin TEDA FC                     & Under Contract & 2020 & 2022 & ⋯ & Low    & Low    & 1 & 65 & 37 & 49 & 46 & 40 & 59 & NA\\\\\n",
       "\t Wang Huapeng   & Huapeng-Wang      & China PR            & 20 & 47 & 53 & Guangzhou R\\&F FC                    & Under Contract & 2020 & 2022 & ⋯ & Low    & Low    & 1 & 59 & 22 & 25 & 30 & 47 & 55 & NA\\\\\n",
       "\t M. Flores      & Mateo-Flores      & Bolivia             & 19 & 47 & 63 & Club Bolívar                        & Under Contract & 2020 & 2024 & ⋯ & Medium & Medium & 1 & 57 & 32 & 43 & 48 & 44 & 49 & NA\\\\\n",
       "\t Zhang Mengxuan & Mengxuan-Zhang    & China PR            & 21 & 47 & 52 & Chongqing Dangdai Lifan FC SWM Team & Under Contract & 2020 & 2020 & ⋯ & Low    & Low    & 1 & 58 & 23 & 26 & 27 & 50 & 48 & NA\\\\\n",
       "\t V. Da Silva    & Vani-Da-Silva     & England             & 17 & 47 & 67 & Oldham Athletic                     & Under Contract & 2020 & 2021 & ⋯ & Medium & Medium & 1 & 70 & 46 & 40 & 53 & 16 & 40 & NA\\\\\n",
       "\t Xia Ao         & Ao-Xia            & China PR            & 21 & 47 & 55 & Wuhan Zall                          & Under Contract & 2018 & 2022 & ⋯ & Medium & Medium & 1 & 64 & 28 & 26 & 38 & 48 & 51 & NA\\\\\n",
       "\t B. Hough       & Ben-Hough         & England             & 17 & 47 & 67 & Oldham Athletic                     & Under Contract & 2020 & 2021 & ⋯ & Medium & Medium & 1 & 64 & 40 & 48 & 49 & 35 & 45 & NA\\\\\n",
       "\t R. McKinley    & Ronan-Mckinley    & England             & 18 & 47 & 65 & Derry City                          & Under Contract & 2019 & 2020 & ⋯ & Medium & Medium & 1 & 63 & 39 & 44 & 46 & 40 & 53 & NA\\\\\n",
       "\t Wang Zhen'ao   & Zhenao-Wang       & China PR            & 20 & 47 & 57 & Dalian YiFang FC                    & Under Contract & 2020 & 2022 & ⋯ & Medium & Medium & 1 & 58 & 49 & 41 & 49 & 30 & 44 & NA\\\\\n",
       "\t Zhou Xiao      & Xiao-Zhou         & China PR            & 21 & 47 & 57 & Dalian YiFang FC                    & Under Contract & 2019 & 2023 & ⋯ & Medium & Medium & 1 & 62 & 22 & 39 & 42 & 45 & 55 & NA\\\\\n",
       "\\end{tabular}\n"
      ],
      "text/markdown": [
       "\n",
       "A rowwise_df: 18979 × 76\n",
       "\n",
       "| Name &lt;chr&gt; | LongName &lt;chr&gt; | Nationality &lt;chr&gt; | Age &lt;int&gt; | X.OVA &lt;int&gt; | POT &lt;int&gt; | Club &lt;chr&gt; | Contract_type &lt;chr&gt; | Start_Contract &lt;dbl&gt; | End_Contract &lt;chr&gt; | ⋯ ⋯ | A.W &lt;chr&gt; | D.W &lt;chr&gt; | IR &lt;chr&gt; | PAC &lt;int&gt; | SHO &lt;int&gt; | PAS &lt;int&gt; | DRI &lt;int&gt; | DEF &lt;int&gt; | PHY &lt;int&gt; | Hits &lt;dbl&gt; |\n",
       "|---|---|---|---|---|---|---|---|---|---|---|---|---|---|---|---|---|---|---|---|---|\n",
       "| L. Messi          | Lionel-Messi                      | Argentina   | 33 | 93 | 93 | FC Barcelona        | Under Contract | 2004 | 2021 | ⋯ | Medium | Low    | 5 | 85 | 92 | 91 | 95 | 38 | 65 |  771 |\n",
       "| Cristiano Ronaldo | C-Ronaldo-Dos-Santos-Aveiro       | Portugal    | 35 | 92 | 92 | Juventus            | Under Contract | 2018 | 2022 | ⋯ | High   | Low    | 5 | 89 | 93 | 81 | 89 | 35 | 77 |  562 |\n",
       "| J. Oblak          | Jan-Oblak                         | Slovenia    | 27 | 91 | 93 | Atlético Madrid     | Under Contract | 2014 | 2023 | ⋯ | Medium | Medium | 3 | 87 | 92 | 78 | 90 | 52 | 90 |  150 |\n",
       "| K. De Bruyne      | Kevin-De-Bruyne                   | Belgium     | 29 | 91 | 91 | Manchester City     | Under Contract | 2015 | 2023 | ⋯ | High   | High   | 4 | 76 | 86 | 93 | 88 | 64 | 78 |  207 |\n",
       "| Neymar Jr         | Neymar-Da-Silva-Santos-Jr         | Brazil      | 28 | 91 | 91 | Paris Saint-Germain | Under Contract | 2017 | 2022 | ⋯ | High   | Medium | 5 | 91 | 85 | 86 | 94 | 36 | 59 |  595 |\n",
       "| R. Lewandowski    | Robert-Lewandowski                | Poland      | 31 | 91 | 91 | FC Bayern München   | Under Contract | 2014 | 2023 | ⋯ | High   | Medium | 4 | 78 | 91 | 78 | 85 | 43 | 82 |  248 |\n",
       "| M. Salah          | Mohamed-Salah                     | Egypt       | 28 | 90 | 90 | Liverpool           | Under Contract | 2017 | 2023 | ⋯ | High   | Medium | 3 | 93 | 86 | 81 | 90 | 45 | 75 |  246 |\n",
       "| Alisson           | Alisson-Ramses-Becker             | Brazil      | 27 | 90 | 91 | Liverpool           | Under Contract | 2018 | 2024 | ⋯ | Medium | Medium | 3 | 86 | 88 | 85 | 89 | 51 | 91 |  120 |\n",
       "| K. Mbappé         | Kylian-Mbappe                     | France      | 21 | 90 | 95 | Paris Saint-Germain | Under Contract | 2018 | 2022 | ⋯ | High   | Low    | 3 | 96 | 86 | 78 | 91 | 39 | 76 | 1600 |\n",
       "| M. ter Stegen     | Marc-Andre-Ter-Stegen             | Germany     | 28 | 90 | 93 | FC Barcelona        | Under Contract | 2014 | 2022 | ⋯ | Medium | Medium | 3 | 88 | 85 | 88 | 90 | 45 | 88 |  130 |\n",
       "| V. van Dijk       | Virgil-Van-Dijk                   | Netherlands | 28 | 90 | 91 | Liverpool           | Under Contract | 2018 | 2023 | ⋯ | Medium | Medium | 3 | 76 | 60 | 71 | 71 | 91 | 86 |  321 |\n",
       "| S. Mané           | Sadio-Mane                        | Senegal     | 28 | 90 | 90 | Liverpool           | Under Contract | 2016 | 2023 | ⋯ | High   | Medium | 3 | 94 | 85 | 80 | 90 | 44 | 76 |  189 |\n",
       "| Casemiro          | Carlos-Henrique-Venancio-Casimiro | Brazil      | 28 | 89 | 89 | Real Madrid         | Under Contract | 2013 | 2023 | ⋯ | High   | High   | 3 | 65 | 73 | 76 | 72 | 86 | 91 |  175 |\n",
       "| T. Courtois       | Thibaut-Courtois                  | Belgium     | 28 | 89 | 90 | Real Madrid         | Under Contract | 2018 | 2024 | ⋯ | Medium | Medium | 4 | 84 | 89 | 74 | 88 | 48 | 85 |   96 |\n",
       "| M. Neuer          | Manuel-Neuer                      | Germany     | 34 | 89 | 89 | FC Bayern München   | Under Contract | 2011 | 2023 | ⋯ | Medium | Medium | 5 | 87 | 87 | 91 | 89 | 57 | 86 |  118 |\n",
       "| K. Benzema        | Karim-Benzema                     | France      | 32 | 89 | 89 | Real Madrid         | Under Contract | 2009 | 2022 | ⋯ | Medium | Low    | 4 | 74 | 85 | 81 | 86 | 40 | 76 |  216 |\n",
       "| Sergio Ramos      | Sergio-Ramos-Garcia               | Spain       | 34 | 89 | 89 | Real Madrid         | Under Contract | 2005 | 2021 | ⋯ | High   | Medium | 4 | 71 | 70 | 76 | 73 | 88 | 85 |  212 |\n",
       "| S. Agüero         | Sergio-Aguero                     | Argentina   | 32 | 89 | 89 | Manchester City     | Under Contract | 2011 | 2021 | ⋯ | High   | Medium | 4 | 78 | 90 | 77 | 88 | 33 | 73 |  154 |\n",
       "| R. Sterling       | Raheem-Sterling                   | England     | 25 | 88 | 90 | Manchester City     | Under Contract | 2015 | 2023 | ⋯ | High   | Medium | 3 | 93 | 81 | 79 | 90 | 45 | 67 |  205 |\n",
       "| N. Kanté          | Ngolo-Kante                       | France      | 29 | 88 | 88 | Chelsea             | Under Contract | 2016 | 2023 | ⋯ | Medium | High   | 3 | 77 | 66 | 76 | 81 | 86 | 82 |  202 |\n",
       "| J. Kimmich        | Joshua-Kimmich                    | Germany     | 25 | 88 | 90 | FC Bayern München   | Under Contract | 2015 | 2023 | ⋯ | High   | Medium | 3 | 71 | 72 | 86 | 84 | 81 | 79 |  339 |\n",
       "| P. Dybala         | Paulo-Dybala                      | Argentina   | 26 | 88 | 89 | Juventus            | Under Contract | 2015 | 2022 | ⋯ | Medium | Medium | 3 | 85 | 85 | 84 | 92 | 43 | 63 |  408 |\n",
       "| Ederson           | Ederson-Santana-De-Moraes         | Brazil      | 26 | 88 | 91 | Manchester City     | Under Contract | 2017 | 2024 | ⋯ | Medium | Medium | 2 | 86 | 82 | 93 | 88 | 63 | 86 |  103 |\n",
       "| H. Kane           | Harry-Kane                        | England     | 26 | 88 | 89 | Tottenham Hotspur   | Under Contract | 2010 | 2024 | ⋯ | High   | High   | 3 | 68 | 91 | 80 | 80 | 47 | 83 |  332 |\n",
       "| S. Handanovič     | Samir-Handanovic                  | Slovenia    | 35 | 88 | 88 | Inter               | Under Contract | 2012 | 2021 | ⋯ | Medium | Medium | 3 | 88 | 85 | 73 | 89 | 53 | 89 |   86 |\n",
       "| K. Koulibaly      | Kalidou-Koulibaly                 | Senegal     | 29 | 88 | 88 | Napoli              | Under Contract | 2014 | 2023 | ⋯ | Medium | High   | 3 | 75 | 28 | 55 | 68 | 89 | 86 |  173 |\n",
       "| E. Hazard         | Eden-Hazard                       | Belgium     | 29 | 88 | 88 | Real Madrid         | Under Contract | 2019 | 2024 | ⋯ | High   | Medium | 4 | 88 | 82 | 83 | 92 | 35 | 66 |  246 |\n",
       "| T. Kroos          | Toni-Kroos                        | Germany     | 30 | 88 | 88 | Real Madrid         | Under Contract | 2014 | 2023 | ⋯ | Medium | Medium | 4 | 54 | 81 | 91 | 81 | 71 | 69 |  161 |\n",
       "| A. Griezmann      | Antoine-Griezmann                 | France      | 29 | 87 | 87 | FC Barcelona        | Under Contract | 2019 | 2024 | ⋯ | Medium | Medium | 4 | 79 | 85 | 84 | 88 | 57 | 72 |  396 |\n",
       "| J. Sancho         | Jadon-Sancho                      | England     | 20 | 87 | 93 | Borussia Dortmund   | Under Contract | 2017 | 2023 | ⋯ | High   | Medium | 3 | 83 | 74 | 81 | 91 | 37 | 64 | 1100 |\n",
       "| ⋮ | ⋮ | ⋮ | ⋮ | ⋮ | ⋮ | ⋮ | ⋮ | ⋮ | ⋮ | ⋱ | ⋮ | ⋮ | ⋮ | ⋮ | ⋮ | ⋮ | ⋮ | ⋮ | ⋮ | ⋮ |\n",
       "| Chen Chunxin   | Chunxin-Chen      | China PR            | 22 | 48 | 59 | Shanghai SIPG FC                    | Under Contract | 2020 | 2022 | ⋯ | Medium | Medium | 1 | 71 | 37 | 47 | 50 | 42 | 44 | NA |\n",
       "| J. Browne      | Jamie-Browne      | Republic of Ireland | 19 | 48 | 58 | Finn Harps                          | Under Contract | 2020 | 2020 | ⋯ | Medium | Medium | 1 | 54 | 50 | 38 | 44 | 15 | 44 | NA |\n",
       "| L. Walker      | Laurie-Walker     | England             | 30 | 48 | 48 | Milton Keynes Dons                  | Under Contract | 2019 | 2021 | ⋯ | Medium | Medium | 1 | 51 | 47 | 44 | 48 | 34 | 46 | NA |\n",
       "| H. Delgado     | Hanssel-Delgado   | Ecuador             | 18 | 48 | 68 | Independiente del Valle             | Under Contract | 2020 | 2024 | ⋯ | Medium | Medium | 1 | 55 | 22 | 32 | 33 | 49 | 53 | NA |\n",
       "| Shan Huanhuan  | Huanhuan-Shan     | China PR            | 21 | 48 | 58 | Dalian YiFang FC                    | Under Contract | 2019 | 2024 | ⋯ | Medium | Medium | 1 | 54 | 45 | 35 | 50 | 28 | 47 | NA |\n",
       "| Fu Yuncheng    | Yuncheng-Fu       | China PR            | 21 | 48 | 53 | Guangzhou R&amp;F FC                    | Under Contract | 2020 | 2022 | ⋯ | Low    | Medium | 1 | 55 | 21 | 28 | 30 | 49 | 58 | NA |\n",
       "| Ma Zhen        | Zhen-Ma           | China PR            | 22 | 48 | 52 | Shanghai Greenland Shenhua FC       | Under Contract | 2020 | 2024 | ⋯ | Medium | Medium | 1 | 49 | 47 | 45 | 46 | 54 | 44 | NA |\n",
       "| Chen Kejiang   | Kejiang-Chen      | China PR            | 23 | 48 | 54 | Chongqing Dangdai Lifan FC SWM Team | Under Contract | 2020 | 2022 | ⋯ | Low    | Low    | 1 | 60 | 24 | 25 | 30 | 50 | 51 | NA |\n",
       "| Wang Jianwen   | Jianwen-Wang      | China PR            | 32 | 48 | 48 | Qingdao Huanghai F.C.               | Under Contract | 2020 | 2023 | ⋯ | Low    | Low    | 1 | 61 | 33 | 48 | 46 | 38 | 58 | NA |\n",
       "| B. Shabani     | Brendon-Shabani   | Albania             | 18 | 48 | 68 | Leyton Orient                       | Under Contract | 2019 | 2021 | ⋯ | Medium | Medium | 1 | 65 | 43 | 47 | 50 | 39 | 49 | NA |\n",
       "| J. Bird        | Jay-Bird          | England             | 19 | 48 | 63 | Milton Keynes Dons                  | Under Contract | 2019 | 2021 | ⋯ | Medium | Medium | 1 | 66 | 48 | 37 | 47 | 17 | 53 | NA |\n",
       "| L. Smith       | Laurence-Smith    | England             | 19 | 48 | 65 | Fleetwood Town                      | Under Contract | 2019 | 2021 | ⋯ | Medium | Medium | 1 | 62 | 39 | 43 | 50 | 26 | 46 | NA |\n",
       "| L. Waldock     | Liam-Waldock      | England             | 19 | 48 | 65 | Sheffield Wednesday                 | Under Contract | 2017 | 2021 | ⋯ | Medium | Medium | 1 | 61 | 34 | 50 | 51 | 43 | 48 | NA |\n",
       "| B. Montaño     | Brayan-Montano    | Colombia            | 18 | 48 | 67 | Deportivo Cali                      | Under Contract | 2020 | 2024 | ⋯ | Medium | Medium | 1 | 59 | 25 | 27 | 30 | 48 | 56 | NA |\n",
       "| L. Ravenhill   | Liam-Ravenhill    | England             | 17 | 48 | 69 | Doncaster Rovers                    | Under Contract | 2020 | 2024 | ⋯ | Medium | Medium | 1 | 63 | 38 | 45 | 50 | 41 | 56 | NA |\n",
       "| R. Fontalvo    | Reinaldo-Fontalvo | Colombia            | 21 | 48 | 59 | Junior FC                           | Under Contract | 2020 | 2024 | ⋯ | Medium | Medium | 1 | 46 | 46 | 58 | 51 | 30 | 44 | NA |\n",
       "| Chen Zitong    | Zitong-Chen       | China PR            | 23 | 47 | 51 | Shijiazhuang Ever Bright F.C.       | Under Contract | 2020 | 2023 | ⋯ | Low    | Low    | 1 | 61 | 35 | 48 | 48 | 44 | 58 | NA |\n",
       "| Wang Zhenghao  | Zhenghao-Wang     | China PR            | 20 | 47 | 51 | Tianjin TEDA FC                     | Under Contract | 2019 | 2022 | ⋯ | Low    | Medium | 1 | 51 | 25 | 29 | 36 | 45 | 55 | NA |\n",
       "| Zhong Jiyu     | Jiyu-Zhong        | China PR            | 23 | 47 | 55 | Shijiazhuang Ever Bright F.C.       | Under Contract | 2018 | 2020 | ⋯ | Medium | Low    | 1 | 63 | 37 | 48 | 44 | 39 | 46 | NA |\n",
       "| Huang Wenzhou  | Wenzhuo-Huang     | China PR            | 21 | 47 | 53 | Shanghai SIPG FC                    | Under Contract | 2020 | 2022 | ⋯ | Low    | Low    | 1 | 58 | 32 | 49 | 47 | 43 | 48 | NA |\n",
       "| Song Yue       | Yue-Song          | China PR            | 28 | 47 | 47 | Tianjin TEDA FC                     | Under Contract | 2020 | 2022 | ⋯ | Low    | Low    | 1 | 65 | 37 | 49 | 46 | 40 | 59 | NA |\n",
       "| Wang Huapeng   | Huapeng-Wang      | China PR            | 20 | 47 | 53 | Guangzhou R&amp;F FC                    | Under Contract | 2020 | 2022 | ⋯ | Low    | Low    | 1 | 59 | 22 | 25 | 30 | 47 | 55 | NA |\n",
       "| M. Flores      | Mateo-Flores      | Bolivia             | 19 | 47 | 63 | Club Bolívar                        | Under Contract | 2020 | 2024 | ⋯ | Medium | Medium | 1 | 57 | 32 | 43 | 48 | 44 | 49 | NA |\n",
       "| Zhang Mengxuan | Mengxuan-Zhang    | China PR            | 21 | 47 | 52 | Chongqing Dangdai Lifan FC SWM Team | Under Contract | 2020 | 2020 | ⋯ | Low    | Low    | 1 | 58 | 23 | 26 | 27 | 50 | 48 | NA |\n",
       "| V. Da Silva    | Vani-Da-Silva     | England             | 17 | 47 | 67 | Oldham Athletic                     | Under Contract | 2020 | 2021 | ⋯ | Medium | Medium | 1 | 70 | 46 | 40 | 53 | 16 | 40 | NA |\n",
       "| Xia Ao         | Ao-Xia            | China PR            | 21 | 47 | 55 | Wuhan Zall                          | Under Contract | 2018 | 2022 | ⋯ | Medium | Medium | 1 | 64 | 28 | 26 | 38 | 48 | 51 | NA |\n",
       "| B. Hough       | Ben-Hough         | England             | 17 | 47 | 67 | Oldham Athletic                     | Under Contract | 2020 | 2021 | ⋯ | Medium | Medium | 1 | 64 | 40 | 48 | 49 | 35 | 45 | NA |\n",
       "| R. McKinley    | Ronan-Mckinley    | England             | 18 | 47 | 65 | Derry City                          | Under Contract | 2019 | 2020 | ⋯ | Medium | Medium | 1 | 63 | 39 | 44 | 46 | 40 | 53 | NA |\n",
       "| Wang Zhen'ao   | Zhenao-Wang       | China PR            | 20 | 47 | 57 | Dalian YiFang FC                    | Under Contract | 2020 | 2022 | ⋯ | Medium | Medium | 1 | 58 | 49 | 41 | 49 | 30 | 44 | NA |\n",
       "| Zhou Xiao      | Xiao-Zhou         | China PR            | 21 | 47 | 57 | Dalian YiFang FC                    | Under Contract | 2019 | 2023 | ⋯ | Medium | Medium | 1 | 62 | 22 | 39 | 42 | 45 | 55 | NA |\n",
       "\n"
      ],
      "text/plain": [
       "      Name              LongName                          Nationality        \n",
       "1     L. Messi          Lionel-Messi                      Argentina          \n",
       "2     Cristiano Ronaldo C-Ronaldo-Dos-Santos-Aveiro       Portugal           \n",
       "3     J. Oblak          Jan-Oblak                         Slovenia           \n",
       "4     K. De Bruyne      Kevin-De-Bruyne                   Belgium            \n",
       "5     Neymar Jr         Neymar-Da-Silva-Santos-Jr         Brazil             \n",
       "6     R. Lewandowski    Robert-Lewandowski                Poland             \n",
       "7     M. Salah          Mohamed-Salah                     Egypt              \n",
       "8     Alisson           Alisson-Ramses-Becker             Brazil             \n",
       "9     K. Mbappé         Kylian-Mbappe                     France             \n",
       "10    M. ter Stegen     Marc-Andre-Ter-Stegen             Germany            \n",
       "11    V. van Dijk       Virgil-Van-Dijk                   Netherlands        \n",
       "12    S. Mané           Sadio-Mane                        Senegal            \n",
       "13    Casemiro          Carlos-Henrique-Venancio-Casimiro Brazil             \n",
       "14    T. Courtois       Thibaut-Courtois                  Belgium            \n",
       "15    M. Neuer          Manuel-Neuer                      Germany            \n",
       "16    K. Benzema        Karim-Benzema                     France             \n",
       "17    Sergio Ramos      Sergio-Ramos-Garcia               Spain              \n",
       "18    S. Agüero         Sergio-Aguero                     Argentina          \n",
       "19    R. Sterling       Raheem-Sterling                   England            \n",
       "20    N. Kanté          Ngolo-Kante                       France             \n",
       "21    J. Kimmich        Joshua-Kimmich                    Germany            \n",
       "22    P. Dybala         Paulo-Dybala                      Argentina          \n",
       "23    Ederson           Ederson-Santana-De-Moraes         Brazil             \n",
       "24    H. Kane           Harry-Kane                        England            \n",
       "25    S. Handanovič     Samir-Handanovic                  Slovenia           \n",
       "26    K. Koulibaly      Kalidou-Koulibaly                 Senegal            \n",
       "27    E. Hazard         Eden-Hazard                       Belgium            \n",
       "28    T. Kroos          Toni-Kroos                        Germany            \n",
       "29    A. Griezmann      Antoine-Griezmann                 France             \n",
       "30    J. Sancho         Jadon-Sancho                      England            \n",
       "⋮     ⋮                 ⋮                                 ⋮                  \n",
       "18950 Chen Chunxin      Chunxin-Chen                      China PR           \n",
       "18951 J. Browne         Jamie-Browne                      Republic of Ireland\n",
       "18952 L. Walker         Laurie-Walker                     England            \n",
       "18953 H. Delgado        Hanssel-Delgado                   Ecuador            \n",
       "18954 Shan Huanhuan     Huanhuan-Shan                     China PR           \n",
       "18955 Fu Yuncheng       Yuncheng-Fu                       China PR           \n",
       "18956 Ma Zhen           Zhen-Ma                           China PR           \n",
       "18957 Chen Kejiang      Kejiang-Chen                      China PR           \n",
       "18958 Wang Jianwen      Jianwen-Wang                      China PR           \n",
       "18959 B. Shabani        Brendon-Shabani                   Albania            \n",
       "18960 J. Bird           Jay-Bird                          England            \n",
       "18961 L. Smith          Laurence-Smith                    England            \n",
       "18962 L. Waldock        Liam-Waldock                      England            \n",
       "18963 B. Montaño        Brayan-Montano                    Colombia           \n",
       "18964 L. Ravenhill      Liam-Ravenhill                    England            \n",
       "18965 R. Fontalvo       Reinaldo-Fontalvo                 Colombia           \n",
       "18966 Chen Zitong       Zitong-Chen                       China PR           \n",
       "18967 Wang Zhenghao     Zhenghao-Wang                     China PR           \n",
       "18968 Zhong Jiyu        Jiyu-Zhong                        China PR           \n",
       "18969 Huang Wenzhou     Wenzhuo-Huang                     China PR           \n",
       "18970 Song Yue          Yue-Song                          China PR           \n",
       "18971 Wang Huapeng      Huapeng-Wang                      China PR           \n",
       "18972 M. Flores         Mateo-Flores                      Bolivia            \n",
       "18973 Zhang Mengxuan    Mengxuan-Zhang                    China PR           \n",
       "18974 V. Da Silva       Vani-Da-Silva                     England            \n",
       "18975 Xia Ao            Ao-Xia                            China PR           \n",
       "18976 B. Hough          Ben-Hough                         England            \n",
       "18977 R. McKinley       Ronan-Mckinley                    England            \n",
       "18978 Wang Zhen'ao      Zhenao-Wang                       China PR           \n",
       "18979 Zhou Xiao         Xiao-Zhou                         China PR           \n",
       "      Age X.OVA POT Club                                Contract_type \n",
       "1     33  93    93  FC Barcelona                        Under Contract\n",
       "2     35  92    92  Juventus                            Under Contract\n",
       "3     27  91    93  Atlético Madrid                     Under Contract\n",
       "4     29  91    91  Manchester City                     Under Contract\n",
       "5     28  91    91  Paris Saint-Germain                 Under Contract\n",
       "6     31  91    91  FC Bayern München                   Under Contract\n",
       "7     28  90    90  Liverpool                           Under Contract\n",
       "8     27  90    91  Liverpool                           Under Contract\n",
       "9     21  90    95  Paris Saint-Germain                 Under Contract\n",
       "10    28  90    93  FC Barcelona                        Under Contract\n",
       "11    28  90    91  Liverpool                           Under Contract\n",
       "12    28  90    90  Liverpool                           Under Contract\n",
       "13    28  89    89  Real Madrid                         Under Contract\n",
       "14    28  89    90  Real Madrid                         Under Contract\n",
       "15    34  89    89  FC Bayern München                   Under Contract\n",
       "16    32  89    89  Real Madrid                         Under Contract\n",
       "17    34  89    89  Real Madrid                         Under Contract\n",
       "18    32  89    89  Manchester City                     Under Contract\n",
       "19    25  88    90  Manchester City                     Under Contract\n",
       "20    29  88    88  Chelsea                             Under Contract\n",
       "21    25  88    90  FC Bayern München                   Under Contract\n",
       "22    26  88    89  Juventus                            Under Contract\n",
       "23    26  88    91  Manchester City                     Under Contract\n",
       "24    26  88    89  Tottenham Hotspur                   Under Contract\n",
       "25    35  88    88  Inter                               Under Contract\n",
       "26    29  88    88  Napoli                              Under Contract\n",
       "27    29  88    88  Real Madrid                         Under Contract\n",
       "28    30  88    88  Real Madrid                         Under Contract\n",
       "29    29  87    87  FC Barcelona                        Under Contract\n",
       "30    20  87    93  Borussia Dortmund                   Under Contract\n",
       "⋮     ⋮   ⋮     ⋮   ⋮                                   ⋮             \n",
       "18950 22  48    59  Shanghai SIPG FC                    Under Contract\n",
       "18951 19  48    58  Finn Harps                          Under Contract\n",
       "18952 30  48    48  Milton Keynes Dons                  Under Contract\n",
       "18953 18  48    68  Independiente del Valle             Under Contract\n",
       "18954 21  48    58  Dalian YiFang FC                    Under Contract\n",
       "18955 21  48    53  Guangzhou R&F FC                    Under Contract\n",
       "18956 22  48    52  Shanghai Greenland Shenhua FC       Under Contract\n",
       "18957 23  48    54  Chongqing Dangdai Lifan FC SWM Team Under Contract\n",
       "18958 32  48    48  Qingdao Huanghai F.C.               Under Contract\n",
       "18959 18  48    68  Leyton Orient                       Under Contract\n",
       "18960 19  48    63  Milton Keynes Dons                  Under Contract\n",
       "18961 19  48    65  Fleetwood Town                      Under Contract\n",
       "18962 19  48    65  Sheffield Wednesday                 Under Contract\n",
       "18963 18  48    67  Deportivo Cali                      Under Contract\n",
       "18964 17  48    69  Doncaster Rovers                    Under Contract\n",
       "18965 21  48    59  Junior FC                           Under Contract\n",
       "18966 23  47    51  Shijiazhuang Ever Bright F.C.       Under Contract\n",
       "18967 20  47    51  Tianjin TEDA FC                     Under Contract\n",
       "18968 23  47    55  Shijiazhuang Ever Bright F.C.       Under Contract\n",
       "18969 21  47    53  Shanghai SIPG FC                    Under Contract\n",
       "18970 28  47    47  Tianjin TEDA FC                     Under Contract\n",
       "18971 20  47    53  Guangzhou R&F FC                    Under Contract\n",
       "18972 19  47    63  Club Bolívar                        Under Contract\n",
       "18973 21  47    52  Chongqing Dangdai Lifan FC SWM Team Under Contract\n",
       "18974 17  47    67  Oldham Athletic                     Under Contract\n",
       "18975 21  47    55  Wuhan Zall                          Under Contract\n",
       "18976 17  47    67  Oldham Athletic                     Under Contract\n",
       "18977 18  47    65  Derry City                          Under Contract\n",
       "18978 20  47    57  Dalian YiFang FC                    Under Contract\n",
       "18979 21  47    57  Dalian YiFang FC                    Under Contract\n",
       "      Start_Contract End_Contract ⋯ A.W    D.W    IR PAC SHO PAS DRI DEF PHY\n",
       "1     2004           2021         ⋯ Medium Low    5  85  92  91  95  38  65 \n",
       "2     2018           2022         ⋯ High   Low    5  89  93  81  89  35  77 \n",
       "3     2014           2023         ⋯ Medium Medium 3  87  92  78  90  52  90 \n",
       "4     2015           2023         ⋯ High   High   4  76  86  93  88  64  78 \n",
       "5     2017           2022         ⋯ High   Medium 5  91  85  86  94  36  59 \n",
       "6     2014           2023         ⋯ High   Medium 4  78  91  78  85  43  82 \n",
       "7     2017           2023         ⋯ High   Medium 3  93  86  81  90  45  75 \n",
       "8     2018           2024         ⋯ Medium Medium 3  86  88  85  89  51  91 \n",
       "9     2018           2022         ⋯ High   Low    3  96  86  78  91  39  76 \n",
       "10    2014           2022         ⋯ Medium Medium 3  88  85  88  90  45  88 \n",
       "11    2018           2023         ⋯ Medium Medium 3  76  60  71  71  91  86 \n",
       "12    2016           2023         ⋯ High   Medium 3  94  85  80  90  44  76 \n",
       "13    2013           2023         ⋯ High   High   3  65  73  76  72  86  91 \n",
       "14    2018           2024         ⋯ Medium Medium 4  84  89  74  88  48  85 \n",
       "15    2011           2023         ⋯ Medium Medium 5  87  87  91  89  57  86 \n",
       "16    2009           2022         ⋯ Medium Low    4  74  85  81  86  40  76 \n",
       "17    2005           2021         ⋯ High   Medium 4  71  70  76  73  88  85 \n",
       "18    2011           2021         ⋯ High   Medium 4  78  90  77  88  33  73 \n",
       "19    2015           2023         ⋯ High   Medium 3  93  81  79  90  45  67 \n",
       "20    2016           2023         ⋯ Medium High   3  77  66  76  81  86  82 \n",
       "21    2015           2023         ⋯ High   Medium 3  71  72  86  84  81  79 \n",
       "22    2015           2022         ⋯ Medium Medium 3  85  85  84  92  43  63 \n",
       "23    2017           2024         ⋯ Medium Medium 2  86  82  93  88  63  86 \n",
       "24    2010           2024         ⋯ High   High   3  68  91  80  80  47  83 \n",
       "25    2012           2021         ⋯ Medium Medium 3  88  85  73  89  53  89 \n",
       "26    2014           2023         ⋯ Medium High   3  75  28  55  68  89  86 \n",
       "27    2019           2024         ⋯ High   Medium 4  88  82  83  92  35  66 \n",
       "28    2014           2023         ⋯ Medium Medium 4  54  81  91  81  71  69 \n",
       "29    2019           2024         ⋯ Medium Medium 4  79  85  84  88  57  72 \n",
       "30    2017           2023         ⋯ High   Medium 3  83  74  81  91  37  64 \n",
       "⋮     ⋮              ⋮            ⋱ ⋮      ⋮      ⋮  ⋮   ⋮   ⋮   ⋮   ⋮   ⋮  \n",
       "18950 2020           2022         ⋯ Medium Medium 1  71  37  47  50  42  44 \n",
       "18951 2020           2020         ⋯ Medium Medium 1  54  50  38  44  15  44 \n",
       "18952 2019           2021         ⋯ Medium Medium 1  51  47  44  48  34  46 \n",
       "18953 2020           2024         ⋯ Medium Medium 1  55  22  32  33  49  53 \n",
       "18954 2019           2024         ⋯ Medium Medium 1  54  45  35  50  28  47 \n",
       "18955 2020           2022         ⋯ Low    Medium 1  55  21  28  30  49  58 \n",
       "18956 2020           2024         ⋯ Medium Medium 1  49  47  45  46  54  44 \n",
       "18957 2020           2022         ⋯ Low    Low    1  60  24  25  30  50  51 \n",
       "18958 2020           2023         ⋯ Low    Low    1  61  33  48  46  38  58 \n",
       "18959 2019           2021         ⋯ Medium Medium 1  65  43  47  50  39  49 \n",
       "18960 2019           2021         ⋯ Medium Medium 1  66  48  37  47  17  53 \n",
       "18961 2019           2021         ⋯ Medium Medium 1  62  39  43  50  26  46 \n",
       "18962 2017           2021         ⋯ Medium Medium 1  61  34  50  51  43  48 \n",
       "18963 2020           2024         ⋯ Medium Medium 1  59  25  27  30  48  56 \n",
       "18964 2020           2024         ⋯ Medium Medium 1  63  38  45  50  41  56 \n",
       "18965 2020           2024         ⋯ Medium Medium 1  46  46  58  51  30  44 \n",
       "18966 2020           2023         ⋯ Low    Low    1  61  35  48  48  44  58 \n",
       "18967 2019           2022         ⋯ Low    Medium 1  51  25  29  36  45  55 \n",
       "18968 2018           2020         ⋯ Medium Low    1  63  37  48  44  39  46 \n",
       "18969 2020           2022         ⋯ Low    Low    1  58  32  49  47  43  48 \n",
       "18970 2020           2022         ⋯ Low    Low    1  65  37  49  46  40  59 \n",
       "18971 2020           2022         ⋯ Low    Low    1  59  22  25  30  47  55 \n",
       "18972 2020           2024         ⋯ Medium Medium 1  57  32  43  48  44  49 \n",
       "18973 2020           2020         ⋯ Low    Low    1  58  23  26  27  50  48 \n",
       "18974 2020           2021         ⋯ Medium Medium 1  70  46  40  53  16  40 \n",
       "18975 2018           2022         ⋯ Medium Medium 1  64  28  26  38  48  51 \n",
       "18976 2020           2021         ⋯ Medium Medium 1  64  40  48  49  35  45 \n",
       "18977 2019           2020         ⋯ Medium Medium 1  63  39  44  46  40  53 \n",
       "18978 2020           2022         ⋯ Medium Medium 1  58  49  41  49  30  44 \n",
       "18979 2019           2023         ⋯ Medium Medium 1  62  22  39  42  45  55 \n",
       "      Hits\n",
       "1      771\n",
       "2      562\n",
       "3      150\n",
       "4      207\n",
       "5      595\n",
       "6      248\n",
       "7      246\n",
       "8      120\n",
       "9     1600\n",
       "10     130\n",
       "11     321\n",
       "12     189\n",
       "13     175\n",
       "14      96\n",
       "15     118\n",
       "16     216\n",
       "17     212\n",
       "18     154\n",
       "19     205\n",
       "20     202\n",
       "21     339\n",
       "22     408\n",
       "23     103\n",
       "24     332\n",
       "25      86\n",
       "26     173\n",
       "27     246\n",
       "28     161\n",
       "29     396\n",
       "30    1100\n",
       "⋮     ⋮   \n",
       "18950 NA  \n",
       "18951 NA  \n",
       "18952 NA  \n",
       "18953 NA  \n",
       "18954 NA  \n",
       "18955 NA  \n",
       "18956 NA  \n",
       "18957 NA  \n",
       "18958 NA  \n",
       "18959 NA  \n",
       "18960 NA  \n",
       "18961 NA  \n",
       "18962 NA  \n",
       "18963 NA  \n",
       "18964 NA  \n",
       "18965 NA  \n",
       "18966 NA  \n",
       "18967 NA  \n",
       "18968 NA  \n",
       "18969 NA  \n",
       "18970 NA  \n",
       "18971 NA  \n",
       "18972 NA  \n",
       "18973 NA  \n",
       "18974 NA  \n",
       "18975 NA  \n",
       "18976 NA  \n",
       "18977 NA  \n",
       "18978 NA  \n",
       "18979 NA  "
      ]
     },
     "metadata": {},
     "output_type": "display_data"
    }
   ],
   "source": [
    "fifa_datasets "
   ]
  },
  {
   "cell_type": "markdown",
   "id": "64795631-3bfb-45a2-8dc0-f10e8df2a6b3",
   "metadata": {},
   "source": [
    "Display the data in each column "
   ]
  },
  {
   "cell_type": "code",
   "execution_count": 51,
   "id": "5ebcb642-8026-427a-b752-588ba326a07b",
   "metadata": {},
   "outputs": [
    {
     "name": "stdout",
     "output_type": "stream",
     "text": [
      "Nationality: Argentina, Portugal, Slovenia, Belgium, Brazil, Poland, Egypt, France, Germany, Netherlands, Senegal, Spain, England, Scotland, Korea Republic, Costa Rica, Italy, Gabon, Croatia, Uruguay, Switzerland, Serbia, Slovakia, Morocco, Algeria, Denmark, Hungary, Bosnia Herzegovina, Nigeria, Cameroon, Norway, Ghana, Mexico, Austria, Albania, Colombia, Chile, Ivory Coast, Greece, Finland, Wales, Sweden, Togo, Czech Republic, Russia, Venezuela, Canada, United States, Guinea, Montenegro, Israel, Republic of Ireland, Ukraine, Turkey, Ecuador, Jamaica, DR Congo, Australia, China PR, Armenia, Northern Ireland, North Macedonia, Kosovo, Mali, Peru, Central African Republic, Iceland, Burkina Faso, Paraguay, Japan, Romania, New Zealand, Iran, Angola, Tunisia, Syria, Dominican Republic, Cape Verde, Equatorial Guinea, Kenya, Georgia, Panama, Zambia, Tanzania, Zimbabwe, Congo, South Africa, Moldova, Mozambique, Iraq, Guinea Bissau, Honduras, Cuba, Cyprus, Lithuania, Estonia, Madagascar, Benin, Curacao, Saudi Arabia, Gambia, Uzbekistan, Chad, United Arab Emirates, Saint Kitts and Nevis, Libya, Sierra Leone, Philippines, Liberia, Bulgaria, Comoros, Namibia, Luxembourg, Trinidad & Tobago, Bermuda, Thailand, Burundi, New Caledonia, Puerto Rico, Bolivia, Kazakhstan, Antigua & Barbuda, Latvia, Malawi, Montserrat, São Tomé & Príncipe, El Salvador, Mauritania, Jordan, Eritrea, Aruba, Uganda, Chinese Taipei, Azerbaijan, Afghanistan, Faroe Islands, Haiti, Sudan, Grenada, Lebanon, Guam, Palestine, Belarus, Guyana, Rwanda, Liechtenstein, Saint Lucia, Papua New Guinea, India, Ethiopia, Belize, Andorra, Guatemala, Malta, Niger, Korea DPR, Barbados, Macau, South Sudan, Singapore, Hong Kong, Nicaragua, Malaysia, Indonesia\n",
      "\n",
      "Age: 33, 35, 27, 29, 28, 31, 21, 34, 32, 25, 26, 30, 20, 24, 22, 23, 19, 38, 42, 36, 37, 18, 17, 39, 40, 41, 16, 43, 53\n",
      "\n",
      "X.OVA: 93, 92, 91, 90, 89, 88, 87, 86, 85, 84, 83, 82, 81, 80, 79, 78, 77, 76, 75, 74, 73, 72, 71, 70, 69, 68, 67, 66, 65, 64, 63, 62, 61, 60, 59, 58, 57, 56, 55, 54, 53, 52, 51, 50, 49, 48, 47\n",
      "\n",
      "POT: 93, 92, 91, 90, 95, 89, 88, 87, 86, 85, 84, 83, 82, 81, 80, 79, 78, 77, 76, 75, 74, 73, 72, 71, 70, 69, 68, 67, 66, 65, 64, 63, 62, 61, 60, 59, 58, 57, 56, 55, 54, 53, 52, 51, 50, 49, 48, 47\n",
      "\n",
      "Club: FC Barcelona, Juventus, Atlético Madrid, Manchester City, Paris Saint-Germain, FC Bayern München, Liverpool, Real Madrid, Chelsea, Tottenham Hotspur, Inter, Napoli, Borussia Dortmund, Manchester United, Arsenal, Lazio, Leicester City, Borussia Mönchengladbach, Real Sociedad, Atalanta, Olympique Lyonnais, Milan, Villarreal CF, RB Leipzig, Cagliari, Ajax, SL Benfica, AS Monaco, Wolverhampton Wanderers, Everton, Fiorentina, FC Porto, RC Celta, Torino, Sevilla FC, Grêmio, Real Betis, Roma, Newcastle United, Eintracht Frankfurt, Valencia CF, Medipol Başakşehir FK, Inter Miami, Bayer 04 Leverkusen, Levante UD, Crystal Palace, Athletic Club de Bilbao, Shanghai SIPG FC, VfL Wolfsburg, Guangzhou Evergrande Taobao FC, Al Shabab, Olympique de Marseille, Los Angeles FC, Beijing Sinobo Guoan FC, Getafe CF, SV Werder Bremen, TSG 1899 Hoffenheim, LOSC Lille, Deportivo Alavés, Burnley, Leeds United, Fulham, PFC CSKA Moscow, Genoa, Galatasaray SK, Atlanta United, Atlético Mineiro, Flamengo, Palmeiras, No Club, São Paulo, West Ham United, SD Eibar, River Plate, OGC Nice, Real Valladolid CF, Sporting CP, PSV, Feyenoord, Club Brugge KV, Shakhtar Donetsk, Vissel Kobe, Boca Juniors, 1. FC Union Berlin, Dalian YiFang FC, AS Saint-Étienne, Sassuolo, Tigres U.A.N.L., Dinamo Zagreb, Dynamo Kyiv, Fluminense, Udinese, Aston Villa, Stade Rennais FC, Beşiktaş JK, Brighton & Hove Albion, Hebei China Fortune FC, Southampton, Lokomotiv Moscow, Jiangsu Suning FC, Al Hilal, West Bromwich Albion, Fenerbahçe SK, FC Groningen, Guangzhou R&F FC, Orlando City SC, Sampdoria, Stade de Reims, Sheffield United, Santos, Internacional, Coritiba, CA Osasuna, LA Galaxy, Al Nassr, SC Freiburg, SC Braga, Olympiacos CFP, Toronto FC, Granada CF, FC Schalke 04, RC Strasbourg Alsace, Hertha BSC, AZ Alkmaar, Seattle Sounders FC, Montpellier HSC, Shanghai Greenland Shenhua FC, Hamburger SV, Girona FC, Racing Club, Portland Timbers, FC Girondins de Bordeaux, Watford, Estudiantes de La Plata, Club América, Vitória Guimarães, SK Slavia Praha, Trabzonspor, RCD Espanyol, FC Nantes, Angers SCO, Cruz Azul, BSC Young Boys, Club León, Spartak Moscow, Sivasspor, Elche CF, FC Augsburg, Wuhan Zall, Parma, Royal Antwerp FC, Monterrey, San Lorenzo de Almagro, AC Monza, Club Atlético Lanús, SD Huesca, Derby County, Kayserispor, RSC Anderlecht, CD Leganés, Vélez Sarsfield, Stade Brestois 29, Tianjin TEDA FC, Birmingham City, Hellas Verona, 1. FC Köln, Al Wehda, Bournemouth, Alanyaspor, Bologna, Amiens SC, Celtic, Shijiazhuang Ever Bright F.C., Club Atlas, Al Ahli, Norwich City, Fatih Karagümrük S.K., Club Tijuana, Universidad Católica, Goiás, Benevento, Independiente, Qingdao Huanghai F.C., Brentford, AEK Athens, Racing Club de Lens, Olimpia Asunción, Shenzhen FC, Çaykur Rizespor, KAA Gent, New England Revolution, Cádiz CF, 1. FSV Mainz 05, Vasco da Gama, FC Midtjylland, Al Ain FC, Santos Laguna, SPAL, Perth Glory, FC Utrecht, Montreal Impact, UD Almería, Fortaleza, Spezia, FC Basel 1893, FC København, Godoy Cruz, Deportivo Toluca, Nacional de Montevideo, Aalborg BK, Rio Ave FC, FC Metz, Chongqing Dangdai Lifan FC SWM Team, Rosenborg BK, FC Red Bull Salzburg, Botafogo, DSC Arminia Bielefeld, Club Athletico Paranaense, RCD Mallorca, Pachuca, Swansea City, KRC Genk, En Avant de Guingamp, Lecce, Nîmes Olympique, Colo-Colo, Stade Malherbe Caen, Columbus Crew SC, Junior FC, VfB Stuttgart, Moreirense FC, Rangers FC, Malmö FF, Shandong Luneng TaiShan FC, Sparta Praha, Hatayspor, Chicago Fire, Toulouse Football Club, FC Seoul, Antalyaspor, Deportivo Cali, Kaizer Chiefs, Real Zaragoza, Atlético Clube Goianiense, Puebla FC, Fortuna Düsseldorf, Western United FC, Astra Giurgiu, Henan Jianye FC, Bahia, Famalicão, Atiker Konyaspor, Peñarol, DC United, New York City FC, Argentinos Juniors, U.N.A.M., Minnesota United FC, Nottingham Forest, Independiente del Valle, Defensa y Justicia, Philadelphia Union, Newell's Old Boys, Rosario Central, Atlético de San Luis, FC Dallas, Denizlispor, Yeni Malatyaspor, Club Atlético Colón, Houston Dynamo, Millwall, Clube Sport Marítimo, MKE Ankaragücü, Guadalajara, Boavista FC, Sporting Kansas City, Atlético Nacional, CD Lugo, New York Red Bulls, PAOK, SC Heerenveen, Daegu FC, Preston North End, Damac FC, Brescia, VfL Bochum 1848, Vancouver Whitecaps FC, SV Sandhausen, Royal Excel Mouscron, Dijon FCO, Molde FK, Panathinaikos FC, LASK Linz, Ulsan Hyundai FC, Real Salt Lake, FC Luzern, Viktoria Plzeň, Orlando Pirates, Al Ittihad, 1. FC Nürnberg, Standard de Liège, Rayo Vallecano, Club Libertad, Jeonbuk Hyundai Motors, Western Sydney Wanderers, Unión de Santa Fe, FC Sion, Sydney FC, Hannover 96, Real Sporting de Gijón, FC Cincinnati, ESTAC Troyes, San Jose Earthquakes, Club Guaraní, FC Lorient, Gençlerbirliği SK, Sporting de Charleroi, Wisła Kraków, Al Taawoun, Reading, Gazişehir Gaziantep F.K., Blackburn Rovers, Kashiwa Reysol, FK Bodø/Glimt, Willem II, Vitesse, Gil Vicente FC, SønderjyskE, Yokohama F. Marinos, FC St. Gallen, Club Atlético Aldosivi, Göztepe SK, Holstein Kiel, FC Juárez, FCSB (Steaua), Ettifaq FC, KAS Eupen, FC Tokyo, Melbourne City FC, Universitatea Craiova, CD Tondela, Wolfsberger AC, Ceará Sporting Club, River Plate Asunción, Stoke City, Paris FC, IFK Norrköping, Crotone, Cardiff City, América de Cali, Al Faisaly, Independiente Medellín, Portimonense SC, CD Tenerife, Heracles Almelo, Nashville SC, SK Rapid Wien, Kawasaki Frontale, Club Necaxa, Chievo Verona, Lech Poznań, AIK, FK Austria Wien, Querétaro, 1. FC Heidenheim 1846, Legia Warszawa, Club Atlético Banfield, Os Belenenses, Huddersfield Town, KSV Cercle Brugge, LDU Quito, Gimnasia y Esgrima La Plata, Gamba Osaka, Middlesbrough, Servette FC, Empoli, Real Oviedo, Kasimpaşa SK, CFR Cluj, Millonarios FC, FC Paços de Ferreira, Sint-Truidense VV, AD Alcorcón, Colorado Rapids, Dinamo Bucureşti, Cerezo Osaka, FC Emmen, Sheffield Wednesday, FC Erzgebirge Aue, Raków Częstochowa, Atlético Tucumán, SV Darmstadt 98, Bristol City, Oud-Heverlee Leuven, Barnsley, Queens Park Rangers, Sangju Sangmu FC, Helsingborgs IF, AC Ajaccio, Oceânico FC, Club Atlético Talleres, Al Hazem, SC Paderborn 07, Club Atlético Huracán, KV Kortrijk, El Nacional, Mazatlán FC, Aberdeen, CD Mirandés, SV Zulte-Waregem, Piast Gliwice, Djurgårdens IF, Central Córdoba, Wellington Phoenix, Deportivo Binacional, Patronato, SpVgg Greuther Fürth, IFK Göteborg, FC Cartagena, Santa Clara, FC Twente, Farense, ADO Den Haag, AJ Auxerre, Al Fateh, Valenciennes FC, Hokkaido Consadole Sapporo, FC St. Pauli, Albacete BP, 1. FC Kaiserslautern, Al Fayha, Incheon United FC, KV Mechelen, Pohang Steelers, CD Nacional, Unión La Calera, BB Erzurumspor, Kashima Antlers, Arsenal de Sarandí, HJK Helsinki, Karlsruher SC, Aarhus GF, FC Zürich, Barcelona Sporting Club, SG Dynamo Dresden, Sanfrecce Hiroshima, Al Raed, SD Ponferradina, Brøndby IF, Lechia Gdańsk, FC Viitorul, SK Sturm Graz, IF Elfsborg, Gangwon FC, Melgar FBC, Club Atlético Grau, Jagiellonia Białystok, Waasland-Beveren, VfL Osnabrück, Nagoya Grampus, CF Fuenlabrada, Shamrock Rovers, Shimizu S-Pulse, RKC Waalwijk, Vålerenga Fotball, Clermont Foot 63, FC Ingolstadt 04, FC Würzburger Kickers, Górnik Zabrze, Charlton Athletic, Beerschot AC, Coquimbo Unido, Viktoria Köln, Hull City, Málaga CF, FC Nordsjælland, UD Las Palmas, VVV-Venlo, GwangJu FC, Chamois Niortais Football Club, FC Lugano, Cusco FC, Sparta Rotterdam, Sol de América, PEC Zwolle, Pogoń Szczecin, Doncaster Rovers, Kristiansund BK, Liverpool Fútbol Club, Club Bolívar, Urawa Red Diamonds, SK Brann, Eintracht Braunschweig, Nacional Asunción, Melbourne Victory, Kilmarnock, Dundalk, SSV Jahn Regensburg, Abha Club, Club Atlético Tigre, Suwon Samsung Bluewings, Shonan Bellmare, SD Aucas, Emelec, Fortuna Sittard, La Berrichonne de Châteauroux, Śląsk Wrocław, Coventry City, Sunderland, Alianza Lima, Hammarby IF, Cracovia, CE Sabadell FC, Oita Trinita, BK Häcken, Luton Town, Le Havre AC, IK Sirius, Zagłębie Lubin, Grenoble Foot 38, Macarthur FC, Rodez Aveyron Football, Vegalta Sendai, Motherwell, SV Wehen Wiesbaden, Audax Italiano, Gaz Metan Mediaş, Portsmouth, Hibernian, Always Ready, UD Logroñés, FC Voluntari, FC Hermannstadt, AS Nancy Lorraine, Rotherham United, Fleetwood Town, Jorge Wilstermann, Odense Boldklub, MSV Duisburg, FC Sochaux-Montbéliard, Milton Keynes Dons, River Plate Montevideo, Delfín SC, Universidad Católica del Ecuador, Deportivo Pasto, KV Oostende, Club Plaza Colonia, Wigan Athletic, FC Botoşani, C.D. Castellón, SCR Altach, Örebro SK, TSV Hartberg, Stabæk Fotball, Wycombe Wanderers, St. Johnstone FC, Oxford United, Lincoln City, Randers FC, Viking FK, FC Chambly Oise, Dundee United, Oriente Petrolero, Odds BK, Nacional Potosí, Sepsi OSK, FC Hansa Rostock, Lyngby BK, SpVgg Unterhaching, Brisbane Roar, Seongnam FC, SV Ried, CD Huachipato, WSG Tirol, Podbeskidzie Bielsko-Biała, Peterborough United, Club Blooming, Wisła Płock, Busan IPark, FSV Zwickau, Mjøndalen IF, Vejle Boldklub, Pau FC, FC Lausanne-Sport, Estudiantes de Mérida, Sagan Tosu, SV Waldhof Mannheim, Sport Huancayo, Hallescher FC, Kalmar FF, St. Mirren, SKN St. Pölten, Sarpsborg 08 FF, Shrewsbury, TSV 1860 München, SV Meppen, Ipswich Town, IK Start, Adelaide United, Stal Mielec, Centro Atlético Fénix, Newcastle Jets, Livingston FC, AC Mineros de Guayana, AFC Wimbledon, Burton Albion, Al Adalah, Warta Poznań, USL Dunkerque, Bristol Rovers, UTA Arad, Östersunds FK, Sportivo Luqueño, Politehnica Iaşi, Salford City, Central Coast Mariners, Caracas FC, AC Horsens, Plymouth Argyle, Aalesunds FK, Crewe Alexandra, Chindia Târgovişte, Oldham Athletic, Yokohama FC, Blackpool, Northampton Town, Bayern München II, FK Haugesund, KFC Uerdingen 05, Forest Green Rovers, Cheltenham Town, Strømsgodset IF, Mjällby AIF, Exeter City, Cambridge United, Grimsby Town, FC Vaduz, Türkgücü München, VfB Lübeck, Bolton Wanderers, Bradford City, 1. FC Magdeburg, FC Admira Wacker Mödling, Hamilton Academical FC, Aragua FC, Accrington Stanley, Swindon Town, Carlisle United, FC Argeș, Port Vale, Academica Clinceni, Rochdale, Gillingham, Tranmere Rovers, Southend United, 1. FC Saarbrücken, Colchester United, Mansfield Town, Falkenbergs FF, SC Verl, Varbergs BoIS, Crawley Town, Sandefjord Fotball, Newport County, Bohemian FC, Ross County FC, Scunthorpe United, Morecambe, Walsall, Leyton Orient, Stevenage, Barrow, Derry City, Llaneros de Guanare, Sligo Rovers, Zamora FC, St. Patrick's Athletic, Cork City, Shelbourne FC, Harrogate Town, Waterford FC, Finn Harps\n",
      "\n",
      "Contract_type: Under Contract, On Loan, Free\n",
      "\n",
      "Start_Contract: 2004, 2018, 2014, 2015, 2017, 2016, 2013, 2011, 2009, 2005, 2010, 2012, 2019, 2020, 2008, 2007, 2002, 2006, 2003, 1998\n",
      "\n",
      "End_Contract: 2021, 2022, 2023, 2024, 2025, 2026, NA, 2028, 2020, 2027\n",
      "\n",
      "Positions: RW, ST, CF, ST, LW, GK, CAM, CM, LW, CAM, ST, RW, ST, LW, RW, CB, LW, CDM, CF, ST, LW, RW, CDM, CM, CDM, RB, CF, CAM, LW, ST, CM, ST, CF, LW, RM, LM, CAM, RB, RW, CAM, CM, LB, LM, CF, CF, RW, LW, CAM, RM, RW, CM, CDM, CAM, CF, ST, CM, CDM, CAM, CF, LW, CAM, CAM, RM, CF, LM, ST, RM, LM, RW, LM, CAM, RW, CB, CDM, RW, RM, LW, CF, CM, RM, LM, LB, LM, CAM, CM, RM, CAM, CM, CF, CAM, CF, LM, RM, LW, LM, LB, CM, CM, LM, LB, RM, RW, RM, CM, CAM, CM, LW, CB, LB, RM, RB, ST, RW, LM, RW, LW, RB, LB, RB, RM, RM, LM, RM, CF, CAM, RM, RB, RWB, CDM, CB, CM, CAM, RM, ST, LM, LW, RM, CM, CAM, ST, RM, CF, LM, RM, RM, CF, LM, LWB, RW, RM, CF, RB, CM, LW, CAM, RW, CAM, LW, CM, CM, CAM, CDM, RW, LW, CAM, CM, CAM, LM, CM, RM, ST, CDM, CM, RB, ST, CAM, CAM, LW, ST, LB, CB, LWB, RM, ST, CB, CDM, LB, RWB, RM, CM, LM, RM, RB, CDM, CM, RW, LW, RM, LM, LW, CM, LM, LM, LB, RM, LM, CF, LB, LM, RM, CDM, CM, CAM, ST, LW, RM, CAM, CM, ST, ST, CF, LWB, LB, LW, RW, LM, RM, RW, ST, LWB, CF, ST, CAM, LM, CAM, RM, RB, CB, ST, LM, RW, CAM, LM, CAM, RWB, RB, ST, RW, LW, CAM, RB, RM, RW, LB, LWB, RM, CAM, CAM, ST, CDM, CB, CF, LM, LW, CAM, LM, LW, LW, RW, CAM, CB, RB, RB, CB, RWB, LM, LW, ST, LW, ST, CM, RM, CAM, CM, CB, RB, RWB, RW, ST, LW, LW, CAM, CM, CM, LM, CDM, LB, LM, LWB, CB, LB, RB, CAM, LW, RWB, RB, RM, CF, CAM, ST, RM, CAM, RW, RW, ST, LW, LM, RB, RM, CM, ST, CAM, RW, CM, RB, LB, CAM, LM, RM, RB, RW, LM, CM, RM, LM, CM, CDM, CM, CB, CM, CF, CF, LW, RW, ST, RM, CAM, CM, CDM, LB, CB, RW, RWB, ST, LM, RM, RM, RWB, RB, LM, ST, CAM, CAM, ST, CF, LW, CM, RB, RWB, LB, RM, LM, CM, CAM, RM, ST, LW, CAM, RM, RW, CAM, CM, CDM, RM, RB, RM, RWB, CDM, CB, LB, CAM, ST, LM, LM, CM, RM, CF, RW, CAM, RM, LW, CM, RM, CDM, LB, LWB, LM, LW, RW, CF, LW, LM, CAM, LWB, LW, LB, CDM, CM, LM, CB, CM, RWB, RW, RB, ST, RW, RM, LW, RW, CM, LM, RM, CAM, LB, RB, RWB, RM, RB, LM, RB, LB, LW, LM, ST, ST, RM, LM, CAM, CM, LM, CF, CM, LW, ST, RW, ST, CAM, CF, LB, CB, LM, CM, CDM, LM, RM, RWB, LB, LM, RB, RB, LB, CB, CM, CDM, RB, LB, CM, CF, CAM, LW, RM, LWB, CF, ST, LM, LB, RB, CB, LW, CF, ST, RM, ST, CAM, LW, RW, ST, ST, LW, LM, CM, LW, CDM, CM, LB, CM, RM, CAM, ST, CF, CAM, CM, LM, CAM, RWB, LM, ST, RM, CAM, RM, CM, CAM, LM, CM, RW, LW, ST, CAM, RM, LM, CF, ST, LW, LWB, LB, LM, RM, CM, CAM, LB, LM, CAM, CAM, CDM, RW, RB, RM, RM, ST, RW, CM, CAM, LW, CF, ST, RW, LM, RM, RB, LM, RM, CM, CB, RB, RM, RB, CDM, RM, ST, LM, LB, LWB, CB, CDM, LB, LM, RM, ST, RWB, RB, LWB, ST, LM, CAM, ST, RM, CAM, RB, RWB, RM, CF, LM, CAM, CAM, CF, RW, RB, RM, LB, CDM, RWB, CM, RW, CAM, ST, CF, LM, RM, LM, RWB, RB, LB, RM, LM, LW, LB, RM, LM, ST, CAM, LM, ST, LM, LW, LW, RW, RM, CF, LW, LB, CM, RB, RB, CB, CDM, CB, RB, LB, CAM, RW, RM, LWB, LM, LW, CF, LM, CAM, CF, CM, LWB, CB, CM, CDM, LW, LM, CM, LB, CM, RM, RW, LW, CF, CM, CDM, CB, LM, RM, RW, RM, RW, LM, RM, CAM, LM, LWB, RM, LB, RM, LB, RB, CM, CF, RM, RM, RB, LB, ST, LM, RW, CAM, ST, LW, CF, LW, ST, LM, LW, CAM, RM, RW, CF, LW, LM, CF, CM, RW, LW, LM, CM, CAM, CAM, RW, ST, CM, CAM, CF, RW, LWB, LW, CB, RB, CDM, RW, RM, LW, LW, ST, LM, RWB, RW, ST, CAM, LM, CM, CB, RM, RW, CM, LWB, CM, RM, LM, LB, RM, CAM, ST, CDM, RM, RB, LM, LB, RB, LB, RB, RWB, RM, RWB, CAM, CAM, LM, CF, LM, CAM, CM, CF, CAM, RW, CDM, CM, RM, CF, CAM, CM, ST, RM, LW, CB, CDM, CM, RB, RW, LB, ST, RW, CAM, CM, LB, LW, RM, RW, CM, RM, RW, RM, CF, LM, CF, LM, RM, CAM, ST, RM, RW, CF, CM, CAM, ST, CAM, CDM, CM, RM, RW, LW, CAM, LM, LB, CAM, RW, LW, CDM, CAM, LWB, LM, LB, RW, LB, LW, CAM, CF, RB, RWB, CB, LM, CF, RM, RB, LB, RWB, RM, LW, CAM, LM, ST, LW, LM, LB, LB, RB, RM, CM, LWB, CDM, RB, RM, RM, CM, RB, ST, RM, RW, LM, RM, LWB, RW, LW, LM, LW, CF, RW, CM, CDM, LB, ST, LM, RB, LB, CDM, CM, CB, CDM, CB, LB, CDM, RW, ST, RM, RM, ST, CF, CAM, LW, LM, LM, ST, LW, CAM, RM, RB, RB, CM, RM, CM, LW, LM, ST, CAM, RM, RW, ST, CAM, CM, LB, LM, RB, CDM, RM, LM, RWB, RM, LM, CAM, LB, CAM, LW, RW, CM, RM, RWB, RW, CAM, LW, RB, CB, LB, LB, LM, LW, RW, RB, LM, LWB, CM, RM, CAM, RB, RM, CM, ST, RB, RM, LM, LM, LB, LW, LM, ST, CF, RW, LWB, RM, LM, CAM, LW, CB, RWB, RM, LW, CAM, LB, LW, CDM, CM, ST, LB, CM, CDM, CF, CAM, LM, RW, CAM, RM, RW, LM, LW, RW, CM, CAM, LM, LW, RW, RM, LW, RW, LW, LWB, RWB, RM, LM, RB, CB, CDM, RB, CAM, RW, CM, ST, CAM, CM, LWB, LM, CM, RW, LW, RWB, CB, LB, LWB, CM, LM, ST, CM, LWB, LM, LB, LW, LM, RB, CM, CAM, RM, CAM, CF, CM, RW, RW, RM, CAM, CB, LWB, CAM, RB, LM, CM, CDM, RM, LB, LM, CB, RB, CM, RB, CM, RWB, LB, RB, LM, CAM, ST, RW, LB, LW, RW, CDM, CAM, CM, CAM, ST, CM, LM, CAM, ST, LM, ST, CM, CAM, CF, RM, CF, ST, RM, LM, ST, LB, ST, CAM, LW, LWB, CM, LB, RWB, RM, LWB, LWB, LM, RB, CM, LW, ST, LB, LM, CB, CM, RM, RB, RWB, CB, RM, RB, RWB, LB, CM, LM, ST, LW, CF, RM, RWB, ST, CF, ST, CM, LM, LB, LWB, LM, RW, LM, LWB, LB, LB, LWB, RB, RM, RB, LM, RM, CM, LM, LW, ST, CAM, RB, RM, CB, LWB, RWB, LB, CF, RM, RW, RM, CF, CAM, LM, LW, CF, RB, LM, LB, CAM, CM, RW, LB, CM, LW, CM, CF, CAM, RW, RM, ST, CDM, RB, CM, CM, RB, RB, RWB, RW, LM, RW, RM, CM, RB, CDM, LM, RM, LB, CDM, RB, CB, RB, CB, RM, RWB, LW, LM, ST, CF, RW, RM, CM, CDM, LM, CF, ST, LW, CAM, LM, CDM, LM, CM, ST, CM, CAM, LM, RM, RWB, CM, CAM, RW, CAM, LM, RW, LW, LM, RM, CAM, RW, CF, LM, ST, RW, CB, LWB, LB, RW, CF, LW, CB, CM, CDM, CB, CAM, LW, LB, CDM, RB, LB, ST, CM, RB, RWB, LWB, RB, CM, CB, RB, LB, LW, RB, CF, RM, RWB, LB, RM, RM, RW, RB, LB, RM, RB, CDM, RM, CM, CDM, LB, CM, LM, CDM, CM, RW, LM, CAM, LM, LB, RM, RM, CF, ST, RW, CM, RM, RWB, LM, CF, CM, ST, RW, RM, LM, LM, CM, RW, RWB, CM, RB, RM, CDM, CM, CB, CAM, CF, CM, LM, RWB, LWB, RM, CF, RM, CM, CF, ST, RWB, RB, CB, LWB, RWB, RM, LM, LW, LW, RM, CM, LW, CAM, ST, ST, RM, RWB, ST, CM, CDM, CM, RWB, LB, CB, RB, CB, ST, CAM, CF, RM, CM, CDM, CB, RB, CM, LM, RB, RB, CB, LWB, LM, LB, CDM, LW, LWB, RW, CF, CAM, RM, RB, CAM, LB, RB, CM, RM, CDM, LM, LWB, LB, CB, LB, RB, CDM, RB, CM, LB, CDM, RM, LM, RB, CB, RW, RWB, RM, RM, LW, ST, LB, RB, LWB, RM, LM, CDM, RB, RM, CAM, RM, ST, LW, CF, LM, RB, LB, CDM, RW, LW, RB, RB, RWB, CDM, CM, CAM, LB, LW, RW, LWB, CB, LWB, RWB, LB, CB, CDM, ST, RB, RM, CM, RB, RM, RW, LM, RM, CF, RB, CB, RM, RB, RWB, LWB, CM, ST, CDM, LWB, LW, CB, RB, ST, LB, LWB, CDM, CB, RWB, RM, CB, ST, CM, ST, LM, LWB, CB, ST, LW, LWB, LM, CDM, RM, LWB, LB, RW, RB, CM, CB, LM, RW, ST, CM, RM, LW, ST, RW, LM, RWB, CM, RM, CAM, RWB, CM, CM, RB, LM, RM, RB, RW, LW, LM, CM, RM, LM, LWB, ST, LM, CF, LW, RM, CAM, RB, RWB, LWB, LB, CM, ST, ST, LWB, RB, ST, LM, CDM, CAM, LM, LM, ST, LWB, LB, RB, RW, RM, CDM, RB, LB, LWB, RW, CAM, LM, LB, CDM, LM, RW, RB, LM, CB, LM, RW, LM, RM, RM, LB, CM, LW, CAM, RM, RW, RB, LB, LW, LB, LM, CDM, RB, RWB, CB, RW, CM, LM, LW, LM, RM, CB, LM, LWB, ST, ST, CB, CDM, LB, CDM, CB, CDM, CB, RM, RB, RWB, CM, ST, RW, CF, ST, CB, ST, LW, CM, LM, LB, ST, ST, CB, RB, RB, LM, GK, RB, LM, LW, CM, LM, CM, LW, CB, CAM, CM, LM, RB, RWB, CAM, RB, CAM, CB, CDM, RM, ST, RB, ST, RWB, CAM, CDM, LM, CB, RWB, RB, LM, LWB, RM, LB, LM, CM, CM, CF, LM, CM, RWB, CDM, LM, ST, CF, RM, CAM, LB, RB, RM, ST, LM, CDM, CDM, RW, RB, LM, CF, CAM, LWB, LM, RWB, CF, RM, ST, CAM, CF, LM, RB, ST, CB, RW, RB, LW, LB, LM, CDM, RB, CB, ST, RWB, CB, RB, CDM, ST, LW, RM, LM, RB, LWB, CDM, LB, CB, LM, LB, CF, RB, CDM, LB, LB, LWB, CM, RM, LM, CB, CAM, LW, CF, LB, LW, CM, RB, CM, CDM, LWB, LM, ST, CM, RW, RM, CB, RM, CM, LM, CB, LM, LB, CB, ST, RW, CM, RM, ST, CM, RWB, RM, LM, CM, CAM, RB, CM, RWB, CDM, LB, LWB, LW\n",
      "\n",
      "Weight_kg: 72, 83, 87, 70, 68, 80, 71, 91, 73, 85, 92, 69, 84, 96, 81, 82, 75, 86, 89, 74, 76, 64, 78, 90, 66, 60, 94, 79, 67, 65, 59, 61, 93, 88, 97, 77, 62, 63, 95, 100, 58, 83.01, 81.19, 78.02, 88.9, 79.83, 83.91, 77.11, 92.08, 76.2, 73.03, 66.22, 58.97, 86.18, 78.93, 67.13, 74.84, 72.12, 87.09, 82.1, 63.05, 69.85, 71.21, 73.94, 98, 103, 99, 102, 56, 101, 57, 55, 104, 107, 110, 53, 50, 54, 52\n",
      "\n",
      "Height_cm: 170, 187, 188, 181, 175, 184, 191, 178, 193, 185, 199, 173, 168, 176, 177, 183, 180, 189, 179, 195, 172, 182, 186, 192, 165, 194, 167, 196, 163, 190, 174, 169, 171, 197, 200, 166, 188.04, 164, 198, 190.62, 195.78, 180.78, 193.2, 185.46, 182.88, 178.2, 175.62, 167.88, 170.46, 162.72, 201, 158, 162, 161, 160, 203, 157, 156, 202, 159, 206, 155\n",
      "\n",
      "Preferred.Foot: Left, Right\n",
      "\n",
      "BOV: 93, 92, 91, 90, 89, 88, 87, 86, 85, 84, 83, 82, 81, 80, 79, 78, 77, 76, 75, 74, 73, 72, 71, 70, 69, 68, 67, 66, 65, 64, 63, 62, 61, 60, 59, 58, 57, 56, 55, 54, 53, 52, 51, 50, 49, 48\n",
      "\n",
      "Best.Position: RW, ST, GK, CAM, LW, CB, CDM, CF, CM, RB, LB, LM, RM, LWB, RWB\n",
      "\n",
      "Joined: 2004-07-01, 2018-07-10, 2014-07-16, 2015-08-30, 2017-08-03, 2014-07-01, 2017-07-01, 2018-07-19, 2018-07-01, 2018-01-01, 2016-07-01, 2013-07-11, 2018-08-09, 2011-07-01, 2009-07-09, 2005-08-01, 2011-07-28, 2015-07-14, 2016-07-16, 2015-07-01, 2010-07-01, 2012-07-01, 2019-07-01, 2014-07-17, 2019-07-12, 2017-08-31, 2015-10-07, 2017-07-21, 2018-01-30, 2020-01-30, 2015-08-28, 2015-07-06, 2019-09-02, 2005-07-01, 2008-09-01, 2018-01-31, 2017-07-19, 2015-08-06, 2012-08-01, 2020-09-25, 2012-08-31, 2016-07-27, 2008-08-10, 2013-07-05, 2012-07-18, 2016-08-09, 2012-05-01, 2008-07-01, 2020-08-17, 2014-09-02, 2011-06-09, 2019-07-04, 2017-01-20, 2020-09-04, 2019-07-18, 2017-07-07, 2020-07-15, 2020-07-01, 2018-07-12, 2013-07-19, 2018-06-09, 2020-08-12, 2020-06-08, 2015-07-08, 2020-08-28, 2011-01-01, 2019-08-08, 2015-08-21, 2020-09-18, 2017-07-14, 2020-01-28, 2018-08-02, 2013-07-01, 2016-08-31, 2020-09-24, 2016-07-22, 2020-08-24, 2017-01-05, 2015-01-14, 2018-07-05, 2020-01-01, 2020-10-05, 2016-01-04, 2020-09-01, 2015-09-01, 2019-08-14, 2018-01-05, 2018-08-01, 2017-07-05, 2013-07-30, 2013-07-03, 2010-02-10, 2019-07-30, 2015-08-31, 2017-07-18, 2012-08-24, 2017-06-27, 2011-06-01, 2018-08-17, 2018-06-18, 2017-07-28, 2020-09-09, 2017-08-28, 2019-01-01, 2019-06-29, 2019-07-23, 2020-09-14, 2020-01-29, 2015-06-20, 2015-04-29, 2020-09-02, 2019-07-10, 2018-07-02, 2016-08-03, 2012-08-09, 2019-05-17, 2012-09-13, 2015-02-02, 2019-08-07, 2015-08-11, 2018-08-31, 2011-08-16, 2016-07-12, 2018-07-16, 2019-07-07, 2020-01-17, 2020-09-23, 2018-07-03, 2020-08-13, 2019-07-17, 2015-08-13, 2018-07-23, 2019-07-02, 2009-08-01, 2018-01-06, 2017-01-01, 2015-01-21, 2018-07-11, 2019-01-15, 2020-09-05, 2020-09-22, 2007-01-01, 2013-09-01, 2020-08-22, 2020-08-14, 2017-07-11, 2020-01-02, 2018-07-24, 2016-01-08, 2017-07-24, 2020-07-27, 2019-08-01, 2017-07-08, 2020-09-08, 2020-09-19, 2015-01-16, 2015-08-18, 2019-07-03, 2018-08-08, 2020-02-18, 2017-07-04, 2015-08-07, 2014-12-13, 2018-07-04, 2019-08-05, 2018-07-17, 2016-07-20, 2020-08-29, 2019-07-09, 2019-08-02, 2020-09-07, 2015-07-02, 2017-08-18, 2014-06-30, 2009-08-18, 2013-09-02, 2017-01-30, 2019-07-08, 2011-08-11, 2011-07-14, 2020-06-30, 2020-09-29, 2020-08-04, 2020-10-06, 2017-03-22, 2020-08-26, 2019-01-02, 2014-06-27, 2018-06-20, 2017-08-26, 2019-01-31, 2016-01-12, 2018-06-21, 2018-08-29, 2017-08-11, 2017-07-17, 2018-07-13, 2017-01-31, 2014-07-12, 2017-07-09, 2016-08-02, 2017-06-15, 2015-07-20, 2020-09-20, 2018-07-31, 2020-07-21, 2018-07-15, 2020-08-30, 2017-07-31, 2013-02-14, 2018-02-19, 2017-07-13, 2014-07-04, 2020-08-06, 2012-08-29, 2013-01-11, 2019-07-11, 2019-02-14, 2011-07-11, 2014-09-01, 2019-08-21, 2019-01-08, 2018-08-06, 2015-06-18, 2018-08-10, 2019-07-14, 2015-01-01, 2014-07-23, 2017-02-01, 2015-08-25, 2016-01-10, 2019-07-05, 2019-07-22, 2016-07-04, 2010-01-01, 2019-09-03, 2014-08-22, 2019-08-23, 2017-08-02, 2020-08-11, 2012-03-01, 2017-07-12, 2018-01-12, 2015-02-04, 2016-08-28, 2019-06-26, 2016-07-05, 2017-01-03, 2016-08-15, 2010-08-01, 2019-07-15, 2018-06-11, 2016-02-01, 2018-01-17, 2015-08-26, 2015-01-13, 2020-08-31, 2015-07-03, 2016-07-31, 2019-07-26, 2019-08-31, 2020-08-21, 2020-09-15, 2020-01-13, 2015-07-27, 2020-09-10, 2020-08-07, 2014-01-31, 2018-08-23, 2013-08-30, 2019-01-17, 2018-06-08, 2020-08-25, 2002-01-01, 2019-02-19, 2017-01-17, 2019-07-20, 2020-01-25, 2019-06-21, 2019-08-04, 2020-09-16, 2016-06-25, 2016-06-29, 2019-07-16, 2017-01-13, 2019-08-29, 2016-01-25, 2018-07-27, 2018-07-20, 2014-07-14, 2017-07-15, 2019-01-11, 2018-08-21, 2020-09-12, 2020-09-17, 2015-09-09, 2019-02-05, 2016-01-22, 2013-04-10, 2015-07-16, 2019-05-21, 2019-06-25, 2020-06-26, 2018-08-20, 2019-03-18, 2020-02-28, 2020-09-30, 2017-01-27, 2020-08-05, 2020-01-07, 2015-01-07, 2017-07-03, 2019-01-29, 2011-10-10, 2017-06-12, 2018-08-27, 2019-01-10, 2018-07-26, 2019-06-12, 2012-01-17, 2019-01-07, 2019-07-13, 2016-02-05, 2020-10-03, 2017-08-14, 2017-08-16, 2018-07-25, 2020-08-16, 2012-06-27, 2009-02-04, 2007-07-01, 2017-07-06, 2014-01-25, 2018-08-13, 2013-01-10, 2019-08-06, 2018-07-07, 2017-06-19, 2020-08-23, 2020-10-02, 2020-01-31, 2018-01-22, 2018-04-10, 2015-01-29, 2017-08-13, 2016-08-26, 2014-10-01, 2015-10-14, 2016-01-26, 2017-06-16, 2013-09-24, 2019-01-28, 2017-08-05, 2020-01-15, 2019-01-18, 2017-06-14, 2013-06-03, 2016-07-08, 2017-08-01, 2015-08-02, 2018-01-10, 2019-07-28, 2020-01-09, 2018-01-15, 2020-01-16, 2018-02-27, 2020-08-01, 2016-08-30, 2019-02-28, 2013-07-04, 2017-07-20, 2020-08-18, 2019-07-24, 2016-07-03, 2016-07-09, 2014-08-02, 2020-09-11, 2016-01-20, 2020-01-11, 2018-01-03, 2009-07-01, 2019-05-31, 2020-08-20, 2019-08-26, 2007-08-22, 2018-08-25, 2008-01-01, 2020-02-10, 2015-06-12, 2014-07-11, 2019-07-06, 2020-08-19, 2017-08-21, 2020-08-02, 2016-06-09, 2020-09-28, 2013-07-13, 2019-01-27, 2017-08-25, 2016-05-17, 2020-02-07, 2017-08-04, 2020-09-03, 2015-08-27, 2016-07-11, 2014-07-05, 2014-01-30, 2017-08-08, 2016-08-08, 2016-01-31, 2015-07-12, 2019-07-19, 2020-01-10, 2017-12-27, 2017-01-06, 2019-07-25, 2019-08-12, 2019-02-27, 2017-08-29, 2015-07-10, 2015-07-18, 2020-09-21, 2018-07-09, 2014-01-10, 2019-07-27, 2014-07-29, 2018-08-28, 2016-11-01, 2016-08-17, 2016-08-16, 2019-07-29, 2017-08-23, 2017-01-25, 2018-10-02, 2016-08-01, 2020-07-29, 2017-02-02, 2018-10-07, 2018-08-03, 2018-02-15, 2017-07-10, 2020-01-14, 2016-01-01, 2016-02-03, 2011-08-01, 2014-07-21, 2018-03-28, 2018-07-21, 2014-07-03, 2020-01-21, 2018-08-16, 2014-01-01, 2017-06-22, 2018-07-30, 2020-06-24, 2020-10-04, 2018-08-07, 2014-08-04, 2017-08-15, 2011-12-01, 2017-01-04, 2019-08-09, 2020-01-20, 2019-01-25, 2014-08-26, 2017-03-03, 2018-08-04, 2012-02-25, 2020-02-17, 2018-07-06, 2014-07-02, 2020-08-10, 2018-06-29, 2012-06-22, 2019-02-20, 2014-07-18, 2020-02-12, 2012-05-28, 2019-06-23, 2013-08-02, 2020-07-16, 2020-02-20, 2020-03-06, 2020-09-13, 2016-01-18, 2013-01-02, 2015-08-22, 2013-07-31, 2020-09-06, 2018-01-19, 2017-08-07, 2014-11-29, 2015-06-10, 2019-09-12, 2020-01-23, 2019-03-10, 2010-08-06, 2019-08-13, 2015-07-31, 2015-06-26, 2020-06-18, 2016-09-15, 2020-01-27, 2016-08-23, 2019-08-15, 2012-01-01, 2009-07-07, 2020-10-01, 2019-02-13, 2020-07-06, 2018-02-28, 2014-12-04, 2014-08-09, 2017-08-10, 2019-01-20, 2017-06-24, 2014-09-08, 2017-07-25, 2015-08-24, 2016-12-06, 2018-08-12, 2019-08-30, 2018-06-26, 2009-01-01, 2020-10-07, 2014-10-24, 2019-01-21, 2012-11-01, 2016-01-14, 2012-07-19, 2016-01-09, 2017-08-12, 2017-08-30, 2020-04-06, 2013-01-01, 2019-06-28, 2014-08-20, 2020-06-23, 2011-12-07, 2017-01-19, 2019-02-22, 2012-06-08, 2016-10-13, 2013-01-07, 2020-07-28, 2013-04-17, 2014-01-05, 2005-01-01, 2016-08-11, 2017-03-20, 2018-06-22, 2016-07-06, 2018-11-05, 2019-08-24, 2019-01-14, 2018-12-27, 2017-08-22, 2011-04-01, 2017-01-26, 2020-07-07, 2019-08-28, 2014-06-06, 2016-07-07, 2019-08-22, 2019-06-11, 2020-01-05, 2019-12-09, 2016-07-23, 2018-08-14, 2017-02-15, 2019-11-13, 2014-03-01, 2019-05-23, 2015-06-22, 2019-01-30, 2016-06-08, 2019-08-03, 2015-09-30, 2013-04-27, 2014-01-16, 2013-12-10, 2016-07-18, 2019-11-22, 2009-01-28, 2016-07-25, 2020-01-24, 2020-06-25, 2018-01-18, 2013-07-12, 2020-01-03, 2015-02-20, 2013-08-13, 2017-06-29, 2014-08-25, 2018-12-14, 2018-07-14, 2012-01-03, 2007-05-29, 2015-08-12, 2018-09-14, 2006-01-23, 2017-06-26, 2017-06-30, 2016-12-17, 2020-03-11, 2016-08-24, 2020-02-06, 2016-01-06, 2016-01-27, 2017-06-20, 2017-02-22, 2020-07-30, 2020-07-24, 2020-08-27, 2017-05-30, 2020-08-08, 2014-01-28, 2016-07-28, 2016-02-15, 2014-07-28, 2016-01-11, 2012-07-29, 2019-01-23, 2020-02-25, 2018-01-09, 2017-02-18, 2017-01-14, 2015-07-04, 2020-07-17, 2019-03-15, 2015-12-02, 2011-04-05, 2016-07-21, 2019-01-03, 2017-02-27, 2017-06-21, 2004-08-01, 2019-02-01, 2014-06-11, 2015-08-16, 2018-04-30, 2019-08-20, 2017-05-17, 2009-06-01, 2017-01-09, 2017-12-14, 2016-01-21, 2018-01-16, 2014-08-14, 2020-06-04, 2016-06-19, 2017-12-20, 2015-01-15, 2018-02-08, 2014-07-08, 2018-09-06, 2018-05-08, 2020-02-14, 2019-02-07, 2016-07-15, 2018-08-18, 2017-02-04, 2019-10-16, 2020-07-09, 2018-03-01, 2020-07-22, 2020-07-03, 2019-06-01, 2017-04-13, 2019-08-16, 2017-08-09, 2019-02-26, 2018-02-16, 2009-07-10, 2018-01-20, 2019-12-11, 2011-09-01, 2018-01-25, 2019-01-16, 2019-02-08, 2018-06-25, 2016-07-19, 2013-07-17, 2016-06-14, 2019-07-31, 2010-06-01, 2015-03-31, 2018-02-07, 2020-08-03, 2016-07-29, 2020-09-26, 2015-01-23, 2018-03-30, 2018-01-26, 2019-09-01, 2013-02-07, 2018-01-02, 2017-09-01, 2015-01-02, 2017-01-23, 2018-07-29, 2019-07-21, 2019-01-04, 2018-08-30, 2016-04-05, 2019-01-26, 2019-01-05, 2018-06-19, 2017-06-23, 2018-02-01, 2012-01-30, 2016-07-14, 2016-03-03, 2016-01-05, 2020-07-08, 2020-01-22, 2014-07-31, 2019-08-11, 2016-01-13, 2019-01-06, 2014-06-24, 2017-03-10, 2020-02-03, 2014-03-21, 2018-12-06, 2014-06-26, 2020-07-14, 2016-06-15, 2015-07-19, 2020-02-05, 2017-01-15, 2014-12-23, 2020-02-29, 2019-08-19, 2014-08-13, 2017-06-09, 2013-01-31, 2020-01-06, 2018-01-04, 2016-06-30, 2013-01-09, 2020-02-11, 2019-02-02, 2017-12-13, 2015-08-14, 2011-07-08, 2013-03-08, 2020-09-27, 2015-07-15, 2013-04-25, 2020-02-27, 2015-06-30, 2014-06-18, 2020-01-12, 2017-01-24, 2016-09-05, 2020-01-08, 2019-04-10, 2015-08-10, 2019-10-08, 2019-11-06, 2020-02-08, 2015-12-07, 2019-02-21, 2016-08-25, 2018-07-18, 2014-08-15, 2017-08-17, 2018-12-21, 2020-06-01, 2017-06-10, 2018-08-15, 2015-06-23, 2014-01-15, 2015-01-30, 2014-12-18, 2016-08-27, 2013-01-14, 2013-10-24, 2016-06-17, 2015-03-25, 2018-11-30, 2018-08-05, 2020-03-04, 2020-01-19, 2014-08-07, 2015-08-04, 2019-01-22, 2016-12-21, 2020-02-02, 2017-07-02, 2015-07-25, 2014-01-11, 2019-01-09, 2013-07-29, 2019-02-04, 2017-02-19, 2020-03-02, 2014-03-05, 2018-05-27, 2018-09-03, 2019-08-25, 2019-06-10, 2020-02-01, 2016-12-23, 2019-12-02, 2016-10-10, 2015-07-07, 2017-05-29, 2014-06-01, 2019-09-04, 2012-06-01, 2020-07-13, 2016-12-12, 2015-07-09, 2017-06-01, 2018-05-18, 2016-08-04, 2018-02-09, 2017-08-27, 2015-07-30, 2016-07-26, 2016-05-24, 2018-09-11, 2016-01-19, 2019-02-06, 2019-12-12, 2015-07-17, 2020-01-18, 2012-07-12, 2016-06-26, 2010-09-01, 2018-01-24, 2018-02-02, 2017-08-24, 2017-01-29, 2014-04-15, 2006-07-01, 2017-01-18, 2020-01-04, 2018-06-28, 2014-02-04, 2016-10-11, 2019-08-17, 2017-07-26, 2018-06-05, 2020-06-19, 2019-05-07, 2018-06-13, 2014-07-07, 2020-07-23, 2011-10-01, 2014-03-20, 2019-01-24, 2020-02-04, 2020-06-29, 2014-08-23, 2019-06-17, 2015-09-13, 2019-02-15, 2016-08-20, 2014-03-25, 2015-01-08, 2017-12-18, 2016-07-30, 2019-10-01, 2019-08-10, 2020-07-10, 2019-09-19, 2011-02-01, 2016-11-22, 2020-07-31, 2017-09-06, 2017-01-11, 2016-01-16, 2018-07-28, 2013-02-01, 2016-01-30, 2020-07-02, 2020-07-20, 2019-03-21, 2019-08-27, 2015-05-13, 2016-02-02, 2017-11-16, 2012-07-02, 2015-01-10, 2019-09-09, 2017-02-03, 2015-01-28, 2017-07-23, 2012-07-25, 2020-02-26, 2020-07-19, 2016-04-01, 2018-11-04, 2020-06-28, 2003-07-01, 2018-12-10, 2015-07-05, 2016-07-10, 2013-08-09, 2014-07-22, 2019-11-19, 2014-01-06, 2015-07-28, 2017-06-08, 2019-12-21, 2010-01-25, 2016-10-16, 2015-06-16, 2018-12-07, 2013-08-23, 2016-09-06, 2016-01-28, 2015-07-11, 2019-09-11, 2017-06-28, 2020-04-01, 2019-06-27, 2017-04-25, 2020-07-18, 2018-05-30, 2019-12-05, 2017-07-27, 2013-07-09, 2016-12-27, 2019-11-20, 2013-12-25, 2017-09-04, 2015-12-28, 2016-01-07, 2018-01-23, 2017-08-06, 2017-01-07, 2018-01-11, 2019-11-12, 2017-10-28, 2010-11-22, 2012-01-20, 2020-06-12, 2018-01-29, 2014-08-06, 2018-01-08, 2020-07-12, 2019-06-18, 2014-01-02, 2015-01-22, 2016-05-02, 2009-09-01, 2018-05-15, 2019-09-22, 2018-08-22, 2015-12-01, 2013-12-23, 2012-08-25, 2019-09-18, 2015-05-05, 2016-07-02, 2018-03-02, 2018-07-22, 2019-01-12, 2018-06-01, 2016-02-11, 2020-08-15, 2017-06-17, 2018-06-12, 2017-02-17, 2019-05-29, 2014-02-27, 2013-07-06, 2017-07-29, 2013-07-28, 2019-03-01, 2012-09-04, 2017-05-01, 2017-11-22, 2015-01-06, 2009-01-15, 2013-01-04, 2020-06-10, 2020-06-11, 2014-10-13, 2013-12-09, 2019-10-14, 2016-09-30, 2018-02-05, 2019-05-03, 2016-06-10, 2018-09-21, 2016-10-08, 2018-02-13, 2019-03-06, 2017-12-12, 2015-05-01, 2014-11-28, 2017-12-01, 2013-12-17, 2016-08-19, 2015-08-20, 2016-02-16, 2019-01-13, 2008-01-17, 2019-12-10, 2020-02-19, 2017-09-08, 2019-03-07, 2018-12-01, 2016-03-13, 2013-02-11, 2018-01-27, 2020-07-04, 2017-06-11, 2017-10-29, 2016-09-01, 2015-04-17, 2018-01-14, 2015-04-03, 2019-10-29, 2014-02-01, 2014-01-27, 2017-06-07, 2018-01-07, 2017-02-24, 2014-07-19, 2013-02-26, 2017-02-07, 2019-10-04, 2019-12-07, 2012-07-11, 2016-06-13, 2015-02-13, 2015-06-05, 2006-01-01, 2012-07-21, 2019-02-12, 2019-04-11, 2020-05-29, 2015-05-08, 2019-02-23, 2019-11-21, 2018-09-16, 2019-02-09, 2017-03-16, 2017-02-28, 2018-12-18, 2015-05-27, 2015-03-10, 2019-12-29, 2018-12-11, 2016-02-08, 2019-06-19, 2013-07-15, 2015-01-27, 2017-01-12, 2020-06-22, 2014-04-01, 2018-06-10, 2011-09-29, 2019-06-05, 2018-04-18, 2014-07-27, 2016-01-24, 2019-12-04, 2018-06-23, 2017-01-08, 2016-10-20, 2018-02-23, 2019-05-18, 2013-04-29, 2014-08-01, 2015-08-03, 2017-06-13, 2016-12-10, 2017-03-07, 2016-02-24, 2019-02-25, 2013-06-01, 2020-06-03, 2019-12-31, 2015-05-21, 2018-02-20, 2017-02-09, 2017-02-10, 2015-11-06, 2019-06-06, 2017-12-21, 2019-12-30, 2020-06-17, 2016-06-02, 2018-01-28, 2010-11-15, 2018-03-10, 2015-01-09, 2018-07-08, 2019-09-27, 2015-01-31, 2015-12-21, 2014-12-20, 2016-08-06, 2012-04-07, 2016-08-18, 2018-11-21, 2015-01-05, 2018-05-20, 2014-11-19, 2019-11-11, 2019-09-06, 2019-12-26, 2018-05-11, 2016-08-22, 2015-03-27, 2018-06-15, 2013-03-04, 2014-12-11, 2012-07-07, 2016-05-07, 2018-02-12, 2017-01-02, 2019-06-20, 2017-03-12, 2018-04-04, 2020-07-11, 2016-08-05, 2014-01-07, 2013-02-04, 2018-02-18, 2017-05-18, 2014-06-10, 2014-05-12, 2018-11-03, 2013-05-30, 2007-07-16, 2019-09-28, 2016-05-31, 2015-09-03, 2013-01-17, 2015-06-01, 2020-06-21, 2016-03-08, 2017-10-10, 2003-01-01, 2020-02-24, 2017-12-19, 2018-12-05, 2014-01-04, 2018-06-07, 2004-01-01, 2018-09-01, 2012-08-30, 2018-03-07, 2014-08-10, 2013-04-01, 2017-11-17, 2014-12-31, 2016-11-17, 2014-03-10, 2019-09-21, 2018-03-29, 2013-11-04, 2019-06-15, 2020-06-13, 2014-04-07, 2019-04-15, 2020-02-13, 2015-05-09, 2014-01-23, 2013-08-01, 2014-06-12, 2016-06-27, 2014-10-25, 2020-08-09, 2014-12-01, 2018-02-14, 2015-01-17, 2017-12-08, 2020-03-20, 2020-07-25, 2018-04-16, 2016-10-07, 2017-09-16, 2018-11-22, 2009-05-09, 2019-03-31, 2019-03-20, 2018-10-09, 2018-11-02, 2017-05-07, 2019-09-17, 2014-09-03, 2019-06-14, 2016-11-25, 2016-05-13, 2014-03-31, 2016-05-12, 2020-06-16, 2018-03-05, 2014-12-15, 2019-05-24, 2019-03-22, 2017-09-28, 2018-08-11, 2012-06-30, 2020-06-14, 2018-12-19, 2017-11-13, 2018-06-17, 2020-04-02, 2015-09-23, 2015-04-22, 2014-08-11, 2014-01-03, 2015-06-24, 2018-05-24, 2014-04-13, 2016-12-15, 2011-01-25, 2016-04-18, 2019-12-24, 2018-06-30, 2020-06-09, 2019-02-11, 2015-06-11, 2017-09-20, 2019-12-14, 2015-06-21, 2016-04-14, 2017-12-04, 2015-11-17, 2016-01-15, 2012-06-12, 2019-06-13, 2018-09-26, 2013-11-22, 2017-03-01, 2018-06-16, 2007-01-11, 2019-05-08, 2018-11-13, 2014-02-19, 2017-02-16, 2019-01-19, 2019-10-24, 2015-10-31, 2015-12-17, 2018-04-13, 2006-08-01, 2017-04-01, 2020-05-06, 2015-02-25, 2018-05-17, 2005-06-01, 2017-09-25, 2015-03-29, 2020-01-26, 2017-12-11, 2016-12-20, 2019-10-30, 2017-03-31, 2014-09-18, 2019-10-05, 2013-01-22, 2018-09-04, 2012-07-16, 2013-06-28, 2016-09-10, 2015-10-16, 2018-04-01, 2018-12-02, 2016-12-24, 2020-05-01, 2019-09-05, 2013-07-02, 2016-10-01, 2009-08-22, 2018-06-14, 2019-03-14, 2016-03-25, 2016-09-08, 2018-12-31, 2013-02-05, 2013-07-22, 2011-07-15, 2018-01-13, 2019-06-24, 2014-01-14, 2016-10-24, 2019-04-17, 2015-12-18, 2018-05-04, 2019-03-09, 2018-02-03, 2018-03-09, 2020-05-16, 2017-07-30, 2014-08-19, 2017-10-04, 2015-01-03, 2011-07-02, 2019-06-30, 2018-05-25, 2013-12-11, 2015-06-27, 2020-05-14, 2014-01-08, 2014-05-06, 2019-09-07, 2019-02-18, 2019-04-30, 2017-02-08, 2015-04-15, 2018-11-26, 2012-06-07, 2016-10-05, 2014-07-26, 2017-03-30, 2014-01-13, 2016-06-23, 2017-09-27, 2011-11-30, 2016-09-09, 2019-06-04, 2017-12-15, 2020-07-26, 2018-10-12, 2017-01-16, 2018-04-20, 2015-08-01, 2019-12-08, 2018-02-10, 2017-01-22, 2014-01-22, 2018-05-23, 2010-07-31, 2016-03-10, 2016-02-10, 2018-10-04, 2018-10-08, 2020-03-24, 2016-09-11, 2018-03-26, 2017-05-02, 2014-04-10, 2013-02-22, 2012-08-12, 2015-01-11, 2018-04-29, 2018-12-12, 2019-04-18, 2018-04-25, 2019-11-25, 2019-03-11, 2019-08-18, 2015-02-18, 2018-04-26, 2020-03-10, 2017-12-26, 2017-03-21, 2018-02-11, 2019-12-17, 2019-12-28, 2015-07-13, 2016-10-14, 2016-07-13, 2019-04-12, 2015-10-06, 2017-04-06, 2013-08-19, 2012-08-28, 2014-05-27, 2012-02-06, 2018-08-26, 2016-09-16, 2011-01-05, 2018-04-06, 2020-03-09, 2019-05-22, 2015-10-28, 2020-02-15, 2019-12-27, 2016-01-29, 2013-11-19, 2007-05-01, 2019-09-20, 2018-09-07, 2019-10-10, 2019-06-07, 2016-12-01, 2019-03-04, 2016-06-11, 2008-02-01, 2012-03-29, 2018-09-02, 2014-09-05, 2005-12-01, 2016-08-21, 2018-05-12, 2018-08-19, 2002-08-01, 2018-05-07, 2018-12-08, 2015-10-05, 2015-01-26, 2017-02-21, 2017-01-28, 2019-11-23, 2017-12-16, 2016-02-25, 2019-09-16, 2016-06-16, 2017-09-23, 2019-10-07, 2016-05-10, 2019-03-12, 2014-06-14, 2018-12-25, 2020-03-05, 1998-01-01, 2019-11-01, 2018-12-30, 2013-10-23, 2015-04-23, 2015-03-03, 2019-02-24, 2014-12-27, 2018-12-17, 2017-10-27, 2015-10-13, 2019-06-22, 2019-03-29, 2016-06-20, 2019-03-24, 2015-05-06, 2013-05-13, 2018-12-22, 2016-03-07, 2019-09-23, 2005-09-01, 2020-03-23, 2019-09-08, 2018-05-05, 2014-06-23, 2015-10-21, 2017-11-27, 2019-03-25, 2011-01-02, 2019-06-03, 2013-10-01, 2015-06-15, 2019-03-19, 2011-09-03, 2016-07-17, 2017-02-14, 2018-06-04, 2013-08-11, 2018-03-14, 2019-04-26, 2017-02-05, 2019-05-15, 2016-09-27, 2018-11-09, 2015-12-08, 2014-03-07, 2018-06-06, 2014-08-05, 2019-11-26, 2018-09-18, 2016-01-02, 2012-06-06, 2017-01-10, 2017-10-18, 2017-03-15, 2018-09-13, 2013-06-05, 2012-12-01, 2003-12-22, 2016-04-17, 2017-04-10, 2010-01-17, 2013-01-18, 2019-09-13, 2014-12-08, 2020-05-26, 2017-09-22, 2019-10-11, 2019-05-26, 2018-05-02, 2017-11-03, 2016-04-27, 2017-03-02, 2014-05-01, 2018-10-05, 2019-09-24, 2020-06-15, 2016-04-29, 2019-09-26, 2016-11-05, 2013-12-16, 2016-06-28, 2020-03-01, 2014-02-02, 2019-02-16, 2015-05-14, 2017-04-04, 2017-04-05, 2016-05-23, 2020-04-23, 2018-09-19, 2015-09-11, 2017-12-09, 2011-11-22, 2016-11-16, 2012-09-12, 2012-07-04, 2020-03-12, 2012-09-01, 2008-01-11, 2020-05-31, 2019-05-09, 2020-06-02, 2017-07-16, 2020-05-28, 2019-10-02, 2019-11-08, 2019-02-03, 2019-11-09, 2016-04-16, 2018-12-13, 2016-10-15, 2014-02-10, 2018-04-24, 2020-03-17, 2018-02-06, 2015-02-27, 2014-02-13, 2019-05-30, 2018-02-26, 2018-12-03, 2012-03-30, 2019-04-28, 2019-11-15, 2019-04-21, 2017-08-19, 2008-08-16, 2017-07-22, 2018-03-03, 2020-07-05, 2018-12-24, 2018-06-27, 2016-06-01, 2019-10-26, 2013-09-18, 2018-10-13, 2015-05-28, 2016-02-26, 2020-03-03, 2016-02-07, 2012-01-05, 2016-09-14, 2018-05-21, 2016-05-20, 2018-03-21, 2019-05-28, 2018-10-30, 2016-06-24, 2014-02-03, 2017-10-06, 2019-12-15, 2018-05-16, 2020-05-25, 2015-04-04, 2015-09-07, 2018-03-11, 2017-12-31, 2019-09-25, 2015-03-12, 2015-04-01, 2017-01-21, 2020-06-27, 2016-10-28, 2018-09-24, 2019-04-01, 2020-05-13, 2019-05-10, 2019-05-14, 2016-10-22, 2018-10-19, 2015-09-21, 2014-04-30, 2013-05-17, 2017-10-01, 2013-12-27, 2017-04-22, 2013-09-20, 2012-07-06, 2017-05-05, 2020-02-21, 2019-10-18, 2018-04-12, 2020-02-22, 2019-12-13, 2009-02-12, 2018-01-21, 2016-11-08, 2016-02-18, 2018-03-04, 2019-05-16, 2018-05-09, 2017-12-03, 2017-11-12, 2020-05-15, 2013-06-27, 2019-12-01, 2013-08-08, 2019-12-06, 2019-03-05, 2012-03-25, 2017-05-09, 2014-10-09, 2018-06-02, 2015-06-09, 2015-12-11, 2013-02-28, 2019-03-08, 2017-03-23, 2019-04-20, 2018-05-31, 2013-07-08, 2018-10-27, 2019-04-05, 2015-07-21, 2018-10-23, 2016-10-30, 2017-12-30, 2018-03-16, 2015-12-03, 2020-05-22, 2019-11-29, 2020-02-09, 2018-03-08, 2018-09-30, 2017-10-13, 2016-12-09, 2018-12-04, 2017-09-15, 2013-06-20, 2018-09-28, 2018-11-01, 2015-05-18, 2006-12-01, 2018-10-10, 2012-02-01, 2017-09-05, 2018-08-24, 2019-12-20, 2015-05-15, 2017-02-23, 2015-06-02, 2019-09-29, 2018-02-25, 2019-12-23, 2017-11-24, 2017-06-25, 2020-04-19, 2016-10-17, 2007-02-01, 2015-02-21, 2020-06-05, 2020-05-08, 2014-02-17, 2017-12-22, 2020-05-04, 2020-03-08, 2019-09-14, 2019-10-25, 2017-06-03, 2020-10-08, 2014-11-25, 2015-03-17, 2020-03-30, 2017-09-09, 2019-10-27, 2018-12-28, 2020-05-18, 2010-01-06, 2019-02-17, 2019-10-17, 2015-01-04, 2017-12-07, 2020-03-07, 2015-11-21, 2018-06-03, 2019-09-15, 2019-04-08, 2014-12-30, 2016-04-22, 2019-10-20, 2015-05-24, 2019-04-06, 2016-04-30, 2018-09-15, 2018-04-08, 2015-02-01, 2016-03-02, 2016-10-04, 2019-03-28, 2019-12-16, 2019-11-24, 2018-05-26, 2016-03-29, 2018-11-15, 2016-09-22, 2014-09-10, 2017-11-04, 2019-11-28, 2019-02-10, 2017-05-25, 2013-01-16, 2017-11-08, 2018-02-24, 2017-04-11, 2018-11-25, 2018-10-26, 2017-03-11, 2015-02-03, 2010-11-01, 2016-05-04, 2017-11-01, 2019-04-27, 2017-03-13, 2017-12-24, 2016-12-08, 2019-11-05, 2019-12-18, 2017-04-08, 2019-12-03, 2016-11-09, 2020-06-06, 2019-03-30, 2020-04-04, 2019-05-25, 2019-11-02, 2016-09-03, 2018-05-28, 2016-08-07, 2011-05-05, 2018-10-01, 2015-08-23, 2017-05-12, 2016-10-12, 2016-12-13, 2017-03-05, 2017-09-13, 2019-09-30, 2017-11-15, 2015-11-14, 2018-12-26, 2017-11-30, 2017-04-28, 2016-11-21, 2017-02-20, 2019-03-17, 2009-10-01, 2016-12-05, 2016-02-23, 2018-12-15, 2018-09-17, 2018-11-10, 2017-05-08, 2018-03-18, 2020-03-16, 2018-11-23, 2019-04-25, 2013-09-06, 2018-11-07, 2016-12-04, 2017-11-14, 2018-12-20, 2015-12-30, 2011-07-16, 2017-10-14, 2016-09-28, 2018-11-12, 2020-04-24, 2018-11-20, 2016-12-31, 2018-05-29, 2019-04-09, 2018-09-29, 2017-10-09, 2018-10-06, 2018-11-06, 2020-03-14, 2015-06-07, 2018-04-23, 2017-09-10, 2019-04-03, 2019-11-30, 2015-10-01, 2015-02-06, 2016-04-23, 2016-03-06, 2015-11-09, 2020-06-20, 2018-10-03, 2017-05-27, 2019-10-21, 2014-08-18, 2016-03-19, 2017-02-13, 2017-09-12, 2018-04-09, 2017-04-30, 2020-04-22, 2020-04-30, 2017-10-24, 2018-03-12, 2018-10-21, 2016-04-06, 2019-10-13, 2017-02-26, 2017-03-06, 2018-09-08, 2013-02-15, 2018-05-14, 2018-11-28, 2019-04-19, 2016-04-25, 2016-03-01, 2019-05-27, 2019-05-01, 2019-04-04, 2016-09-21, 2018-03-17, 2019-05-12, 2019-11-04, 2017-05-15, 2019-04-23, 2019-03-02, 2016-03-09, 2018-10-17, 2017-10-03, 2017-02-12, 2014-01-09, 2017-04-26, 2018-10-11, 2020-02-16, 2018-09-09, 2017-05-03, 2018-11-24, 2019-05-19, 2020-04-29, 2018-04-19, 2018-04-02, 2018-09-12, 2017-04-20, 2019-11-03, 2019-11-07, 2017-10-31, 2019-10-12, 2019-03-23, 2020-03-25, 2019-05-02, 2019-06-08, 2019-12-19, 2020-05-02, 2018-09-22, 2015-02-28, 2018-03-06\n",
      "\n",
      "Loan.Date.End: NA, 2021-06-30, 2020-12-31, 2021-01-30, 2022-06-30, 2021-05-31, 2021-07-05, 2021-12-31, 2021-07-01, 2021-01-01, 2021-08-31, 2021-01-31, 2021-12-30, 2021-06-23, 2021-01-03, 2021-11-27, 2021-01-17, 2023-06-30, 2021-07-31, 2020-11-22, 2022-05-31, 2020-12-30, 2021-01-04, 2020-11-30, 2021-08-01\n",
      "\n",
      "Value: 103500000, 6.3e+07, 1.2e+08, 1.29e+08, 1.32e+08, 1.11e+08, 120500000, 1.02e+08, 185500000, 1.1e+08, 1.13e+08, 90500000, 8.2e+07, 17500000, 83500000, 33500000, 114500000, 7.8e+07, 1.03e+08, 1.09e+08, 9.2e+07, 1e+07, 76500000, 89500000, 87500000, 79500000, 1.24e+08, 1.14e+08, 9.5e+07, 92500000, 105500000, 88500000, 8.5e+07, 81500000, 2.6e+07, 2.1e+07, 5.6e+07, 67500000, 5.3e+07, 36500000, 5.1e+07, 65500000, 46500000, 61500000, 72500000, 77500000, 43500000, 32500000, 3.6e+07, 3.2e+07, 5.4e+07, 49500000, 5.7e+07, 66500000, 74500000, 71500000, 1.21e+08, 9.9e+07, 6.7e+07, 86500000, 93500000, 7e+07, 6.2e+07, 6.6e+07, 5.8e+07, 4.4e+07, 8.1e+07, 3.7e+07, 14500000, 4.6e+07, 47500000, 52500000, 54500000, 34500000, 57500000, 51500000, 44500000, 5.5e+07, 4.8e+07, 60500000, 63500000, 6.1e+07, 2.9e+07, 58500000, 55500000, 4.2e+07, 40500000, 4.3e+07, 45500000, 3.4e+07, 26500000, 42500000, 35500000, 4.5e+07, 41500000, 4e+07, 1.1e+07, 13500000, 29500000, 2.7e+07, 15500000, 38500000, 5.2e+07, 3.3e+07, 1.9e+07, 73500000, 3.8e+07, 3.5e+07, 4.7e+07, 2.4e+07, 30500000, 1.8e+07, 2.8e+07, 25500000, 2.5e+07, 3.1e+07, 23500000, 3e+07, 31500000, 22500000, 28500000, 4e+06, 12500000, 37500000, 27500000, 1.6e+07, 1.5e+07, 20500000, 2.2e+07, 3400000, 5e+06, 56500000, 62500000, 0, 3.9e+07, 24500000, 21500000, 1.3e+07, 8e+06, 2e+07, 8500000, 2900000, 9e+06, 4600000, 5e+07, 2.3e+07, 18500000, 7e+06, 19500000, 5500000, 7500000, 3800000, 1.4e+07, 10500000, 16500000, 3600000, 9500000, 39500000, 1.7e+07, 1.2e+07, 11500000, 4900000, 3e+06, 1900000, 6500000, 1700000, 2400000, 3100000, 6e+06, 3700000, 4700000, 4300000, 2100000, 1200000, 1800000, 4800000, 3200000, 1300000, 825000, 2300000, 1500000, 3900000, 2600000, 3500000, 2800000, 2700000, 4400000, 4100000, 950000, 1600000, 625000, 1100000, 4500000, 4200000, 2200000, 3300000, 1400000, 2e+06, 475000, 925000, 750000, 725000, 2500000, 1e+06, 350000, 525000, 6e+05, 850000, 8e+05, 550000, 250000, 4e+05, 425000, 575000, 210000, 325000, 9e+05, 875000, 650000, 7e+05, 5e+05, 975000, 375000, 775000, 275000, 180000, 450000, 675000, 150000, 240000, 3e+05, 130000, 220000, 2e+05, 110000, 170000, 230000, 90000, 120000, 80000, 190000, 140000, 160000, 1e+05, 60000, 50000, 70000, 45000, 35000, 40000, 25000, 20000, 15000, 30000, 9000\n",
      "\n",
      "Wage: 560000, 220000, 125000, 370000, 270000, 240000, 250000, 160000, 260000, 210000, 310000, 130000, 350000, 3e+05, 190000, 145000, 195000, 1e+05, 140000, 290000, 82000, 110000, 230000, 155000, 2e+05, 165000, 95000, 170000, 105000, 115000, 150000, 135000, 55000, 58000, 81000, 34000, 120000, 59000, 90000, 65000, 56000, 71000, 18000, 75000, 47000, 20000, 84000, 86000, 74000, 78000, 27000, 68000, 85000, 25000, 46000, 83000, 54000, 79000, 175000, 43000, 49000, 45000, 38000, 41000, 39000, 23000, 51000, 50000, 87000, 30000, 14000, 69000, 31000, 64000, 53000, 35000, 21000, 28000, 17000, 33000, 70000, 32000, 89000, 26000, 40000, 76000, 72000, 48000, 36000, 29000, 60000, 16000, 37000, 24000, 52000, 0, 62000, 73000, 63000, 19000, 1000, 66000, 80000, 12000, 2000, 42000, 13000, 900, 57000, 77000, 61000, 22000, 67000, 44000, 15000, 11000, 8000, 850, 10000, 88000, 500, 7000, 6000, 9000, 5000, 700, 950, 750, 3000, 650, 600, 4000, 800, 550\n",
      "\n",
      "Release.Clause: 138400000, 75900000, 159400000, 1.61e+08, 166500000, 1.32e+08, 144300000, 120300000, 203100000, 147700000, 145300000, 1.22e+08, 1.19e+08, 47900000, 108700000, 50200000, 98100000, 139600000, 96900000, 112100000, 122500000, 1.03e+08, 140200000, 27200000, 8.5e+07, 118900000, 112800000, 103500000, 132100000, 115500000, 1.02e+08, 107800000, 124400000, 104900000, 99800000, 96200000, 5e+07, 25600000, 77900000, 85500000, 56100000, 72200000, 64600000, 51300000, 82500000, 69300000, 59900000, 98800000, 96300000, 53200000, 43100000, 48500000, 47300000, 58700000, 65600000, 67500000, 84700000, 8.7e+07, 95800000, 119700000, 91600000, 7.9e+07, 111300000, 78900000, 81900000, 88800000, 86900000, 94600000, 69400000, 7.8e+07, 97800000, 86600000, 107300000, 63800000, 54200000, 21900000, 66200000, 79900000, 5.2e+07, 68500000, 56400000, 66300000, 44200000, 29700000, 40800000, 68900000, 24700000, 72800000, 57800000, 72100000, 76500000, 44300000, 71900000, 84600000, 61200000, 69900000, 73700000, 70700000, 64700000, 64800000, 8.1e+07, 47200000, 68100000, 81800000, 69100000, 58900000, 38500000, 56800000, 62200000, 44400000, 42500000, 32300000, 5.9e+07, 45400000, 6.5e+07, 52500000, 50300000, 54100000, 17600000, 25500000, 46600000, 28900000, 4e+07, 36100000, 37100000, 23100000, 62100000, 45900000, 49400000, 60200000, 46200000, 59700000, 65200000, 55500000, 31400000, 56700000, 66400000, 5.4e+07, 45300000, 67200000, 53900000, 53300000, 49100000, 60600000, 54600000, 5.5e+07, 55300000, 35700000, 32900000, 18800000, 44100000, 45100000, 41500000, 33200000, 38900000, 43500000, 29800000, 41600000, 39900000, 28100000, 46300000, 31500000, 35200000, 47500000, 28400000, 3.4e+07, 32800000, 0, 2.4e+07, 13300000, 16200000, 33800000, 28500000, 30800000, 31200000, 45700000, 46800000, 43700000, 34700000, 57300000, 58400000, 40200000, 61600000, 49200000, 37400000, 57600000, 4.7e+07, 42400000, 46100000, 59500000, 5.7e+07, 29400000, 25700000, 47400000, 25200000, 36500000, 4.4e+07, 29600000, 2.7e+07, 42800000, 44900000, 45200000, 3600000, 35500000, 16800000, 3.2e+07, 18100000, 13600000, 37300000, 6.1e+07, 54300000, 7.2e+07, 48400000, 47700000, 33100000, 33300000, 53600000, 35100000, 40500000, 51500000, 32600000, 40400000, 37500000, 43300000, 49800000, 48900000, 39500000, 30600000, 36300000, 46400000, 36200000, 35400000, 24200000, 3e+07, 29300000, 31600000, 19600000, 26800000, 15400000, 22100000, 18200000, 7200000, 27600000, 24500000, 17300000, 22300000, 1.7e+07, 20900000, 1.9e+07, 9100000, 11100000, 21400000, 15200000, 73600000, 3.3e+07, 28600000, 29500000, 3.9e+07, 33600000, 35600000, 39200000, 31100000, 17100000, 33700000, 26600000, 35900000, 30500000, 4.6e+07, 20700000, 4.2e+07, 38400000, 31900000, 25300000, 34600000, 27300000, 11200000, 26300000, 30200000, 36900000, 24600000, 23700000, 27500000, 23800000, 31800000, 21300000, 18900000, 30400000, 7700000, 19200000, 14400000, 7e+06, 15300000, 10500000, 1.6e+07, 6e+06, 18700000, 27700000, 20400000, 2.3e+07, 7300000, 2e+07, 10400000, 13500000, 1.3e+07, 9900000, 25900000, 36800000, 34900000, 34800000, 3.7e+07, 41400000, 24900000, 19800000, 22800000, 3.8e+07, 3.5e+07, 2.5e+07, 30100000, 2.1e+07, 22200000, 14700000, 21700000, 26100000, 27900000, 17900000, 2.2e+07, 19500000, 15800000, 16500000, 2.6e+07, 13700000, 20200000, 18600000, 12800000, 6800000, 1.1e+07, 7500000, 11600000, 8400000, 8800000, 9800000, 9400000, 2300000, 1.5e+07, 4100000, 2200000, 9200000, 12400000, 53500000, 34500000, 21600000, 28300000, 1.8e+07, 32200000, 34100000, 29900000, 22400000, 26400000, 20800000, 11700000, 22700000, 26700000, 18500000, 20100000, 19300000, 21800000, 20500000, 17800000, 14300000, 8600000, 5900000, 8300000, 14500000, 8500000, 1.2e+07, 11900000, 5200000, 8200000, 7800000, 12100000, 4e+06, 12600000, 14800000, 9e+06, 11800000, 2400000, 13200000, 21200000, 15100000, 19700000, 16600000, 4700000, 28800000, 23900000, 26500000, 6300000, 11400000, 16900000, 10300000, 1.4e+07, 26200000, 10200000, 3400000, 4.3e+07, 6600000, 5500000, 7100000, 13400000, 18400000, 10800000, 1900000, 14100000, 9600000, 16400000, 11300000, 7400000, 16100000, 3300000, 13100000, 14200000, 10100000, 1200000, 40100000, 4200000, 3200000, 6700000, 5e+06, 10900000, 4400000, 2700000, 4800000, 3e+06, 15900000, 9300000, 8900000, 2500000, 3100000, 6500000, 6100000, 16300000, 12200000, 15600000, 17400000, 5800000, 5600000, 1e+07, 5300000, 3900000, 6200000, 13800000, 4600000, 3800000, 6400000, 5700000, 4500000, 2800000, 8100000, 2900000, 8700000, 1100000, 7600000, 3500000, 8e+06, 11500000, 33400000, 13900000, 30300000, 22500000, 4300000, 9500000, 7900000, 10700000, 1300000, 5100000, 5400000, 12500000, 9700000, 4900000, 978000, 2e+06, 10600000, 1e+06, 949000, 2100000, 1800000, 12300000, 12700000, 2600000, 760000, 6900000, 3700000, 8e+05, 6e+05, 23600000, 560000, 1700000, 1500000, 19100000, 880000, 1600000, 788000, 998000, 1400000, 945000, 585000, 455000, 553000, 17700000, 683000, 906000, 324000, 713000, 878000, 348000, 750000, 820000, 975000, 432000, 680000, 616000, 360000, 808000, 640000, 543000, 926000, 938000, 438000, 508000, 825000, 834000, 252000, 891000, 689000, 844000, 405000, 719000, 306000, 290000, 342000, 480000, 594000, 358000, 910000, 210000, 378000, 688000, 618000, 149000, 775000, 368000, 471000, 641000, 284000, 426000, 709000, 9e+05, 504000, 187000, 420000, 660000, 563000, 725000, 979000, 968000, 578000, 540000, 638000, 357000, 943000, 875000, 806000, 385000, 950000, 675000, 798000, 840000, 452000, 439000, 465000, 544000, 969000, 879000, 665000, 409000, 813000, 525000, 911000, 736000, 855000, 625000, 399000, 488000, 387000, 305000, 520000, 180000, 5e+05, 744000, 516000, 276000, 853000, 650000, 776000, 870000, 312000, 765000, 580000, 860000, 122000, 531000, 805000, 153000, 208000, 920000, 131000, 406000, 418000, 174000, 715000, 574000, 963000, 656000, 344000, 158000, 330000, 243000, 7e+05, 396000, 960000, 990000, 2e+05, 3e+05, 569000, 375000, 591000, 748000, 903000, 863000, 113000, 468000, 962000, 810000, 323000, 753000, 240000, 263000, 648000, 241000, 216000, 961000, 761000, 613000, 930000, 391000, 831000, 814000, 781000, 469000, 653000, 301000, 699000, 743000, 894000, 120000, 991000, 620000, 221000, 495000, 780000, 163000, 116000, 345000, 203000, 280000, 861000, 481000, 218000, 915000, 601000, 919000, 506000, 334000, 845000, 319000, 523000, 729000, 570000, 109000, 454000, 250000, 380000, 914000, 935000, 408000, 196000, 762000, 696000, 770000, 435000, 994000, 338000, 701000, 270000, 255000, 953000, 959000, 828000, 893000, 976000, 264000, 784000, 297000, 160000, 444000, 928000, 234000, 659000, 176000, 866000, 984000, 581000, 189000, 819000, 720000, 877000, 801000, 225000, 645000, 371000, 786000, 313000, 908000, 298000, 288000, 440000, 213000, 363000, 261000, 971000, 138000, 889000, 350000, 677000, 536000, 698000, 958000, 827000, 108000, 310000, 73000, 63000, 238000, 763000, 175000, 388000, 986000, 838000, 473000, 795000, 839000, 921000, 932000, 867000, 257000, 352000, 155000, 430000, 996000, 333000, 663000, 596000, 774000, 248000, 258000, 150000, 538000, 403000, 731000, 608000, 70000, 735000, 934000, 232000, 304000, 686000, 497000, 275000, 619000, 913000, 666000, 68000, 988000, 61000, 821000, 830000, 799000, 172000, 194000, 530000, 629000, 888000, 630000, 724000, 606000, 245000, 584000, 125000, 259000, 534000, 450000, 104000, 572000, 843000, 372000, 56000, 555000, 550000, 890000, 850000, 811000, 311000, 946000, 97000, 490000, 1e+05, 140000, 956000, 135000, 413000, 77000, 848000, 754000, 272000, 772000, 464000, 326000, 499000, 188000, 778000, 398000, 710000, 669000, 228000, 98000, 684000, 940000, 730000, 341000, 674000, 366000, 610000, 528000, 463000, 193000, 428000, 429000, 145000, 639000, 431000, 496000, 202000, 723000, 314000, 924000, 712000, 548000, 315000, 593000, 586000, 46000, 612000, 237000, 423000, 512000, 87000, 510000, 694000, 215000, 882000, 151000, 54000, 740000, 44000, 779000, 690000, 247000, 722000, 364000, 967000, 533000, 88000, 123000, 111000, 705000, 829000, 231000, 595000, 419000, 621000, 604000, 318000, 331000, 999000, 647000, 726000, 668000, 129000, 503000, 816000, 561000, 381000, 295000, 458000, 518000, 502000, 796000, 881000, 609000, 443000, 217000, 670000, 551000, 53000, 556000, 433000, 356000, 169000, 124000, 279000, 38000, 233000, 833000, 764000, 394000, 623000, 424000, 392000, 634000, 402000, 790000, 362000, 475000, 456000, 474000, 347000, 823000, 39000, 369000, 195000, 519000, 445000, 95000, 447000, 75000, 58000, 390000, 171000, 31000, 577000, 498000, 436000, 182000, 571000, 588000, 374000, 130000, 365000, 162000, 494000, 797000, 278000, 646000, 351000, 281000, 325000, 292000, 605000, 909000, 947000, 410000, 328000, 598000, 289000, 872000, 970000, 741000, 332000, 576000, 615000, 397000, 320000, 425000, 954000, 302000, 401000, 244000, 980000, 509000, 293000, 564000, 336000, 461000, 414000, 271000, 265000, 759000, 309000, 707000, 467000, 256000, 691000, 353000, 470000, 462000, 642000, 728000, 47000, 449000, 185000, 552000, 65000, 849000, 186000, 884000, 329000, 886000, 541000, 239000, 667000, 285000, 758000, 78000, 274000, 383000, 407000, 484000, 451000, 633000, 214000, 517000, 777000, 198000, 756000, 437000, 460000, 26000, 415000, 199000, 631000, 260000, 22000, 299000, 918000, 102000, 33000, 739000, 211000, 340000, 376000, 25000, 558000, 457000, 146000, 229000, 219000, 220000, 43000, 477000, 749000, 291000, 483000, 384000, 165000, 706000, 212000, 441000, 4e+05, 157000, 681000, 522000, 133000, 370000, 242000, 132000, 489000, 93000, 267000, 105000, 678000, 79000, 296000, 535000, 183000, 546000, 254000, 583000, 136000, 143000, 446000, 515000, 168000, 273000, 266000, 207000, 201000, 173000, 308000, 644000, 442000, 599000, 112000, 119000, 565000, 466000, 622000, 479000, 361000, 179000, 159000, 204000, 505000, 178000, 395000, 224000, 13000, 190000, 114000, 249000, 501000, 90000, 417000, 62000, 404000, 235000, 170000, 527000, 282000, 485000, 545000, 476000, 36000, 421000, 277000, 472000, 223000, 164000, 117000, 286000, 121000, 294000, 316000, 389000, 222000, 126000, 148000, 354000, 493000, 459000, 106000, 192000, 327000, 142000, 349000, 12000, 303000, 152000, 416000, 379000, 377000, 343000, 283000, 206000, 167000, 209000, 322000, 156000, 110000, 367000, 144000, 80000, 147000, 134000, 99000, 227000, 81000, 137000, 253000, 76000, 9000, 128000, 141000, 205000, 71000, 83000, 86000, 72000, 166000, 96000, 118000, 161000, 94000, 177000, 50000, 41000, 82000, 139000, 66000, 84000, 74000, 107000, 49000, 101000, 57000, 59000, 35000, 64000\n",
      "\n",
      "Attacking: 429, 437, 95, 407, 408, 423, 392, 114, 118, 316, 410, 349, 86, 119, 426, 374, 411, 360, 328, 383, 405, 123, 420, 224, 388, 397, 425, 373, 365, 371, 311, 396, 345, 399, 400, 78, 280, 330, 403, 379, 380, 94, 394, 419, 339, 293, 344, 390, 84, 359, 372, 377, 346, 389, 386, 308, 277, 382, 368, 402, 292, 298, 366, 352, 363, 322, 361, 91, 364, 341, 385, 355, 305, 321, 262, 93, 375, 387, 356, 253, 285, 391, 353, 367, 90, 295, 378, 256, 338, 331, 69, 105, 85, 358, 343, 319, 271, 113, 350, 406, 340, 393, 247, 334, 351, 342, 302, 329, 354, 98, 301, 115, 384, 208, 72, 376, 92, 258, 362, 74, 417, 99, 263, 88, 279, 101, 395, 100, 81, 87, 55, 310, 82, 117, 409, 318, 323, 248, 315, 381, 348, 327, 309, 130, 283, 336, 369, 106, 252, 320, 290, 370, 126, 251, 108, 335, 297, 284, 80, 75, 357, 270, 97, 306, 337, 73, 286, 325, 326, 324, 333, 103, 259, 273, 313, 296, 61, 312, 347, 401, 304, 278, 83, 43, 314, 291, 264, 272, 317, 231, 250, 268, 54, 261, 255, 70, 281, 265, 299, 287, 68, 294, 77, 219, 300, 269, 332, 289, 288, 107, 282, 122, 244, 89, 112, 274, 276, 307, 229, 96, 109, 76, 125, 102, 239, 227, 241, 257, 254, 228, 233, 124, 215, 246, 110, 245, 214, 242, 266, 104, 66, 303, 260, 63, 230, 275, 50, 238, 249, 111, 67, 240, 221, 237, 56, 235, 234, 243, 267, 232, 203, 223, 64, 213, 222, 226, 225, 211, 207, 52, 173, 57, 217, 236, 71, 204, 216, 199, 59, 189, 60, 194, 116, 205, 201, 193, 65, 192, 209, 218, 128, 210, 79, 45, 206, 162, 220, 49, 197, 202, 212, 58, 190, 181, 51, 62, 200, 198, 195, 191, 131, 185, 42, 180, 182, 196, 188, 169, 187, 178, 53, 183, 184, 186, 165, 172, 47, 171, 176, 159, 46, 179, 175, 167, 174, 161, 170, 177, 164, 134, 168, 163, 166, 158, 150, 143, 48, 152, 160, 148, 151, 157, 154, 141, 146, 147, 149, 156, 153, 138, 145, 142, 139, 155, 144, 136, 137\n",
      "\n",
      "Crossing: 85, 84, 13, 94, 71, 79, 17, 78, 18, 53, 76, 58, 14, 15, 75, 66, 70, 68, 91, 82, 20, 12, 30, 77, 88, 83, 93, 90, 87, 81, 73, 11, 54, 62, 86, 80, 55, 42, 57, 65, 63, 64, 52, 40, 69, 47, 60, 9, 16, 44, 72, 50, 56, 46, 89, 34, 45, 74, 49, 67, 24, 35, 36, 61, 19, 27, 25, 10, 51, 38, 43, 59, 39, 48, 23, 8, 28, 92, 41, 29, 32, 22, 26, 37, 33, 31, 21, 7, 6\n",
      "\n",
      "Finishing: 95, 11, 82, 87, 94, 91, 13, 14, 52, 90, 64, 88, 65, 85, 66, 84, 10, 22, 76, 81, 56, 79, 57, 45, 77, 63, 86, 80, 15, 33, 67, 12, 72, 92, 93, 51, 46, 60, 75, 55, 73, 83, 50, 42, 39, 40, 9, 68, 48, 37, 70, 78, 69, 8, 53, 89, 25, 62, 71, 74, 44, 26, 19, 32, 18, 61, 58, 30, 54, 36, 29, 16, 38, 59, 27, 34, 47, 20, 31, 49, 43, 41, 28, 5, 7, 6, 21, 17, 35, 23, 24, 4, 3\n",
      "\n",
      "Heading.Accuracy: 70, 90, 15, 55, 62, 85, 59, 19, 73, 11, 87, 84, 80, 13, 25, 91, 92, 78, 46, 54, 72, 64, 14, 10, 61, 58, 83, 38, 69, 51, 67, 86, 75, 68, 16, 81, 21, 79, 53, 65, 82, 12, 42, 48, 88, 66, 76, 74, 52, 23, 40, 49, 60, 44, 20, 37, 71, 17, 45, 77, 50, 63, 43, 39, 57, 56, 47, 24, 18, 31, 28, 35, 34, 41, 36, 93, 7, 30, 89, 8, 26, 33, 27, 32, 22, 29, 9, 5, 6\n",
      "\n",
      "Short.Passing: 91, 82, 43, 94, 87, 84, 45, 83, 61, 79, 85, 33, 55, 86, 57, 81, 42, 74, 93, 88, 30, 65, 89, 77, 32, 50, 80, 78, 90, 69, 40, 92, 75, 73, 34, 76, 35, 70, 37, 23, 44, 38, 48, 26, 60, 25, 46, 28, 24, 36, 51, 17, 18, 39, 71, 67, 27, 72, 66, 20, 31, 68, 29, 11, 64, 62, 41, 63, 19, 54, 16, 22, 49, 59, 56, 14, 58, 15, 21, 52, 53, 12, 47, 13, 8, 7\n",
      "\n",
      "Volleys: 88, 86, 13, 82, 87, 89, 79, 20, 83, 14, 45, 75, 63, 12, 11, 69, 67, 56, 18, 85, 62, 70, 32, 40, 47, 81, 44, 84, 78, 76, 90, 49, 42, 64, 57, 60, 8, 72, 71, 59, 74, 80, 73, 37, 31, 38, 61, 10, 77, 68, 58, 66, 30, 33, 65, 27, 51, 15, 16, 50, 43, 35, 24, 17, 34, 28, 9, 39, 52, 46, 22, 19, 53, 55, 48, 54, 23, 5, 41, 25, 21, 36, 26, 29, 6, 7, 4, 3\n",
      "\n",
      "Skill: 470, 414, 109, 441, 448, 407, 406, 138, 394, 144, 363, 391, 369, 110, 160, 404, 381, 397, 387, 336, 400, 436, 157, 395, 100, 262, 427, 432, 429, 380, 426, 411, 358, 351, 433, 365, 403, 98, 276, 386, 383, 99, 413, 115, 341, 375, 143, 359, 309, 435, 330, 325, 355, 96, 420, 412, 388, 319, 269, 399, 106, 402, 425, 297, 312, 418, 372, 352, 439, 409, 349, 116, 371, 428, 104, 345, 430, 295, 405, 440, 422, 252, 401, 417, 396, 233, 377, 251, 382, 368, 84, 356, 342, 410, 271, 350, 83, 126, 103, 370, 362, 343, 328, 344, 415, 378, 275, 416, 119, 127, 373, 384, 77, 393, 348, 317, 408, 376, 300, 220, 89, 107, 334, 72, 390, 419, 305, 289, 398, 281, 354, 102, 339, 385, 139, 292, 97, 421, 91, 105, 73, 335, 101, 340, 337, 306, 113, 122, 123, 302, 364, 250, 347, 333, 323, 389, 361, 322, 86, 367, 258, 392, 92, 90, 310, 331, 338, 121, 260, 82, 245, 324, 346, 379, 299, 284, 320, 283, 108, 278, 286, 296, 315, 274, 88, 114, 264, 288, 94, 326, 366, 117, 360, 424, 93, 318, 124, 125, 327, 249, 75, 332, 303, 374, 239, 272, 357, 353, 266, 321, 277, 268, 314, 294, 240, 95, 227, 112, 118, 263, 280, 140, 282, 81, 329, 201, 87, 221, 257, 285, 316, 287, 307, 270, 256, 313, 311, 228, 247, 254, 130, 80, 85, 232, 293, 298, 301, 213, 168, 291, 216, 290, 308, 261, 171, 267, 242, 219, 248, 237, 243, 279, 246, 273, 78, 255, 253, 230, 74, 210, 235, 231, 208, 259, 304, 241, 199, 224, 206, 61, 129, 222, 223, 141, 149, 131, 225, 71, 189, 265, 226, 70, 179, 192, 134, 209, 173, 234, 76, 236, 212, 69, 218, 120, 177, 238, 204, 229, 215, 165, 211, 195, 64, 202, 194, 190, 193, 203, 67, 214, 79, 205, 244, 196, 111, 187, 65, 200, 63, 198, 217, 135, 68, 184, 167, 148, 207, 142, 185, 133, 191, 181, 197, 43, 66, 175, 182, 51, 180, 169, 186, 137, 188, 176, 132, 60, 178, 147, 163, 183, 162, 152, 170, 172, 174, 159, 161, 154, 153, 128, 62, 166, 53, 155, 56, 151, 164, 158, 46, 150, 59, 55, 58, 156, 146, 52, 136, 54, 47, 48, 145, 40, 57\n",
      "\n",
      "Dribbling: 96, 88, 12, 95, 85, 90, 27, 92, 21, 70, 91, 69, 13, 30, 87, 65, 79, 83, 23, 80, 18, 93, 77, 63, 76, 16, 59, 81, 11, 84, 10, 75, 78, 55, 15, 86, 66, 67, 28, 57, 64, 82, 62, 19, 53, 72, 50, 26, 43, 89, 73, 20, 14, 68, 71, 74, 22, 54, 56, 61, 9, 24, 60, 25, 8, 17, 47, 58, 46, 42, 51, 52, 49, 44, 35, 48, 39, 29, 40, 45, 34, 31, 33, 38, 41, 32, 7, 37, 36, 5, 6\n",
      "\n",
      "Curve: 93, 81, 13, 85, 88, 79, 83, 19, 18, 60, 76, 63, 14, 74, 77, 49, 15, 80, 12, 28, 86, 84, 82, 61, 71, 11, 66, 16, 89, 70, 21, 46, 78, 67, 58, 65, 48, 34, 90, 59, 55, 87, 62, 9, 56, 36, 30, 32, 73, 69, 68, 75, 45, 10, 72, 64, 41, 23, 47, 20, 51, 25, 44, 17, 54, 57, 53, 33, 40, 50, 39, 35, 52, 42, 37, 43, 26, 31, 92, 91, 29, 94, 27, 38, 22, 24, 8, 6, 7, 5, 4\n",
      "\n",
      "FK.Accuracy: 94, 76, 14, 83, 89, 85, 69, 18, 63, 12, 70, 64, 74, 20, 11, 73, 49, 61, 88, 68, 28, 79, 84, 48, 67, 38, 87, 53, 65, 15, 31, 78, 82, 10, 51, 59, 19, 47, 52, 57, 43, 13, 77, 54, 75, 86, 55, 30, 62, 32, 58, 93, 8, 66, 71, 81, 92, 44, 17, 60, 40, 16, 72, 46, 35, 45, 29, 21, 56, 80, 24, 22, 39, 42, 26, 41, 9, 37, 27, 50, 33, 25, 36, 91, 34, 23, 7, 6, 90, 5\n",
      "\n",
      "Long.Passing: 91, 77, 40, 93, 81, 70, 75, 44, 63, 86, 71, 84, 35, 59, 73, 83, 64, 69, 79, 82, 68, 89, 76, 80, 87, 37, 65, 36, 50, 53, 78, 47, 74, 48, 31, 85, 24, 55, 90, 54, 62, 32, 49, 66, 67, 51, 28, 46, 52, 72, 56, 41, 45, 22, 88, 61, 33, 12, 60, 17, 27, 29, 23, 38, 16, 58, 34, 25, 39, 21, 30, 42, 43, 57, 20, 26, 18, 19, 13, 15, 11, 14, 9, 10, 5, 8\n",
      "\n",
      "Ball.Control: 96, 92, 30, 95, 88, 89, 90, 77, 79, 23, 46, 83, 80, 85, 94, 40, 84, 16, 74, 91, 87, 82, 78, 19, 61, 22, 34, 38, 81, 25, 86, 76, 69, 28, 93, 75, 35, 60, 63, 73, 18, 71, 15, 21, 72, 14, 65, 20, 24, 27, 70, 33, 17, 62, 64, 9, 68, 67, 32, 26, 66, 52, 11, 57, 58, 29, 12, 37, 10, 36, 13, 31, 55, 59, 39, 54, 56, 48, 44, 51, 50, 47, 49, 53, 5, 42, 8, 45, 43, 41, 7\n",
      "\n",
      "Movement: 451, 431, 307, 398, 453, 407, 460, 268, 458, 254, 354, 343, 284, 286, 388, 378, 424, 464, 420, 399, 437, 322, 367, 272, 328, 448, 332, 425, 435, 391, 434, 400, 331, 349, 429, 416, 312, 326, 418, 419, 417, 386, 321, 409, 374, 304, 403, 351, 401, 365, 414, 292, 323, 299, 433, 350, 348, 413, 320, 281, 427, 353, 364, 410, 428, 316, 381, 442, 375, 288, 395, 385, 251, 319, 444, 383, 298, 411, 412, 415, 393, 397, 443, 423, 387, 422, 327, 390, 362, 352, 406, 277, 361, 421, 396, 384, 450, 338, 363, 359, 287, 297, 430, 382, 377, 380, 438, 449, 257, 371, 339, 341, 404, 345, 394, 295, 246, 265, 258, 366, 294, 314, 266, 405, 218, 337, 267, 220, 376, 309, 283, 426, 347, 244, 240, 291, 340, 250, 305, 290, 317, 334, 355, 333, 389, 330, 318, 441, 402, 344, 335, 219, 264, 408, 274, 373, 379, 256, 229, 392, 372, 360, 262, 346, 278, 248, 368, 279, 269, 336, 342, 236, 370, 243, 315, 249, 227, 329, 239, 369, 223, 282, 358, 271, 313, 270, 356, 263, 184, 311, 436, 432, 221, 301, 190, 259, 308, 235, 260, 217, 275, 285, 210, 234, 276, 310, 447, 180, 446, 300, 303, 209, 247, 252, 231, 357, 226, 238, 280, 440, 237, 245, 296, 325, 273, 306, 196, 242, 199, 178, 222, 445, 324, 293, 302, 289, 214, 192, 206, 225, 197, 241, 230, 188, 202, 208, 203, 216, 213, 224, 439, 212, 232, 253, 228, 189, 204, 205, 207, 198, 168, 255, 215, 194, 191, 185, 145, 261, 156, 201, 193, 181, 233, 195, 183, 152, 211, 160, 173, 170, 176, 147, 143, 159, 187, 169, 200, 165, 163, 177, 179, 167, 139, 162, 175, 155, 166, 172, 174, 154, 164, 182, 150, 186, 146, 138, 157, 137, 135, 171, 158, 161, 149, 124, 144, 151, 148, 141, 134, 153, 126, 142, 125, 132, 127, 140, 133, 130, 131, 136, 122\n",
      "\n",
      "Acceleration: 91, 87, 43, 77, 94, 56, 96, 38, 72, 95, 60, 42, 54, 79, 89, 64, 66, 51, 73, 57, 80, 86, 85, 78, 40, 82, 76, 65, 68, 90, 48, 46, 88, 70, 83, 84, 93, 52, 74, 92, 55, 58, 59, 67, 81, 62, 44, 71, 69, 50, 53, 45, 49, 75, 41, 61, 63, 35, 47, 34, 36, 37, 39, 30, 97, 31, 33, 32, 27, 28, 26, 29, 25, 17, 19, 24, 15, 23, 21, 20, 22, 16, 18, 13, 14\n",
      "\n",
      "Sprint.Speed: 80, 91, 60, 76, 89, 78, 92, 47, 96, 50, 79, 93, 69, 52, 72, 70, 90, 66, 82, 63, 55, 77, 86, 81, 83, 85, 65, 68, 53, 43, 94, 62, 58, 61, 87, 64, 67, 54, 88, 75, 95, 73, 49, 84, 56, 44, 74, 51, 57, 46, 59, 71, 37, 34, 33, 42, 30, 35, 48, 39, 45, 40, 18, 38, 41, 27, 32, 29, 28, 36, 26, 31, 22, 25, 23, 15, 20, 17, 16, 24, 19, 21, 12, 14\n",
      "\n",
      "Agility: 91, 87, 67, 78, 96, 77, 40, 92, 37, 61, 93, 51, 79, 84, 94, 82, 60, 69, 47, 52, 63, 74, 59, 66, 86, 85, 57, 55, 76, 75, 73, 62, 72, 90, 68, 64, 80, 56, 48, 83, 41, 81, 54, 88, 33, 65, 49, 71, 89, 45, 70, 43, 50, 32, 42, 39, 58, 36, 34, 53, 46, 95, 44, 38, 21, 29, 35, 31, 19, 26, 30, 22, 28, 24, 25, 23, 27, 14, 18, 15, 20\n",
      "\n",
      "Reactions: 94, 95, 88, 91, 93, 92, 86, 89, 87, 84, 90, 83, 85, 82, 81, 79, 80, 74, 75, 78, 77, 73, 76, 71, 70, 68, 72, 66, 69, 65, 67, 64, 59, 60, 62, 63, 61, 58, 57, 56, 50, 54, 53, 55, 52, 32, 49, 48, 45, 51, 46, 47, 37, 34, 44, 40, 38, 43, 41, 35, 42, 33, 39, 31, 36, 30, 24, 29, 28\n",
      "\n",
      "Balance: 95, 71, 49, 76, 83, 82, 91, 37, 43, 53, 86, 66, 45, 35, 69, 94, 92, 84, 90, 48, 73, 36, 41, 93, 74, 60, 79, 65, 78, 61, 57, 50, 68, 51, 54, 77, 81, 39, 75, 58, 87, 85, 63, 38, 88, 67, 72, 62, 80, 44, 46, 42, 55, 40, 70, 32, 89, 52, 59, 47, 64, 27, 56, 30, 31, 25, 34, 29, 24, 96, 33, 28, 20, 23, 22, 26, 21, 17, 97, 19, 12, 18\n",
      "\n",
      "Power: 389, 444, 268, 408, 357, 420, 393, 240, 404, 402, 406, 437, 249, 284, 400, 403, 358, 381, 382, 273, 424, 264, 316, 361, 355, 328, 370, 350, 365, 348, 411, 395, 385, 257, 337, 250, 379, 371, 409, 223, 398, 388, 241, 347, 308, 426, 378, 343, 341, 262, 325, 345, 359, 399, 421, 396, 315, 253, 368, 336, 340, 366, 387, 369, 375, 260, 326, 346, 373, 412, 364, 279, 376, 372, 415, 356, 333, 338, 342, 410, 407, 430, 394, 354, 331, 239, 234, 392, 270, 422, 374, 360, 391, 300, 335, 242, 327, 215, 397, 321, 390, 339, 383, 265, 288, 224, 351, 252, 429, 416, 380, 413, 377, 405, 349, 232, 386, 362, 192, 320, 251, 329, 271, 237, 427, 259, 255, 266, 227, 353, 258, 243, 263, 291, 302, 306, 332, 363, 256, 247, 301, 287, 322, 419, 312, 245, 297, 401, 344, 235, 289, 233, 317, 334, 216, 367, 352, 318, 226, 324, 219, 319, 292, 244, 423, 323, 304, 208, 314, 313, 193, 299, 303, 311, 229, 211, 225, 309, 330, 238, 305, 220, 296, 212, 231, 283, 207, 198, 281, 384, 307, 272, 298, 248, 310, 267, 214, 282, 274, 280, 230, 228, 221, 277, 276, 285, 290, 269, 246, 294, 293, 195, 236, 295, 217, 189, 275, 201, 278, 194, 206, 218, 176, 205, 185, 196, 222, 204, 188, 197, 209, 286, 168, 254, 200, 183, 179, 159, 180, 187, 164, 178, 190, 213, 202, 186, 191, 261, 210, 203, 173, 199, 169, 152, 181, 175, 184, 182, 170, 160, 162, 167, 177, 139, 161, 172, 165, 171, 128, 174, 158, 153, 166, 155, 163, 151, 122, 142, 143, 156, 149, 144, 157, 147, 154, 150, 134, 140\n",
      "\n",
      "Shot.Power: 86, 94, 59, 91, 80, 89, 64, 66, 81, 84, 88, 56, 68, 79, 78, 71, 82, 70, 55, 76, 61, 83, 51, 52, 90, 87, 62, 72, 77, 74, 50, 57, 58, 85, 60, 75, 67, 65, 93, 46, 54, 69, 41, 73, 40, 53, 95, 43, 63, 42, 48, 31, 44, 37, 49, 39, 45, 38, 47, 30, 33, 25, 34, 36, 28, 27, 32, 26, 35, 23, 22, 29, 20, 24, 21, 18\n",
      "\n",
      "Jumping: 68, 95, 78, 63, 62, 84, 69, 52, 77, 79, 90, 86, 87, 93, 57, 75, 66, 82, 56, 32, 51, 76, 72, 81, 74, 71, 67, 65, 73, 64, 70, 80, 85, 37, 89, 60, 49, 50, 83, 58, 53, 59, 88, 38, 92, 34, 61, 46, 43, 36, 91, 39, 45, 42, 40, 54, 33, 55, 31, 44, 35, 47, 48, 30, 41, 94, 28, 29, 27, 24, 19, 26, 17, 15, 22\n",
      "\n",
      "Stamina: 72, 84, 41, 89, 81, 76, 85, 32, 86, 35, 75, 88, 90, 38, 43, 78, 79, 96, 95, 70, 82, 77, 93, 94, 87, 39, 54, 80, 45, 83, 69, 65, 73, 91, 34, 66, 71, 92, 62, 67, 64, 63, 68, 36, 61, 74, 42, 40, 23, 44, 31, 57, 20, 37, 29, 30, 56, 60, 52, 48, 58, 25, 51, 26, 27, 59, 28, 53, 33, 49, 97, 55, 50, 46, 24, 21, 22, 15, 47, 17, 19, 16, 18, 14, 12\n",
      "\n",
      "Strength: 69, 78, 74, 50, 86, 75, 76, 92, 70, 91, 80, 85, 65, 72, 67, 60, 84, 71, 94, 63, 73, 62, 54, 81, 64, 87, 58, 43, 77, 66, 53, 89, 68, 46, 44, 61, 79, 88, 59, 83, 55, 34, 82, 95, 56, 37, 90, 57, 93, 49, 39, 51, 52, 40, 48, 41, 47, 35, 42, 33, 45, 32, 38, 30, 31, 36, 29, 27, 24, 28, 16, 97, 96, 20, 25, 26, 23\n",
      "\n",
      "Long.Shots: 94, 93, 12, 91, 84, 85, 14, 79, 10, 64, 78, 81, 17, 16, 65, 87, 18, 86, 19, 15, 82, 63, 74, 76, 47, 89, 70, 90, 77, 13, 49, 54, 88, 80, 53, 58, 51, 73, 66, 75, 83, 30, 46, 35, 71, 61, 72, 69, 43, 48, 62, 41, 60, 11, 26, 57, 59, 68, 67, 7, 27, 56, 20, 52, 92, 50, 22, 40, 39, 44, 31, 42, 9, 6, 55, 28, 23, 38, 24, 25, 34, 36, 29, 4, 8, 45, 33, 37, 21, 32, 5\n",
      "\n",
      "Mentality: 347, 353, 140, 408, 356, 391, 376, 341, 171, 358, 396, 122, 188, 363, 414, 332, 386, 379, 348, 172, 382, 123, 294, 378, 313, 371, 331, 412, 345, 377, 161, 306, 387, 339, 135, 360, 138, 369, 359, 170, 361, 321, 397, 394, 385, 366, 162, 337, 362, 344, 319, 315, 144, 336, 340, 373, 398, 324, 300, 338, 384, 139, 364, 372, 134, 354, 342, 308, 322, 383, 263, 149, 304, 367, 357, 390, 291, 279, 310, 388, 375, 349, 351, 365, 133, 334, 303, 380, 153, 392, 169, 318, 350, 352, 401, 302, 325, 346, 132, 399, 281, 335, 403, 307, 368, 141, 126, 328, 245, 131, 320, 127, 421, 400, 137, 374, 305, 92, 316, 311, 120, 389, 145, 355, 148, 343, 142, 130, 121, 157, 329, 323, 115, 150, 298, 154, 317, 295, 100, 301, 326, 327, 197, 273, 287, 370, 290, 103, 393, 312, 297, 89, 271, 299, 124, 333, 258, 309, 158, 272, 118, 314, 330, 292, 404, 101, 280, 277, 296, 248, 285, 278, 109, 93, 146, 286, 284, 288, 105, 152, 111, 160, 119, 156, 95, 99, 238, 104, 266, 276, 275, 265, 106, 254, 293, 282, 168, 260, 136, 102, 267, 113, 289, 96, 270, 176, 164, 128, 268, 283, 244, 182, 243, 240, 116, 264, 112, 274, 261, 114, 269, 110, 257, 179, 155, 252, 262, 151, 247, 108, 256, 117, 249, 253, 231, 159, 163, 84, 251, 97, 91, 75, 147, 129, 230, 242, 250, 259, 125, 381, 77, 175, 82, 88, 90, 165, 83, 195, 87, 246, 255, 85, 94, 226, 216, 236, 220, 107, 241, 228, 198, 239, 225, 181, 233, 219, 166, 183, 98, 237, 235, 86, 229, 217, 143, 232, 209, 234, 224, 206, 227, 222, 80, 78, 186, 221, 173, 214, 187, 79, 68, 167, 81, 218, 212, 199, 210, 74, 223, 208, 213, 201, 72, 215, 202, 205, 203, 204, 190, 76, 211, 207, 192, 70, 194, 196, 189, 66, 193, 200, 67, 191, 184, 71, 64, 65, 69, 177, 63, 73, 51, 58, 180, 185, 174, 60, 55, 178, 62, 50, 59\n",
      "\n",
      "Aggression: 44, 63, 34, 76, 51, 81, 27, 62, 43, 83, 75, 91, 23, 29, 90, 65, 59, 89, 48, 38, 25, 87, 54, 60, 73, 74, 69, 85, 70, 86, 32, 40, 31, 77, 84, 80, 78, 79, 71, 56, 42, 30, 61, 58, 28, 82, 46, 52, 36, 92, 55, 35, 67, 37, 72, 57, 50, 64, 39, 47, 20, 68, 15, 66, 33, 93, 88, 22, 24, 45, 17, 18, 26, 21, 11, 41, 53, 19, 12, 49, 94, 16, 95, 13, 14, 96, 10, 9\n",
      "\n",
      "Interceptions: 40, 29, 19, 66, 36, 49, 55, 11, 38, 22, 90, 35, 87, 15, 30, 39, 88, 24, 91, 82, 42, 27, 41, 79, 74, 58, 20, 85, 48, 83, 64, 21, 50, 81, 78, 28, 86, 26, 34, 52, 37, 80, 25, 56, 23, 47, 45, 77, 84, 44, 53, 18, 46, 72, 61, 89, 54, 63, 65, 73, 16, 32, 76, 59, 13, 70, 31, 69, 33, 17, 75, 68, 60, 51, 71, 12, 57, 10, 43, 67, 14, 9, 62, 8, 7, 6, 4, 5, 3\n",
      "\n",
      "Positioning: 93, 95, 11, 88, 87, 94, 91, 13, 47, 92, 72, 12, 90, 73, 80, 85, 20, 35, 76, 89, 83, 77, 54, 70, 86, 16, 28, 14, 84, 78, 10, 75, 52, 71, 81, 64, 56, 15, 82, 79, 44, 30, 59, 7, 68, 38, 48, 67, 24, 26, 34, 69, 74, 32, 66, 62, 65, 51, 18, 31, 9, 25, 49, 55, 63, 27, 61, 17, 39, 58, 29, 50, 40, 19, 8, 42, 60, 57, 37, 45, 43, 53, 5, 4, 36, 6, 46, 41, 23, 22, 33, 21, 3, 2\n",
      "\n",
      "Vision: 95, 82, 65, 94, 90, 79, 84, 66, 80, 70, 85, 44, 87, 71, 83, 41, 52, 86, 68, 50, 77, 48, 88, 30, 61, 74, 59, 73, 72, 64, 91, 78, 63, 57, 89, 62, 56, 69, 42, 67, 27, 76, 81, 55, 75, 60, 49, 45, 58, 22, 53, 46, 25, 43, 51, 40, 93, 33, 31, 34, 35, 39, 47, 21, 32, 28, 37, 36, 38, 54, 24, 23, 14, 11, 15, 26, 19, 18, 12, 20, 17, 10, 29, 13, 16, 9\n",
      "\n",
      "Penalties: 75, 84, 11, 92, 88, 83, 23, 70, 25, 62, 71, 66, 27, 47, 69, 54, 44, 86, 17, 90, 33, 87, 73, 60, 55, 68, 91, 72, 50, 78, 18, 82, 40, 29, 45, 43, 64, 24, 59, 46, 56, 81, 67, 49, 61, 74, 58, 63, 79, 38, 80, 32, 20, 76, 77, 41, 19, 26, 85, 21, 52, 34, 53, 65, 57, 16, 42, 89, 15, 13, 14, 22, 51, 37, 9, 48, 12, 31, 36, 39, 10, 30, 35, 28, 8, 7, 6\n",
      "\n",
      "Composure: 96, 95, 68, 91, 93, 88, 90, 65, 84, 70, 66, 80, 85, 69, 82, 89, 81, 87, 83, 86, 67, 92, 94, 57, 78, 79, 75, 45, 61, 76, 58, 62, 77, 74, 59, 55, 48, 40, 64, 73, 39, 71, 72, 63, 60, 52, 53, 56, 44, 54, 41, 32, 49, 46, 31, 51, 50, 25, 18, 38, 30, 24, 21, 36, 33, 26, 23, 47, 22, 28, 34, 35, 37, 43, 27, 12, 42, 17, 29, 13, 19, 14, 16, 20, 15\n",
      "\n",
      "Defending: 91, 84, 57, 186, 94, 96, 122, 50, 100, 48, 272, 259, 54, 38, 89, 263, 83, 147, 264, 245, 120, 52, 130, 267, 205, 162, 105, 241, 148, 248, 266, 194, 258, 117, 166, 56, 249, 92, 45, 214, 140, 99, 150, 59, 251, 262, 243, 195, 160, 40, 114, 236, 244, 231, 80, 123, 253, 132, 103, 257, 261, 98, 78, 209, 229, 230, 60, 101, 206, 242, 138, 61, 256, 171, 260, 226, 224, 44, 131, 113, 240, 77, 232, 225, 109, 228, 247, 93, 121, 238, 111, 128, 188, 173, 250, 255, 41, 144, 239, 217, 106, 165, 246, 235, 126, 118, 203, 234, 135, 215, 175, 192, 108, 39, 33, 151, 156, 174, 47, 216, 237, 102, 227, 161, 233, 67, 213, 75, 212, 36, 254, 196, 88, 81, 134, 53, 155, 223, 43, 125, 46, 51, 137, 71, 95, 35, 208, 110, 170, 87, 107, 55, 204, 177, 69, 152, 163, 37, 181, 252, 159, 133, 124, 207, 82, 97, 65, 42, 79, 104, 211, 129, 49, 157, 153, 185, 189, 146, 86, 112, 73, 127, 31, 220, 164, 191, 219, 139, 64, 183, 66, 197, 90, 218, 34, 72, 221, 222, 142, 63, 136, 179, 85, 169, 180, 74, 210, 62, 187, 145, 198, 184, 199, 32, 30, 58, 172, 178, 116, 176, 70, 202, 141, 115, 193, 149, 29, 201, 167, 168, 182, 119, 190, 200, 76, 143, 158, 154, 68, 28, 27, 25, 24, 26, 23, 20, 21\n",
      "\n",
      "Marking: 32, 28, 27, 68, 35, 38, 15, 34, 25, 93, 42, 84, 20, 17, 47, 85, 30, 89, 82, 29, 56, 91, 72, 59, 79, 49, 83, 86, 50, 60, 94, 41, 57, 78, 63, 88, 90, 9, 58, 74, 39, 92, 45, 36, 44, 87, 70, 76, 53, 80, 67, 77, 12, 48, 55, 75, 81, 11, 64, 69, 14, 24, 52, 65, 19, 31, 13, 10, 66, 71, 54, 46, 22, 40, 18, 51, 37, 43, 61, 26, 73, 21, 7, 33, 62, 16, 23, 8, 6, 5, 4, 3\n",
      "\n",
      "Standing.Tackle: 35, 32, 12, 65, 30, 42, 43, 19, 34, 13, 93, 88, 18, 10, 24, 29, 53, 90, 84, 48, 15, 36, 89, 27, 73, 54, 41, 83, 59, 67, 87, 64, 14, 55, 75, 45, 33, 57, 21, 82, 50, 86, 80, 79, 31, 46, 85, 40, 44, 56, 20, 70, 76, 81, 71, 16, 68, 37, 38, 78, 39, 77, 11, 74, 28, 49, 47, 72, 61, 51, 22, 17, 52, 63, 23, 60, 25, 26, 9, 62, 58, 66, 69, 7, 8, 6, 5\n",
      "\n",
      "Sliding.Tackle: 24, 18, 53, 29, 19, 41, 16, 32, 10, 86, 38, 87, 11, 90, 47, 85, 79, 40, 8, 13, 22, 60, 49, 81, 88, 55, 33, 42, 14, 80, 36, 12, 52, 71, 46, 83, 65, 84, 34, 82, 77, 78, 74, 20, 43, 35, 69, 70, 30, 68, 45, 57, 44, 21, 75, 26, 51, 76, 39, 48, 28, 63, 59, 66, 72, 17, 67, 64, 31, 25, 15, 54, 58, 62, 56, 23, 37, 73, 50, 27, 9, 61, 7, 6, 4\n",
      "\n",
      "Goalkeeping: 54, 58, 437, 56, 59, 51, 62, 439, 42, 67, 420, 440, 41, 46, 63, 60, 26, 435, 424, 43, 45, 52, 50, 47, 53, 44, 418, 15, 48, 416, 153, 413, 65, 64, 20, 423, 49, 55, 66, 40, 57, 421, 13, 39, 61, 419, 21, 409, 37, 406, 410, 36, 408, 34, 29, 405, 403, 402, 407, 16, 69, 391, 401, 398, 400, 22, 68, 396, 38, 78, 73, 399, 390, 393, 395, 397, 80, 70, 389, 394, 388, 27, 30, 75, 71, 386, 74, 378, 385, 384, 380, 392, 381, 10, 387, 383, 375, 382, 19, 379, 24, 369, 356, 368, 373, 370, 372, 72, 374, 376, 364, 25, 367, 17, 377, 371, 365, 352, 362, 359, 363, 366, 82, 35, 361, 358, 76, 294, 83, 357, 360, 355, 354, 77, 229, 350, 353, 347, 351, 32, 349, 169, 346, 348, 343, 345, 339, 342, 33, 341, 28, 119, 337, 338, 340, 344, 335, 98, 324, 248, 334, 298, 336, 328, 331, 321, 332, 81, 79, 333, 278, 329, 261, 325, 31, 327, 330, 322, 305, 326, 283, 320, 323, 318, 18, 319, 316, 317, 272, 315, 88, 311, 310, 314, 313, 307, 312, 309, 308, 301, 304, 292, 303, 306, 296, 289, 300, 302, 297, 290, 299, 293, 295, 291, 288, 93, 284, 287, 286, 285, 273, 282, 279, 281, 280, 277, 275, 276, 274, 270, 271, 268, 269, 267, 260, 265, 262, 266, 263, 264, 251, 259, 254, 257, 252, 255, 256, 258, 247, 250, 243, 253, 249, 245, 236, 246, 234, 241, 231\n",
      "\n",
      "GK.Diving: 6, 7, 87, 15, 9, 14, 86, 13, 88, 10, 84, 11, 8, 5, 12, 90, 3, 27, 89, 80, 16, 85, 2, 82, 79, 83, 4, 81, 77, 18, 78, 17, 75, 74, 76, 73, 71, 72, 52, 68, 70, 54, 69, 32, 66, 65, 67, 61, 22, 64, 23, 40, 63, 55, 19, 50, 62, 58, 60, 59, 56, 57, 53, 51, 49, 46, 48, 47, 45\n",
      "\n",
      "GK.Handling: 11, 92, 13, 9, 6, 14, 88, 5, 85, 10, 89, 87, 8, 15, 12, 4, 82, 81, 3, 7, 25, 86, 83, 2, 80, 16, 77, 79, 78, 76, 84, 75, 72, 74, 71, 69, 73, 70, 67, 68, 65, 61, 62, 64, 41, 63, 66, 33, 22, 17, 57, 18, 54, 55, 59, 49, 19, 40, 60, 58, 43, 45, 53, 47, 56, 51, 52, 50, 48, 46\n",
      "\n",
      "GK.Kicking: 15, 78, 5, 12, 9, 85, 7, 88, 13, 16, 74, 91, 6, 10, 4, 93, 11, 73, 14, 75, 2, 31, 68, 76, 8, 80, 82, 3, 87, 72, 83, 77, 79, 81, 69, 71, 20, 67, 70, 64, 65, 63, 44, 60, 84, 54, 48, 61, 18, 66, 17, 59, 62, 90, 43, 38, 58, 57, 28, 40, 53, 23, 47, 46, 19, 51, 55, 52, 56, 22, 30, 25, 42, 35, 21, 49, 50, 36, 45\n",
      "\n",
      "GK.Positioning: 14, 90, 10, 15, 8, 11, 91, 88, 7, 12, 85, 86, 5, 89, 13, 6, 82, 4, 9, 87, 33, 84, 16, 83, 2, 3, 79, 81, 80, 76, 78, 19, 77, 17, 75, 74, 73, 71, 18, 72, 70, 69, 66, 68, 40, 64, 20, 32, 67, 62, 65, 63, 24, 23, 50, 55, 58, 51, 59, 56, 61, 57, 60, 46, 54, 53, 52, 47, 49, 48, 43, 45, 42, 38, 44, 41\n",
      "\n",
      "GK.Reflexes: 8, 11, 90, 13, 10, 14, 89, 6, 12, 88, 7, 9, 15, 5, 3, 37, 85, 86, 4, 16, 82, 83, 84, 87, 78, 80, 20, 18, 79, 81, 19, 77, 17, 2, 74, 71, 76, 73, 75, 72, 69, 46, 66, 51, 70, 34, 67, 23, 68, 45, 65, 21, 59, 54, 47, 61, 64, 63, 62, 60, 58, 56, 57, 55, 53, 50, 52, 49, 48, 44\n",
      "\n",
      "Total.Stats: 2231, 2221, 1413, 2304, 2175, 2195, 2211, 1389, 2147, 1442, 2112, 2203, 2220, 1325, 1515, 2111, 2258, 2118, 2169, 2269, 2154, 1534, 2172, 1317, 1734, 2105, 2150, 2288, 1986, 2124, 2127, 1983, 2303, 2171, 2128, 2208, 1380, 1830, 2021, 2072, 2168, 2252, 2316, 1361, 2057, 2117, 1449, 2133, 1933, 2235, 2119, 1991, 2040, 1366, 2060, 2065, 2224, 2093, 2225, 2095, 2058, 1988, 1813, 2149, 1330, 2071, 2086, 2096, 1930, 1962, 2034, 2191, 2026, 2170, 1946, 2185, 2001, 2031, 2037, 1372, 2019, 2178, 2179, 2188, 2090, 1315, 1967, 2023, 2048, 1875, 2267, 2181, 2120, 1761, 1458, 2083, 2039, 2115, 2027, 2282, 1947, 2183, 2163, 1697, 2148, 1821, 2255, 2213, 2197, 2080, 2176, 2215, 1286, 2046, 2167, 2247, 2063, 2070, 1823, 2192, 2082, 2075, 1260, 1375, 2122, 2141, 1989, 2107, 2098, 2006, 2066, 2280, 2047, 1824, 2099, 1364, 1346, 1935, 2173, 2068, 2002, 1224, 2212, 2094, 2190, 1782, 2125, 2061, 2210, 1882, 2135, 2062, 2035, 2073, 1385, 1870, 1354, 2076, 1961, 1638, 1197, 2049, 2103, 1299, 1872, 2158, 1242, 2279, 2241, 1918, 2270, 2209, 2161, 1287, 1996, 2005, 2180, 1906, 1852, 1089, 1885, 2155, 1279, 2016, 2020, 2025, 2104, 1313, 2216, 1316, 2262, 1927, 1310, 2114, 2101, 1288, 1228, 1938, 1264, 2102, 1333, 1277, 1374, 2024, 1926, 1976, 2144, 1261, 1292, 1754, 1846, 2142, 2030, 1405, 2239, 1924, 2153, 1940, 1749, 1881, 1942, 2151, 1948, 2033, 1874, 1904, 2003, 1945, 1246, 1864, 1884, 2164, 1994, 2078, 2044, 1790, 1995, 1972, 1281, 2132, 1258, 1903, 2166, 2202, 1384, 1741, 2059, 1208, 1865, 1955, 1484, 1680, 2227, 1954, 2097, 1321, 1958, 1871, 2014, 2084, 2113, 2053, 1811, 2157, 1256, 1206, 1915, 1856, 1284, 2018, 1987, 1916, 1917, 2050, 1855, 1902, 2007, 1931, 1216, 1825, 1217, 1928, 2064, 1788, 1974, 1834, 1799, 1993, 1990, 1883, 1950, 1276, 2077, 2177, 1271, 2081, 1970, 2152, 2056, 1894, 1951, 1706, 2100, 2045, 1969, 2051, 1973, 1858, 1151, 1768, 1845, 1966, 1862, 1367, 1929, 2131, 2134, 1880, 1925, 2009, 1839, 1311, 1982, 1873, 1373, 1887, 1905, 2199, 2182, 1717, 1934, 1243, 1971, 1959, 1920, 1179, 1777, 2160, 1853, 1639, 1042, 1792, 2012, 2043, 1836, 1956, 2087, 1980, 1896, 1897, 1815, 2069, 1964, 1859, 1944, 1907, 1191, 1968, 1877, 1932, 2017, 1828, 1757, 1908, 1939, 1842, 1953, 2106, 1672, 2052, 2201, 1893, 1704, 1634, 1229, 1240, 1076, 1914, 1999, 2092, 1205, 1910, 1898, 2130, 1657, 1776, 1163, 1963, 1250, 1979, 1977, 2139, 2109, 1808, 1800, 1798, 2029, 1878, 1182, 2028, 2067, 1857, 1863, 1879, 1900, 1923, 1403, 2015, 1775, 1195, 1274, 1190, 1911, 1812, 1847, 1171, 1184, 2036, 1771, 1536, 1725, 2089, 1234, 1831, 1670, 1901, 1844, 1676, 1814, 1913, 1978, 1895, 1212, 1155, 1985, 1822, 1349, 1975, 1805, 1785, 1941, 1748, 1617, 2013, 1851, 1984, 1730, 2121, 1965, 1827, 1921, 1810, 2011, 2041, 1786, 2038, 2010, 1263, 1401, 2116, 2022, 1997, 1244, 1766, 1774, 1804, 1848, 1304, 1869, 1600, 1231, 1866, 2091, 2110, 1203, 1692, 1666, 1268, 2004, 1889, 2126, 2055, 1861, 1936, 2079, 1780, 1612, 1957, 1201, 1607, 1919, 1143, 1890, 1245, 1142, 1708, 1347, 1183, 1909, 1230, 1731, 2000, 1219, 1563, 1699, 1719, 1829, 1140, 1293, 1645, 2032, 1802, 2074, 1460, 1892, 1960, 1841, 1860, 1550, 1109, 1868, 1307, 1783, 1650, 1733, 1912, 1784, 1832, 1886, 1562, 1820, 1899, 2088, 1762, 1787, 1594, 1543, 1922, 1694, 1795, 1743, 1724, 1659, 1471, 1793, 1682, 1992, 1837, 1660, 1667, 1616, 1226, 1816, 1876, 1314, 1728, 1211, 1729, 1715, 1189, 1630, 1301, 1200, 1104, 1709, 1801, 1952, 1696, 1169, 1843, 1755, 1779, 1174, 1781, 1605, 1355, 1622, 1797, 1175, 1714, 1658, 1202, 1826, 1758, 1222, 1867, 1891, 1981, 1949, 1640, 1285, 1150, 1215, 2042, 1632, 1655, 1850, 1350, 1937, 1681, 1943, 1252, 1532, 1998, 1849, 1736, 1130, 1220, 1854, 1668, 1578, 1818, 1819, 1833, 1085, 1674, 1233, 1177, 1629, 1693, 1649, 2145, 1621, 1742, 2008, 1106, 1633, 1624, 1651, 1695, 1496, 1199, 1518, 1587, 1739, 1173, 1123, 1417, 1807, 1585, 1225, 1710, 1194, 1778, 1153, 1570, 1745, 1185, 1257, 1214, 1289, 1723, 2054, 1726, 1711, 1678, 1606, 1358, 1738, 1237, 1740, 1763, 1888, 1627, 1747, 1677, 1120, 2123, 1332, 1835, 1746, 1750, 1170, 1255, 1136, 1004, 1529, 1796, 1517, 1145, 1309, 1684, 1772, 1722, 1188, 1530, 1235, 1720, 1794, 1737, 1759, 1192, 1840, 1236, 1218, 1149, 1653, 1683, 1111, 1756, 1490, 1491, 1164, 1809, 1152, 1764, 1523, 1091, 1817, 1181, 1592, 1298, 1689, 2136, 1591, 1623, 1838, 1806, 1688, 1247, 1283, 1712, 1707, 1528, 1789, 1625, 1760, 1187, 1539, 1662, 1221, 1477, 1546, 1126, 1769, 1637, 1598, 1582, 1047, 1157, 1735, 1073, 1773, 1580, 1505, 1352, 1161, 1527, 1167, 1701, 1160, 1232, 1544, 1791, 1721, 1752, 1093, 1062, 1705, 1635, 1588, 1545, 1661, 1583, 1753, 1031, 1687, 1648, 1165, 1209, 1642, 1675, 1238, 1251, 1636, 1050, 1322, 1095, 1114, 1135, 1207, 1751, 1172, 1494, 1498, 1098, 1702, 1178, 1685, 1574, 1718, 975, 1068, 1732, 1673, 1088, 1647, 1137, 1266, 1584, 1138, 1575, 976, 978, 1679, 1770, 1560, 1652, 1744, 1139, 1703, 1686, 1476, 1656, 1198, 1227, 1691, 1396, 1593, 989, 1028, 1765, 1595, 1571, 1110, 1609, 1096, 1614, 1441, 1102, 1727, 1654, 1573, 1043, 1690, 1581, 1275, 1489, 1713, 1117, 1803, 951, 1589, 1767, 1511, 1141, 1551, 1561, 1057, 1223, 1671, 1569, 1576, 1180, 1700, 1628, 1716, 1603, 1620, 1393, 1615, 1213, 1369, 1611, 1558, 1608, 1455, 1468, 1601, 996, 1118, 1626, 1121, 1521, 1168, 1619, 1055, 1669, 1119, 1253, 1547, 1368, 1470, 966, 1461, 1664, 1522, 1499, 1514, 1531, 1101, 1466, 1564, 1663, 1604, 1410, 1324, 1572, 1267, 1577, 1698, 1479, 1024, 1565, 1554, 1646, 1158, 1520, 1555, 1631, 1081, 1159, 1146, 970, 1567, 1549, 1548, 1641, 1467, 1613, 1124, 1107, 1069, 1115, 1186, 1596, 1440, 1537, 1665, 1510, 1040, 1113, 1426, 1602, 1343, 1457, 1044, 1492, 1030, 1420, 1568, 1540, 1122, 1097, 1295, 1469, 1103, 1478, 1552, 1127, 1254, 1063, 999, 1193, 1022, 979, 1618, 1512, 1597, 1509, 1644, 1144, 1092, 1210, 1488, 1027, 1566, 1459, 1430, 1162, 1128, 960, 1525, 1524, 1643, 915, 1001, 1542, 1035, 1154, 1497, 1204, 1526, 1147, 1503, 1553, 1500, 1538, 983, 1453, 1435, 1411, 1133, 1012, 1513, 1493, 1248, 1434, 1557, 1148, 1599, 1280, 1116, 1439, 1080, 1125, 995, 1424, 1473, 1273, 1007, 1586, 1386, 1397, 1483, 1134, 1156, 1508, 1082, 1535, 1294, 1131, 1064, 968, 1059, 1090, 1437, 930, 1065, 1414, 1067, 1610, 1482, 1480, 1105, 1559, 961, 1481, 1590, 1436, 1034, 1108, 1060, 1502, 971, 1504, 1377, 1454, 1556, 1408, 1465, 991, 920, 1000, 1423, 1445, 1533, 1297, 1084, 1451, 1501, 1291, 1053, 1078, 1239, 977, 1447, 1579, 1099, 969, 1365, 1303, 1421, 1290, 1045, 1486, 994, 1475, 914, 1462, 1450, 1176, 1072, 1015, 1516, 1452, 1419, 1495, 1051, 1013, 1399, 1100, 1422, 1074, 911, 1541, 1066, 944, 1429, 1378, 1456, 1391, 1328, 987, 1166, 1054, 1448, 990, 1033, 1132, 1519, 1008, 957, 1463, 1400, 903, 1487, 1023, 1427, 949, 1406, 1362, 1026, 1409, 1071, 919, 1507, 1485, 1433, 1431, 918, 1506, 1392, 1046, 1444, 1018, 1061, 1019, 1048, 1129, 1472, 935, 942, 1049, 1020, 1094, 926, 1086, 1464, 1381, 1398, 1003, 931, 882, 955, 1359, 927, 964, 992, 906, 1070, 958, 962, 890, 1383, 1011, 980, 1382, 1077, 1010, 952, 1025, 1394, 892, 1087, 981, 1446, 1428, 1351, 954, 1363, 1404, 1041, 1432, 1336, 1395, 923, 1425, 1083, 904, 1037, 1412, 948, 945, 936, 1360, 1079, 965, 1039, 998, 1338, 984, 1443, 1418, 972, 921, 1357, 943, 924, 1407, 1002, 1036, 1402, 947, 1356, 1006, 1341, 940, 1021, 1005, 1474, 1370, 1029, 933, 1353, 913, 985, 1112, 874, 1388, 1270, 1038, 982, 1438, 1342, 902, 1376, 1390, 1379, 1415, 917, 1306, 925, 1387, 881, 877, 1327, 986, 1335, 1265, 912, 1344, 897, 950, 1331, 1416, 873, 907, 941, 973, 859, 887, 993, 851, 1337, 1058, 959, 1075, 1282, 1032, 1056, 895, 916, 885, 1296, 1302, 1320, 946, 928, 1340, 884, 905, 862, 929, 1339, 894, 823, 938, 953, 1334, 888, 909, 937, 1017, 879, 1326, 893, 857, 967, 1319, 1278, 1348, 900, 1329, 1371, 1312, 908, 1009, 1052, 910, 864, 889, 858, 828, 891, 863, 932, 880, 856, 1014, 988, 834, 876, 1345, 830, 883, 963, 843, 1308, 844, 1305, 833, 878, 872, 869, 997, 850, 1318, 1262, 855, 899, 829, 1323, 861, 853, 1300, 866, 865, 811, 836, 870, 867, 886, 875, 1269, 841, 835, 868, 922, 901, 847, 845, 812, 837, 842, 846, 1272, 798, 827, 848, 820, 871, 815, 813, 793, 824, 896, 819, 808, 832, 816, 854, 787, 839, 1259, 809, 802, 860, 974, 810, 852, 821, 898, 814, 826, 840, 804, 838, 768, 831, 1196, 818, 825, 822, 760, 779, 817, 794, 786, 788, 795, 792, 749, 803, 763, 801, 849, 757, 747, 956\n",
      "\n",
      "Base.Stats: 466, 464, 489, 485, 451, 457, 470, 490, 484, 455, 469, 463, 468, 497, 442, 439, 473, 452, 498, 449, 477, 401, 446, 447, 465, 430, 461, 422, 476, 460, 453, 467, 471, 399, 424, 441, 459, 438, 437, 454, 428, 445, 431, 474, 421, 435, 448, 475, 403, 444, 443, 419, 405, 420, 423, 396, 388, 482, 478, 385, 394, 480, 433, 450, 462, 456, 436, 434, 429, 400, 440, 425, 410, 458, 398, 413, 373, 406, 408, 472, 426, 407, 432, 427, 415, 481, 417, 372, 380, 418, 383, 414, 409, 412, 411, 386, 362, 402, 390, 404, 391, 416, 375, 389, 361, 397, 366, 392, 393, 382, 368, 387, 352, 376, 384, 378, 379, 341, 354, 369, 395, 357, 381, 377, 344, 360, 370, 338, 333, 367, 363, 349, 355, 345, 358, 348, 374, 351, 343, 342, 353, 321, 350, 365, 364, 371, 327, 331, 359, 347, 356, 339, 319, 317, 335, 346, 329, 315, 324, 322, 325, 332, 336, 337, 330, 316, 313, 306, 307, 328, 310, 340, 308, 318, 334, 301, 289, 302, 320, 323, 326, 311, 297, 314, 304, 292, 305, 312, 294, 287, 300, 299, 285, 303, 288, 278, 296, 277, 309, 291, 283, 286, 293, 295, 298, 276, 282, 272, 284, 290, 271, 275, 279, 281, 262, 263, 280, 268, 270, 269, 264, 273, 265, 252, 267, 257, 274, 266, 259, 247, 261, 251, 233, 239, 253, 258, 254, 260, 244, 240, 255, 256, 250, 238, 243, 249, 248, 245, 241, 232\n",
      "\n",
      "W.F: 4, 3, 5, 2, 1\n",
      "\n",
      "SM: 4, 5, 1, 2, 3\n",
      "\n",
      "A.W: Medium, High, Low\n",
      "\n",
      "D.W: Low, Medium, High\n",
      "\n",
      "IR: 5, 3, 4, 2, 1\n",
      "\n",
      "PAC: 85, 89, 87, 76, 91, 78, 93, 86, 96, 88, 94, 65, 84, 74, 71, 77, 68, 75, 54, 79, 83, 80, 81, 82, 63, 67, 90, 66, 42, 73, 70, 64, 57, 58, 69, 72, 50, 59, 92, 60, 62, 55, 52, 56, 61, 53, 45, 37, 95, 43, 44, 46, 48, 49, 47, 34, 39, 40, 51, 41, 36, 32, 33, 30, 31, 38, 35, 28, 29, 25\n",
      "\n",
      "SHO: 92, 93, 86, 85, 91, 88, 60, 73, 89, 87, 70, 90, 81, 66, 72, 82, 28, 74, 77, 62, 50, 83, 69, 80, 46, 76, 54, 49, 61, 58, 79, 68, 59, 41, 45, 64, 78, 55, 75, 65, 63, 48, 42, 56, 51, 30, 47, 84, 40, 57, 25, 71, 37, 43, 53, 67, 38, 52, 39, 35, 36, 44, 32, 34, 33, 31, 27, 22, 29, 26, 23, 18, 24, 20, 16, 21, 19, 17\n",
      "\n",
      "PAS: 91, 81, 78, 93, 86, 85, 88, 71, 80, 76, 74, 77, 79, 84, 73, 55, 83, 87, 72, 75, 58, 89, 82, 68, 67, 64, 66, 59, 69, 90, 65, 53, 63, 62, 70, 56, 42, 54, 61, 57, 60, 48, 52, 47, 46, 44, 45, 50, 51, 49, 43, 36, 38, 40, 41, 35, 39, 34, 33, 37, 30, 32, 29, 31, 26, 28, 25, 27\n",
      "\n",
      "DRI: 95, 89, 90, 88, 94, 85, 91, 71, 72, 86, 73, 81, 84, 92, 80, 68, 77, 87, 60, 83, 78, 64, 67, 79, 69, 66, 65, 70, 82, 75, 61, 74, 54, 76, 49, 63, 59, 62, 56, 55, 50, 57, 58, 52, 53, 51, 48, 47, 46, 39, 44, 43, 36, 40, 45, 41, 37, 34, 35, 42, 32, 38, 31, 33, 30, 29, 28, 25, 27\n",
      "\n",
      "DEF: 38, 35, 52, 64, 36, 43, 45, 51, 39, 91, 44, 86, 48, 57, 40, 88, 33, 81, 63, 47, 53, 89, 71, 37, 80, 68, 85, 61, 90, 83, 49, 56, 58, 82, 87, 79, 66, 55, 78, 32, 50, 76, 77, 70, 75, 41, 29, 73, 65, 59, 84, 54, 72, 46, 42, 69, 34, 31, 30, 74, 24, 62, 25, 20, 26, 60, 27, 23, 28, 67, 22, 19, 18, 21, 17, 15, 16, 12\n",
      "\n",
      "PHY: 65, 77, 90, 78, 59, 82, 75, 91, 76, 88, 86, 85, 73, 67, 79, 63, 83, 89, 66, 69, 72, 64, 71, 81, 87, 68, 84, 80, 55, 70, 44, 62, 51, 57, 60, 58, 56, 74, 52, 61, 53, 45, 50, 54, 47, 48, 49, 42, 37, 40, 39, 43, 38, 46, 41, 34, 35, 36, 31, 32, 33, 29, 28\n",
      "\n",
      "Hits: 771, 562, 150, 207, 595, 248, 246, 120, 1600, 130, 321, 189, 175, 96, 118, 216, 212, 154, 205, 202, 339, 408, 103, 332, 86, 173, 161, 396, 1100, 433, 242, 206, 177, 1500, 198, 459, 117, 119, 209, 84, 187, 165, 203, 65, 336, 126, 313, 124, 145, 538, 182, 101, 45, 377, 99, 194, 403, 414, 593, 374, 245, 3200, 266, 299, 309, 215, 265, 211, 112, 337, 70, 159, 688, 116, 63, 144, 123, 71, 224, 113, 168, 61, 89, 137, 278, 75, 148, 176, 197, 264, 214, 247, 402, 440, 1700, 2300, 171, 320, 657, 87, 259, 200, 255, 253, 196, 60, 97, 85, 169, 256, 132, 239, 166, 121, 109, 32, 46, 122, 48, 527, 199, 282, 51, 1900, 642, 155, 323, 288, 497, 509, 79, 49, 270, 511, 80, 128, 115, 156, 204, 143, 140, 152, 220, 134, 225, 94, 74, 135, 142, 50, 77, 40, 107, 193, 179, 34, 64, 453, 57, 81, 28, 78, 133, 43, 425, 88, 42, 36, 233, 376, 210, 444, 100, 263, 98, 29, 160, 39, 257, 6, 310, 138, 62, 293, 285, 362, 66, 69, 58, 21, 20, 131, 38, 406, 68, 108, 110, 93, 512, 443, 306, 352, 422, 585, 346, 178, 841, 76, 394, 72, 172, 44, 407, 230, 367, 295, 157, 243, 56, 111, 326, 679, 18, 92, 59, 25, 184, 53, 12, 90, 55, 73, 11, 566, 180, 83, 262, 17, 26, 31, 280, 359, 213, 297, 387, 480, 381, 677, 486, 8, 244, 129, 388, 275, 319, 2000, 52, 91, 421, 153, 27, 41, 222, 35, 102, 23, 30, 33, 146, 13, 19, 14, 106, 276, 568, 353, 47, 478, 249, 254, 369, 219, 565, 237, 227, 434, 375, 162, 605, 654, 3, 7, 9, 104, 114, 186, 446, 756, 22, 139, 500, 67, 147, 149, 16, 82, 54, 37, 15, 1300, 3000, 952, 5, 749, 541, 330, 393, 517, 770, 409, 170, 125, 283, 342, 363, 580, 105, 217, 24, 141, 10, 427, 158, 426, 4, 666, 181, 324, 979, 1400, 302, 751, 298, 411, 944, 2, 947, 292, 349, 621, 1, 2800, 338, 287, 261, 218, 1800, 240, 279, 229, 188, 315, 664, 613, 190, 706, 127, 462, 386, 695, 491, 167, 281, 250, 307, 95, 231, 174, 680, 633, 221, 348, 602, 183, 653, 195, 164, 151, 258, 8400, 343, 419, 655, 136, 399, 531, 357, 228, 385, 312, 340, 238, 487, 355, 499, 4300, 296, 515, 943, 1200, 903, 335, 191, 594, 267, 617, 516, 504, 331, 652, 410, 550, 473, 442, 344, 208, 1000, 2500, 273, 485, 826, 192, 405, 941, 477, 644, 303, 417, 6000, NA\n",
      "\n"
     ]
    }
   ],
   "source": [
    "fifa_preview <-fifa_datasets %>% select(-Name,-LongName)\n",
    "list_unique_elements_compact <- function(fifa_preview) {\n",
    "  for (col in names(fifa_preview)) {\n",
    "    unique_elements <- unique(fifa_preview[[col]])  # Get unique elements\n",
    "    cat(paste0(col, \": \", paste(unique_elements, collapse = \", \"),  \"\\n\\n\"))  # Print column name and unique elements\n",
    "  }\n",
    "}\n",
    "list_unique_elements_compact(fifa_preview)\n"
   ]
  },
  {
   "cell_type": "markdown",
   "id": "c71893ac-3bf7-45f3-95fa-8e673c89d7cd",
   "metadata": {},
   "source": [
    "Thanks for Reading "
   ]
  },
  {
   "cell_type": "markdown",
   "id": "8d9da041-e180-496f-aaf2-051ee20a3414",
   "metadata": {},
   "source": [
    "By **Afahaene Gabriel Asuquo**"
   ]
  },
  {
   "cell_type": "code",
   "execution_count": null,
   "id": "cc210f4a-4add-44bf-b587-b69793949972",
   "metadata": {},
   "outputs": [],
   "source": []
  }
 ],
 "metadata": {
  "kernelspec": {
   "display_name": "R",
   "language": "R",
   "name": "ir"
  },
  "language_info": {
   "codemirror_mode": "r",
   "file_extension": ".r",
   "mimetype": "text/x-r-source",
   "name": "R",
   "pygments_lexer": "r",
   "version": "4.3.2"
  }
 },
 "nbformat": 4,
 "nbformat_minor": 5
}
